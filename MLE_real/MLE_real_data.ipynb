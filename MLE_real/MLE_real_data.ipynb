{
 "cells": [
  {
   "cell_type": "code",
   "execution_count": 10,
   "metadata": {},
   "outputs": [],
   "source": [
    "import numpy as np\n",
    "import random\n",
    "import pandas as pd\n",
    "from scipy.optimize import minimize\n",
    "from scipy import stats\n",
    "import matplotlib.pyplot as plt\n",
    "%matplotlib inline\n",
    "import scipy.io as sio\n",
    "import statsmodels.api as sm"
   ]
  },
  {
   "cell_type": "markdown",
   "metadata": {},
   "source": [
    "# Important Note\n",
    "\n",
    "### purpose of this file is to get parameters (alphaG, alphaL, beta) of Q learning for real behavioral data\n",
    "\n",
    "### reward in this file is always subjective reward, i.e. 0 <==> the rat did not get reward"
   ]
  },
  {
   "cell_type": "markdown",
   "metadata": {},
   "source": [
    "## MLE Functions"
   ]
  },
  {
   "cell_type": "code",
   "execution_count": 11,
   "metadata": {},
   "outputs": [],
   "source": [
    "# action is from choice_Log consisting of 1 and 2s\n",
    "# reward is subjective, depending on whether the rat got reward\n",
    "def neg_log_likelihood_2Q_2alpha(alphaG,alphaL,beta,actions,rewards,Q=[0.1,0.1],gamma=0,Qleft=True): \n",
    "    n = len(actions)\n",
    "    sum_ll = 0\n",
    "    for i in range(n):\n",
    "        turn = int(actions[i] - 1)\n",
    "        rew = int(rewards[i])\n",
    "        \n",
    "        if int(rew) == 1: # alpha_gain\n",
    "            Q[turn] = Q[turn] + alphaG*(rew - Q[turn] + gamma*np.max(Q))\n",
    "        elif int(rew) == 0: # alpha_loss\n",
    "            Q[turn] = Q[turn] + alphaL*(rew - Q[turn] + gamma*np.max(Q))\n",
    "        \n",
    "        temp = 1/(np.exp(0-beta*(Q[0])) + 1)\n",
    "        \n",
    "        if int(turn) == 0:\n",
    "            prob = temp\n",
    "        else:\n",
    "            prob = 1 - temp\n",
    "        \n",
    "        sum_ll = sum_ll - np.log(prob + np.exp(0-8)) # add a smoother to avoid warnings\n",
    "    \n",
    "    return sum_ll/50 #rescale"
   ]
  },
  {
   "cell_type": "code",
   "execution_count": 130,
   "metadata": {},
   "outputs": [],
   "source": [
    "# action is from choice_Log consisting of 1 and 2s\n",
    "# reward is subjective, depending on whether the rat got reward\n",
    "def neg_log_likelihood_2Q_2alpha_vec(alphaG,alphaL,beta,actions,rewards,Q=[0.1,0.1],gamma=0,Qleft=True): \n",
    "    n = len(actions)\n",
    "    sum_ll = 0\n",
    "    for i in range(n):\n",
    "        turn = int(actions[i] - 1)\n",
    "        rew = int(rewards[i])\n",
    "        \n",
    "        if int(rew) == 1: # alpha_gain\n",
    "            Q[turn] = Q[turn] + alphaG*(rew - Q[turn] + gamma*np.max(Q))\n",
    "        elif int(rew) == 0: # alpha_loss\n",
    "            Q[turn] = Q[turn] + alphaL*(rew - Q[turn] + gamma*np.max(Q))\n",
    "        \n",
    "        temp = 1/(np.exp(0-beta*(Q[0]-Q[1])) + 1)\n",
    "        \n",
    "        if int(turn) == 0:\n",
    "            prob = temp\n",
    "        else:\n",
    "            prob = 1 - temp\n",
    "        \n",
    "        sum_ll = sum_ll - np.log(prob + np.exp(0-8)) # add a smoother to avoid warnings\n",
    "    \n",
    "    return sum_ll/50 #rescale"
   ]
  },
  {
   "cell_type": "code",
   "execution_count": 13,
   "metadata": {},
   "outputs": [],
   "source": [
    "# params = [alphaG0,alphaL0,beta0]\n",
    "# args = [actions,rewards]\n",
    "def helper_func_2alpha(params,args):\n",
    "    alphaG0 = params[0]\n",
    "    alphaL0 = params[1]\n",
    "    beta0 = params[2]\n",
    "    actions = args[0]\n",
    "    rewards = args[1]\n",
    "    \n",
    "    sum_ll = neg_log_likelihood_2Q_2alpha(alphaG0,alphaL0,beta0,actions,rewards)\n",
    "    \n",
    "    return sum_ll"
   ]
  },
  {
   "cell_type": "code",
   "execution_count": 14,
   "metadata": {},
   "outputs": [],
   "source": [
    "# function that estimates the maximum-likelihood beta_hat numerically\n",
    "# parameters: actions, a numpy array recording action of agent in each turn; beta is the parameter in density func\n",
    "# return minimization summary and print beta_hat\n",
    "def MLE_2alpha(actions,rewards,alphaG0,alphaL0,beta0):\n",
    "    initial_guess = [alphaG0,alphaL0,beta0]\n",
    "    args = [actions,rewards]\n",
    "    bounds = ((0,1),(0,1),(0,20))\n",
    "    result = minimize(helper_func_2alpha,initial_guess,args=args,bounds = bounds)\n",
    "    if(result.success):\n",
    "        #print(result.message)\n",
    "        #print('The MLE for beta is', result.x)\n",
    "        #print('Iteration =', result.nit)\n",
    "        a=0\n",
    "    else:\n",
    "        print('The optimization did not converge, beta0 equals', beta0,', and alphaG0 equals',alphaG0)\n",
    "    return result\n",
    "    \n",
    "    "
   ]
  },
  {
   "cell_type": "code",
   "execution_count": 35,
   "metadata": {},
   "outputs": [],
   "source": [
    "def my_minimize(actions,rewards, alphaG=0, alphaL=0, beta=0):\n",
    "    likelihoods = []\n",
    "    #step = 1/10  #1/int(iteration**(1/3))\n",
    "    alphaG_arr = np.arange(0,1,0.05)\n",
    "    alphaL_arr = np.arange(0,1,0.05)\n",
    "    beta_arr = np.arange(0,20,0.5)\n",
    "    num_G = len(alphaG_arr)\n",
    "    num_L = len(alphaL_arr)\n",
    "    num_b = len(beta_arr)\n",
    "    \n",
    "    index_G = 0\n",
    "    index_L = 0\n",
    "    index_b = 0\n",
    "    Gvec=[]\n",
    "    Lvec=[]\n",
    "    Bvec=[]\n",
    "    \n",
    "    temp = 100000\n",
    "    \n",
    "    for i in range(num_G):\n",
    "        Gvec.append(i)\n",
    "        for j in range(num_L):\n",
    "            Lvec.append(j)\n",
    "            for k in range(num_b):\n",
    "                Bvec.append(k)\n",
    "                ll = neg_log_likelihood_2Q_2alpha(alphaG_arr[i],alphaL_arr[j],beta_arr[k],actions,rewards)\n",
    "                likelihoods.append(ll)\n",
    "                \n",
    "                if(ll < temp):\n",
    "                    temp = ll\n",
    "                    index_G = i\n",
    "                    index_L = j\n",
    "                    index_b = k\n",
    "    \n",
    "    alphaG_ = alphaG_arr[index_G]\n",
    "    alphaL_ = alphaL_arr[index_L]\n",
    "    beta_ = beta_arr[index_b]\n",
    "    \n",
    "    return [alphaG_,alphaL_,beta_],likelihoods,[Gvec,Lvec,Bvec]"
   ]
  },
  {
   "cell_type": "code",
   "execution_count": 16,
   "metadata": {},
   "outputs": [],
   "source": [
    "# fix alphaG and alphaL, see ll changes versus beta\n",
    "def my_minimize2(actions,rewards, alphaG=0, alphaL=0):\n",
    "    likelihoods = []\n",
    "    #step = 1/10  #1/int(iteration**(1/3))\n",
    "\n",
    "    beta_arr = np.arange(0,20,0.5)\n",
    "\n",
    "    num_b = len(beta_arr)\n",
    "\n",
    "    index_b = 0\n",
    "    \n",
    "    temp = 100000\n",
    "    \n",
    "    for i in range(num_b):\n",
    "                \n",
    "        ll = neg_log_likelihood_2Q_2alpha(alphaG,alphaL,beta_arr[i],actions,rewards)\n",
    "        likelihoods.append(ll)\n",
    "                \n",
    "        if(ll < temp):\n",
    "            temp = ll\n",
    "            index_b = i\n",
    "    \n",
    "\n",
    "    beta_ = beta_arr[index_b]\n",
    "    \n",
    "    return beta_,likelihoods"
   ]
  },
  {
   "cell_type": "code",
   "execution_count": 50,
   "metadata": {},
   "outputs": [],
   "source": [
    "# fix beta, alphaG\n",
    "def my_minimize3(actions,rewards,beta=3):\n",
    "    likelihoods = []\n",
    "    #step = 1/10  #1/int(iteration**(1/3))\n",
    "    alphaG_arr = np.arange(0,1,0.05)\n",
    "    alphaL_arr = np.arange(0,1,0.05)\n",
    "\n",
    "    num_G = len(alphaG_arr)\n",
    "    num_L = len(alphaL_arr)\n",
    "    \n",
    "    index_G = 0\n",
    "    index_L = 0\n",
    "    Gvec=[]\n",
    "    Lvec=[]\n",
    "    \n",
    "    temp = 100000\n",
    "    \n",
    "    for i in range(num_G):\n",
    "        Gvec.append(i)\n",
    "        for j in range(num_L):\n",
    "            Lvec.append(j)\n",
    "            ll = neg_log_likelihood_2Q_2alpha(alphaG_arr[i],alphaL_arr[j],beta,actions,rewards)\n",
    "            likelihoods.append(ll)\n",
    "                \n",
    "            if(ll < temp):\n",
    "                temp = ll\n",
    "                index_G = i\n",
    "                index_L = j\n",
    "    \n",
    "    alphaG_ = alphaG_arr[index_G]\n",
    "    alphaL_ = alphaL_arr[index_L]\n",
    "    \n",
    "    return [alphaG_,alphaL_],likelihoods,[Gvec,Lvec]"
   ]
  },
  {
   "cell_type": "code",
   "execution_count": 27,
   "metadata": {},
   "outputs": [],
   "source": [
    "def my_minimize_vec(actions,rewards, alphaG=0, alphaL=0, beta=0):\n",
    "    likelihoods = []\n",
    "    #step = 1/10  #1/int(iteration**(1/3))\n",
    "    alphaG_arr = np.arange(0,1,0.05)\n",
    "    alphaL_arr = np.arange(0,1,0.05)\n",
    "    beta_arr = np.arange(0,20,0.5)\n",
    "    num_G = len(alphaG_arr)\n",
    "    num_L = len(alphaL_arr)\n",
    "    num_b = len(beta_arr)\n",
    "    \n",
    "    index_G = 0\n",
    "    index_L = 0\n",
    "    index_b = 0\n",
    "    \n",
    "    temp = 100000\n",
    "    \n",
    "    for i in range(num_G):\n",
    "        for j in range(num_L):\n",
    "            for k in range(num_b):\n",
    "                \n",
    "                ll = neg_log_likelihood_2Q_2alpha(alphaG_arr[i],alphaL_arr[j],beta_arr[k],actions,rewards)\n",
    "                likelihoods.append(ll)\n",
    "                \n",
    "                if(ll < temp):\n",
    "                    temp = ll\n",
    "                    index_G = i\n",
    "                    index_L = j\n",
    "                    index_b = k\n",
    "    \n",
    "    alphaG_ = alphaG_arr[index_G]\n",
    "    alphaL_ = alphaL_arr[index_L]\n",
    "    beta_ = beta_arr[index_b]\n",
    "    \n",
    "    return [alphaG_,alphaL_,beta_]"
   ]
  },
  {
   "cell_type": "markdown",
   "metadata": {},
   "source": [
    "## Simulation Test\n"
   ]
  },
  {
   "cell_type": "code",
   "execution_count": 19,
   "metadata": {},
   "outputs": [],
   "source": [
    "# different from the one in data_processing.ipynb\n",
    "class sim_env():\n",
    "    obs_size=1\n",
    "    action_size=2\n",
    "    def __init__(self,left=0.2,right=0.8,state=0):\n",
    "        self.left=left\n",
    "        self.right=right\n",
    "        self.obslog=[]\n",
    "        self.state=state\n",
    "    def step(self,action,state=0):\n",
    "        '''takes in the action param as a int of 0 or 1\n",
    "        where 0 is go left and 1 is to right, and returns\n",
    "        a return reward where 0 is no reward'''\n",
    "        reward_site = random.uniform(0,1)\n",
    "        reward_right=int(reward_site<self.right)+1\n",
    "        if reward_right==action:\n",
    "            obs=1\n",
    "        else:\n",
    "            obs=0\n",
    "        self.obslog.append(obs)\n",
    "        return obs\n",
    "\n",
    "class Rat():\n",
    "    def __init__(self,epoched_df=None,alphaG=None,alphaL=None,beta=None,gamma=0,init_Q=np.array([-1,-1]),sim=True):\n",
    "        self.gamma=gamma\n",
    "        self.df=epoched_df\n",
    "        self.count=0\n",
    "        self.beta=beta\n",
    "        self.PElog=[] # prediction error (Q-R)\n",
    "        self.PElog.append(0)\n",
    "        self.choice_Log=[]\n",
    "        self.obsLog=[]\n",
    "        self.lhLog=[]\n",
    "        self.Qdifflog=[]\n",
    "        if sim==False:\n",
    "            self.alphaG=epoched_df['alpha_gain'].iloc[1]\n",
    "            self.alphaL=epoched_df['alpha_loss'].iloc[1]\n",
    "            self.beta=epoched_df['beta'].iloc[1]\n",
    "            self.actions=epoched_df['action']\n",
    "        else:\n",
    "            self.alphaG=alphaG\n",
    "            self.alphaL=alphaL\n",
    "            self.beta=beta\n",
    "        if (init_Q==np.array([-1,-1])).all():\n",
    "            self.Q=np.random.rand(2) # Q[0] represent left\n",
    "        else:\n",
    "            self.Q=init_Q\n",
    "        self.Qlog=self.Q\n",
    "        self.qlog=[0]\n",
    "    def get_action(self):\n",
    "        temp=self.count+0\n",
    "        self.count+=1\n",
    "        self.choice_Log.append(self.actions.iloc[temp])\n",
    "        return self.actions.iloc[temp]\n",
    "    def get_choice(self):\n",
    "        self.count+=1\n",
    "        self.Qdifflog.append(self.Q[0]-self.Q[1])\n",
    "        if np.random.uniform()<1/(1+np.exp(self.beta*(self.Q[0]-self.Q[1]))):\n",
    "            self.choice_Log.append(1)\n",
    "            return 1\n",
    "        else:\n",
    "            self.choice_Log.append(2)\n",
    "            return 2\n",
    "    def update(self,obs): # 1 represent left \n",
    "        action_id=int(self.choice_Log[-1]-1)\n",
    "        self.obsLog.append(obs)\n",
    "        self.PElog.append(self.Q[action_id]-obs)\n",
    "        if int(obs)==1: # alpha_gain\n",
    "            self.Q[action_id]=(1-self.alphaG)*self.Q[action_id]+self.alphaG*(obs+self.gamma*np.max(self.Q))\n",
    "        elif int(obs)==0: # alpha_loss\n",
    "            self.Q[action_id]=(1-self.alphaL)*self.Q[action_id]+self.alphaL*(obs+self.gamma*np.max(self.Q))\n",
    "        else:\n",
    "            print('error')\n",
    "        self.lhLog.append(1/(1+np.exp(-self.beta*self.Q[action_id])))\n",
    "        self.Qlog=np.vstack((self.Qlog,self.Q))\n",
    "        self.qlog.append(self.Q[action_id])\n",
    "        return self.Q[action_id]\n",
    "    \n",
    "    \n",
    "def train_rat(env,rat,it_num,sim=True):\n",
    "    QLog=rat.Q\n",
    "    qlog=[0]\n",
    "    for i in range(it_num):\n",
    "        if sim:\n",
    "            action=rat.get_choice()\n",
    "        else:\n",
    "            action=rat.get_action()\n",
    "        obs=env.step(action)\n",
    "        q=rat.update(obs)\n",
    "        QLog=np.vstack((QLog,rat.Q))\n",
    "        qlog.append(q)\n",
    "    return env,rat\n"
   ]
  },
  {
   "cell_type": "code",
   "execution_count": 125,
   "metadata": {
    "scrolled": false
   },
   "outputs": [
    {
     "data": {
      "text/plain": [
       "[<matplotlib.lines.Line2D at 0x7fcda5172630>,\n",
       " <matplotlib.lines.Line2D at 0x7fcda5172780>]"
      ]
     },
     "execution_count": 125,
     "metadata": {},
     "output_type": "execute_result"
    },
    {
     "data": {
      "image/png": "[encoded data removed]",
      "text/plain": [
       "<Figure size 432x288 with 1 Axes>"
      ]
     },
     "metadata": {
      "needs_background": "light"
     },
     "output_type": "display_data"
    }
   ],
   "source": [
    "env=sim_env()\n",
    "aG = .2\n",
    "aL = .2\n",
    "beta = 1\n",
    "sim_rat=Rat(None,alphaG=aG,alphaL=aL,beta=beta,init_Q=np.array([0.5,0.5]))\n",
    "env,sim_rat=train_rat(env,sim_rat,300)\n",
    "plt.plot(sim_rat.Qlog)"
   ]
  },
  {
   "cell_type": "code",
   "execution_count": 21,
   "metadata": {},
   "outputs": [
    {
     "data": {
      "text/plain": [
       "40"
      ]
     },
     "execution_count": 21,
     "metadata": {},
     "output_type": "execute_result"
    }
   ],
   "source": [
    "truth = 0\n",
    "for i in range(len(sim_rat.choice_Log)):\n",
    "    if sim_rat.choice_Log[i] == 2:\n",
    "        truth = truth + 1\n",
    "truth"
   ]
  },
  {
   "cell_type": "code",
   "execution_count": 22,
   "metadata": {},
   "outputs": [
    {
     "data": {
      "text/plain": [
       "0.7677194343359458"
      ]
     },
     "execution_count": 22,
     "metadata": {},
     "output_type": "execute_result"
    }
   ],
   "source": [
    "np.mean(sim_rat.Qlog[:,1])"
   ]
  },
  {
   "cell_type": "code",
   "execution_count": 131,
   "metadata": {},
   "outputs": [],
   "source": [
    "#MLE on simulation data\n",
    "#try my minimizer\n",
    "action = sim_rat.choice_Log\n",
    "reward = sim_rat.obsLog\n",
    "param,ll,xyz = my_minimize(action,reward)"
   ]
  },
  {
   "cell_type": "code",
   "execution_count": 132,
   "metadata": {},
   "outputs": [],
   "source": [
    "from mpl_toolkits.mplot3d import Axes3D"
   ]
  },
  {
   "cell_type": "code",
   "execution_count": 136,
   "metadata": {},
   "outputs": [
    {
     "data": {
      "text/plain": [
       "[0.6000000000000001, 0.0, 0.5]"
      ]
     },
     "execution_count": 136,
     "metadata": {},
     "output_type": "execute_result"
    }
   ],
   "source": [
    "param"
   ]
  },
  {
   "cell_type": "code",
   "execution_count": 70,
   "metadata": {},
   "outputs": [
    {
     "data": {
      "text/plain": [
       "array([0, 0, 0, 0, 0, 0, 0, 0, 0, 0, 0, 0, 0, 0, 0, 0, 0, 0, 0, 0])"
      ]
     },
     "execution_count": 70,
     "metadata": {},
     "output_type": "execute_result"
    }
   ],
   "source": [
    "j[0]"
   ]
  },
  {
   "cell_type": "code",
   "execution_count": 112,
   "metadata": {},
   "outputs": [
    {
     "data": {
      "image/png": "[encoded data removed]",
      "text/plain": [
       "<Figure size 432x288 with 1 Axes>"
      ]
     },
     "metadata": {
      "needs_background": "light"
     },
     "output_type": "display_data"
    }
   ],
   "source": [
    "i=np.arange(1,21)\n",
    "j=np.arange(1,21)\n",
    "ll=np.array(ll)\n",
    "ll=ll.reshape(20,20)\n",
    "fig=plt.figure()\n",
    "ax = fig.add_subplot(111, projection='3d')\n",
    "ax.plot_surface(j,i,ll, rstride=5, cstride=5)\n",
    "plt.xlabel('alphaG')\n",
    "plt.ylabel('alphaL')\n",
    "ax.view_init(azim=10)"
   ]
  },
  {
   "cell_type": "code",
   "execution_count": 103,
   "metadata": {},
   "outputs": [
    {
     "name": "stdout",
     "output_type": "stream",
     "text": [
      "The optimization did not converge, beta0 equals 4 , and alphaG0 equals 0.3\n"
     ]
    }
   ],
   "source": [
    "#try scipy optimization\n",
    "result = MLE_2alpha(action,reward,0.3,0.5,4)"
   ]
  },
  {
   "cell_type": "code",
   "execution_count": 322,
   "metadata": {},
   "outputs": [
    {
     "data": {
      "text/plain": [
       "      fun: 4.154861380458712\n",
       " hess_inv: <3x3 LbfgsInvHessProduct with dtype=float64>\n",
       "      jac: array([5.12547551e+00, 3.53503271e-01, 7.99360578e-07])\n",
       "  message: b'ABNORMAL_TERMINATION_IN_LNSRCH'\n",
       "     nfev: 260\n",
       "      nit: 4\n",
       "   status: 2\n",
       "  success: False\n",
       "        x: array([4.56073466e-07, 8.29522574e-01, 3.43835510e+00])"
      ]
     },
     "execution_count": 322,
     "metadata": {},
     "output_type": "execute_result"
    }
   ],
   "source": [
    "result"
   ]
  },
  {
   "cell_type": "markdown",
   "metadata": {},
   "source": [
    "## Load Data"
   ]
  },
  {
   "cell_type": "code",
   "execution_count": 4,
   "metadata": {
    "collapsed": true
   },
   "outputs": [],
   "source": [
    "day1 = pd.read_csv('/Users/erika/Data/PRL/behavioral_data/Day 1.csvQ_Analysis.csv')\n",
    "day21 = pd.read_csv('/Users/erika/Data/PRL/behavioral_data/Day 21.csvQ_Analysis.csv')"
   ]
  },
  {
   "cell_type": "code",
   "execution_count": 27,
   "metadata": {},
   "outputs": [
    {
     "data": {
      "text/plain": [
       "Index(['Unnamed: 0', 'subject', 'prog', 'target_lat', 'non_target_lat', 'ITI',\n",
       "       'ISI', 'Tone', 'TargetOutcome', 'NonTargetOutcome', 'NAN', 'TargetSide',\n",
       "       'Omission', 'TimeOut', 'SessionTime', 'NAN.1', 'NAN.2',\n",
       "       'SwitchContingency', 'trial', 'position'],\n",
       "      dtype='object')"
      ]
     },
     "execution_count": 27,
     "metadata": {},
     "output_type": "execute_result"
    }
   ],
   "source": [
    "day1.columns"
   ]
  },
  {
   "cell_type": "code",
   "execution_count": 48,
   "metadata": {
    "collapsed": true,
    "scrolled": false
   },
   "outputs": [],
   "source": [
    "# Let rat 30 be chosen\n",
    "# low tone <==> reward\n",
    "day1_30 = day1[day1['subject']==30]\n",
    "day21_30 = day21[day21['subject']==30]"
   ]
  },
  {
   "cell_type": "code",
   "execution_count": 49,
   "metadata": {
    "collapsed": true
   },
   "outputs": [],
   "source": [
    "day1_30 = day1_30[['Tone','TargetOutcome','NonTargetOutcome','TargetSide']]\n",
    "day21_30 = day21_30[['Tone','TargetOutcome','NonTargetOutcome','TargetSide']]"
   ]
  },
  {
   "cell_type": "code",
   "execution_count": 72,
   "metadata": {},
   "outputs": [
    {
     "data": {
      "text/html": [
       "<div>\n",
       "<style>\n",
       "    .dataframe thead tr:only-child th {\n",
       "        text-align: right;\n",
       "    }\n",
       "\n",
       "    .dataframe thead th {\n",
       "        text-align: left;\n",
       "    }\n",
       "\n",
       "    .dataframe tbody tr th {\n",
       "        vertical-align: top;\n",
       "    }\n",
       "</style>\n",
       "<table border=\"1\" class=\"dataframe\">\n",
       "  <thead>\n",
       "    <tr style=\"text-align: right;\">\n",
       "      <th></th>\n",
       "      <th>Tone</th>\n",
       "      <th>TargetOutcome</th>\n",
       "      <th>NonTargetOutcome</th>\n",
       "      <th>TargetSide</th>\n",
       "    </tr>\n",
       "  </thead>\n",
       "  <tbody>\n",
       "    <tr>\n",
       "      <th>291</th>\n",
       "      <td>2000.0</td>\n",
       "      <td>1.0</td>\n",
       "      <td>0.0</td>\n",
       "      <td>1.0</td>\n",
       "    </tr>\n",
       "    <tr>\n",
       "      <th>292</th>\n",
       "      <td>5000.0</td>\n",
       "      <td>0.0</td>\n",
       "      <td>-1.0</td>\n",
       "      <td>1.0</td>\n",
       "    </tr>\n",
       "    <tr>\n",
       "      <th>293</th>\n",
       "      <td>5000.0</td>\n",
       "      <td>0.0</td>\n",
       "      <td>-1.0</td>\n",
       "      <td>1.0</td>\n",
       "    </tr>\n",
       "    <tr>\n",
       "      <th>294</th>\n",
       "      <td>2000.0</td>\n",
       "      <td>0.0</td>\n",
       "      <td>1.0</td>\n",
       "      <td>1.0</td>\n",
       "    </tr>\n",
       "    <tr>\n",
       "      <th>295</th>\n",
       "      <td>5000.0</td>\n",
       "      <td>-1.0</td>\n",
       "      <td>0.0</td>\n",
       "      <td>1.0</td>\n",
       "    </tr>\n",
       "    <tr>\n",
       "      <th>296</th>\n",
       "      <td>5000.0</td>\n",
       "      <td>0.0</td>\n",
       "      <td>-1.0</td>\n",
       "      <td>1.0</td>\n",
       "    </tr>\n",
       "    <tr>\n",
       "      <th>297</th>\n",
       "      <td>2000.0</td>\n",
       "      <td>0.0</td>\n",
       "      <td>1.0</td>\n",
       "      <td>1.0</td>\n",
       "    </tr>\n",
       "    <tr>\n",
       "      <th>298</th>\n",
       "      <td>5000.0</td>\n",
       "      <td>0.0</td>\n",
       "      <td>-1.0</td>\n",
       "      <td>1.0</td>\n",
       "    </tr>\n",
       "    <tr>\n",
       "      <th>299</th>\n",
       "      <td>5000.0</td>\n",
       "      <td>0.0</td>\n",
       "      <td>-1.0</td>\n",
       "      <td>1.0</td>\n",
       "    </tr>\n",
       "    <tr>\n",
       "      <th>300</th>\n",
       "      <td>5000.0</td>\n",
       "      <td>0.0</td>\n",
       "      <td>-1.0</td>\n",
       "      <td>1.0</td>\n",
       "    </tr>\n",
       "  </tbody>\n",
       "</table>\n",
       "</div>"
      ],
      "text/plain": [
       "       Tone  TargetOutcome  NonTargetOutcome  TargetSide\n",
       "291  2000.0            1.0               0.0         1.0\n",
       "292  5000.0            0.0              -1.0         1.0\n",
       "293  5000.0            0.0              -1.0         1.0\n",
       "294  2000.0            0.0               1.0         1.0\n",
       "295  5000.0           -1.0               0.0         1.0\n",
       "296  5000.0            0.0              -1.0         1.0\n",
       "297  2000.0            0.0               1.0         1.0\n",
       "298  5000.0            0.0              -1.0         1.0\n",
       "299  5000.0            0.0              -1.0         1.0\n",
       "300  5000.0            0.0              -1.0         1.0"
      ]
     },
     "execution_count": 72,
     "metadata": {},
     "output_type": "execute_result"
    }
   ],
   "source": [
    "day1_30[:10]"
   ]
  },
  {
   "cell_type": "markdown",
   "metadata": {},
   "source": [
    "## Get Actions and Rewards"
   ]
  },
  {
   "cell_type": "code",
   "execution_count": 73,
   "metadata": {},
   "outputs": [
    {
     "data": {
      "text/plain": [
       "True"
      ]
     },
     "execution_count": 73,
     "metadata": {},
     "output_type": "execute_result"
    }
   ],
   "source": [
    "1.0 ==1"
   ]
  },
  {
   "cell_type": "code",
   "execution_count": 74,
   "metadata": {
    "collapsed": true
   },
   "outputs": [],
   "source": [
    "#df: 4 columns of 'Tone','TargetOutcome','NonTargetOutcome','TargetSide'; df is for one rat in one session\n",
    "# consisting of 1(left) and 2(right)\n",
    "# suppose TargetSide=1.0 means left, 4.0 means right\n",
    "def get_action(df):\n",
    "    actions = []\n",
    "    targetSide = df['TargetSide'].tolist()\n",
    "    targetOut = df['TargetOutcome'].tolist()\n",
    "    for i in range(df.shape[0]):\n",
    "        act = -1\n",
    "        if(targetSide[i]==1.0):\n",
    "            if(targetOut[i]==0):\n",
    "                act = 2\n",
    "            else:\n",
    "                act = 1\n",
    "        else:\n",
    "            if(targetOut[i]==0):\n",
    "                act = 1\n",
    "            else:\n",
    "                act = 2\n",
    "        actions.append(act)\n",
    "        \n",
    "    return actions\n",
    "    "
   ]
  },
  {
   "cell_type": "code",
   "execution_count": 77,
   "metadata": {
    "collapsed": true
   },
   "outputs": [],
   "source": [
    "# df: 4 columns of 'Tone','TargetOutcome','NonTargetOutcome','TargetSide'; df is for one rat in one session\n",
    "# reward is subjective, depending on whether the rat got reward\n",
    "def get_reward(df):\n",
    "    rewards = []\n",
    "    targetOut = df['TargetOutcome'].tolist()\n",
    "    nontargetOut = df['NonTargetOutcome'].tolist()\n",
    "    \n",
    "    for i in range(df.shape[0]):\n",
    "        rew = -1\n",
    "        if(targetOut[i] == 1 or nontargetOut[i] == 1):\n",
    "            rew = 1\n",
    "        else:\n",
    "            rew = 0\n",
    "        rewards.append(rew)\n",
    "        \n",
    "    return rewards"
   ]
  },
  {
   "cell_type": "markdown",
   "metadata": {},
   "source": [
    "## Test"
   ]
  },
  {
   "cell_type": "code",
   "execution_count": 146,
   "metadata": {},
   "outputs": [
    {
     "data": {
      "text/html": [
       "<div>\n",
       "<style>\n",
       "    .dataframe thead tr:only-child th {\n",
       "        text-align: right;\n",
       "    }\n",
       "\n",
       "    .dataframe thead th {\n",
       "        text-align: left;\n",
       "    }\n",
       "\n",
       "    .dataframe tbody tr th {\n",
       "        vertical-align: top;\n",
       "    }\n",
       "</style>\n",
       "<table border=\"1\" class=\"dataframe\">\n",
       "  <thead>\n",
       "    <tr style=\"text-align: right;\">\n",
       "      <th></th>\n",
       "      <th>trial</th>\n",
       "      <th>TargetOffset</th>\n",
       "      <th>NonTargetOffset</th>\n",
       "      <th>ITI</th>\n",
       "      <th>ISI</th>\n",
       "      <th>Tone</th>\n",
       "      <th>TargetReward</th>\n",
       "      <th>NonTargetReward</th>\n",
       "      <th>RewardLat</th>\n",
       "      <th>Target Lever</th>\n",
       "      <th>...</th>\n",
       "      <th>response</th>\n",
       "      <th>feedback</th>\n",
       "      <th>state</th>\n",
       "      <th>action</th>\n",
       "      <th>reward</th>\n",
       "      <th>alpha_gain</th>\n",
       "      <th>alpha_loss</th>\n",
       "      <th>beta</th>\n",
       "      <th>Q</th>\n",
       "      <th>PE</th>\n",
       "    </tr>\n",
       "  </thead>\n",
       "  <tbody>\n",
       "    <tr>\n",
       "      <th>0</th>\n",
       "      <td>1</td>\n",
       "      <td>31507</td>\n",
       "      <td>0</td>\n",
       "      <td>0</td>\n",
       "      <td>0</td>\n",
       "      <td>0</td>\n",
       "      <td>-1</td>\n",
       "      <td>0</td>\n",
       "      <td>0</td>\n",
       "      <td>0</td>\n",
       "      <td>...</td>\n",
       "      <td>rich</td>\n",
       "      <td>0.0</td>\n",
       "      <td>1.0</td>\n",
       "      <td>1.0</td>\n",
       "      <td>0.0</td>\n",
       "      <td>0.139603</td>\n",
       "      <td>1.0</td>\n",
       "      <td>20.0</td>\n",
       "      <td>0.000000</td>\n",
       "      <td>-0.500000</td>\n",
       "    </tr>\n",
       "    <tr>\n",
       "      <th>1</th>\n",
       "      <td>2</td>\n",
       "      <td>32538</td>\n",
       "      <td>0</td>\n",
       "      <td>0</td>\n",
       "      <td>0</td>\n",
       "      <td>0</td>\n",
       "      <td>1</td>\n",
       "      <td>0</td>\n",
       "      <td>0</td>\n",
       "      <td>0</td>\n",
       "      <td>...</td>\n",
       "      <td>rich</td>\n",
       "      <td>1.0</td>\n",
       "      <td>1.0</td>\n",
       "      <td>1.0</td>\n",
       "      <td>1.0</td>\n",
       "      <td>0.139603</td>\n",
       "      <td>1.0</td>\n",
       "      <td>20.0</td>\n",
       "      <td>0.139603</td>\n",
       "      <td>1.000000</td>\n",
       "    </tr>\n",
       "    <tr>\n",
       "      <th>2</th>\n",
       "      <td>3</td>\n",
       "      <td>0</td>\n",
       "      <td>33594</td>\n",
       "      <td>0</td>\n",
       "      <td>0</td>\n",
       "      <td>0</td>\n",
       "      <td>0</td>\n",
       "      <td>-1</td>\n",
       "      <td>0</td>\n",
       "      <td>0</td>\n",
       "      <td>...</td>\n",
       "      <td>lean</td>\n",
       "      <td>0.0</td>\n",
       "      <td>1.0</td>\n",
       "      <td>2.0</td>\n",
       "      <td>0.0</td>\n",
       "      <td>0.139603</td>\n",
       "      <td>1.0</td>\n",
       "      <td>20.0</td>\n",
       "      <td>0.000000</td>\n",
       "      <td>-0.500000</td>\n",
       "    </tr>\n",
       "    <tr>\n",
       "      <th>3</th>\n",
       "      <td>4</td>\n",
       "      <td>34626</td>\n",
       "      <td>0</td>\n",
       "      <td>0</td>\n",
       "      <td>0</td>\n",
       "      <td>0</td>\n",
       "      <td>1</td>\n",
       "      <td>0</td>\n",
       "      <td>0</td>\n",
       "      <td>0</td>\n",
       "      <td>...</td>\n",
       "      <td>rich</td>\n",
       "      <td>1.0</td>\n",
       "      <td>1.0</td>\n",
       "      <td>1.0</td>\n",
       "      <td>1.0</td>\n",
       "      <td>0.139603</td>\n",
       "      <td>1.0</td>\n",
       "      <td>20.0</td>\n",
       "      <td>0.259718</td>\n",
       "      <td>0.860397</td>\n",
       "    </tr>\n",
       "    <tr>\n",
       "      <th>4</th>\n",
       "      <td>5</td>\n",
       "      <td>0</td>\n",
       "      <td>35533</td>\n",
       "      <td>0</td>\n",
       "      <td>0</td>\n",
       "      <td>0</td>\n",
       "      <td>0</td>\n",
       "      <td>-1</td>\n",
       "      <td>0</td>\n",
       "      <td>0</td>\n",
       "      <td>...</td>\n",
       "      <td>lean</td>\n",
       "      <td>0.0</td>\n",
       "      <td>1.0</td>\n",
       "      <td>2.0</td>\n",
       "      <td>0.0</td>\n",
       "      <td>0.139603</td>\n",
       "      <td>1.0</td>\n",
       "      <td>20.0</td>\n",
       "      <td>0.000000</td>\n",
       "      <td>0.000000</td>\n",
       "    </tr>\n",
       "  </tbody>\n",
       "</table>\n",
       "<p>5 rows × 37 columns</p>\n",
       "</div>"
      ],
      "text/plain": [
       "   trial  TargetOffset  NonTargetOffset  ITI  ISI  Tone  TargetReward  \\\n",
       "0      1         31507                0    0    0     0            -1   \n",
       "1      2         32538                0    0    0     0             1   \n",
       "2      3             0            33594    0    0     0             0   \n",
       "3      4         34626                0    0    0     0             1   \n",
       "4      5             0            35533    0    0     0             0   \n",
       "\n",
       "   NonTargetReward  RewardLat  Target Lever    ...     response  feedback  \\\n",
       "0                0          0             0    ...         rich       0.0   \n",
       "1                0          0             0    ...         rich       1.0   \n",
       "2               -1          0             0    ...         lean       0.0   \n",
       "3                0          0             0    ...         rich       1.0   \n",
       "4               -1          0             0    ...         lean       0.0   \n",
       "\n",
       "   state  action  reward  alpha_gain  alpha_loss  beta         Q        PE  \n",
       "0    1.0     1.0     0.0    0.139603         1.0  20.0  0.000000 -0.500000  \n",
       "1    1.0     1.0     1.0    0.139603         1.0  20.0  0.139603  1.000000  \n",
       "2    1.0     2.0     0.0    0.139603         1.0  20.0  0.000000 -0.500000  \n",
       "3    1.0     1.0     1.0    0.139603         1.0  20.0  0.259718  0.860397  \n",
       "4    1.0     2.0     0.0    0.139603         1.0  20.0  0.000000  0.000000  \n",
       "\n",
       "[5 rows x 37 columns]"
      ]
     },
     "execution_count": 146,
     "metadata": {},
     "output_type": "execute_result"
    }
   ],
   "source": [
    "df = pd.read_csv('/Users/erika/Data/PRL/behavioral_data/UH_RL_rats.csv')\n",
    "df.head()"
   ]
  },
  {
   "cell_type": "code",
   "execution_count": 147,
   "metadata": {
    "collapsed": true
   },
   "outputs": [],
   "source": [
    "rats = df['subject'].unique()"
   ]
  },
  {
   "cell_type": "code",
   "execution_count": 148,
   "metadata": {
    "collapsed": true
   },
   "outputs": [],
   "source": [
    "# divide df into 5 dfs according to session\n",
    "# '1,11,16,6,Best'\n",
    "session = df['session'].unique()\n",
    "df_1 = df[df['session']=='1']\n",
    "df_11 = df[df['session']=='11']\n",
    "df_16 = df[df['session']=='16']\n",
    "df_6 = df[df['session']=='6']\n",
    "df_best = df[df['session']=='Best']\n",
    "df_list = [df_1,df_11,df_16,df_6,df_best]"
   ]
  },
  {
   "cell_type": "code",
   "execution_count": 211,
   "metadata": {
    "collapsed": true
   },
   "outputs": [],
   "source": [
    "# Let rat 10 and session 'Best' be chosen\n",
    "df_10_best = df_best[df_best['subject']==10]\n",
    "df_10_best = df_10_best[['Tone','TargetReward','NonTargetReward','Target Lever','lever','response','feedback','state','action','reward','alpha_gain','alpha_loss','beta','PE','Q']]"
   ]
  },
  {
   "cell_type": "code",
   "execution_count": 236,
   "metadata": {
    "collapsed": true
   },
   "outputs": [],
   "source": [
    "df_19_best = df_best[df_best['subject']==19]\n",
    "df_19_best = df_19_best[['Tone','TargetReward','NonTargetReward','Target Lever','lever','response','feedback','state','action','reward','alpha_gain','alpha_loss','beta','PE','Q']]"
   ]
  },
  {
   "cell_type": "code",
   "execution_count": 187,
   "metadata": {},
   "outputs": [
    {
     "data": {
      "text/html": [
       "<div>\n",
       "<style>\n",
       "    .dataframe thead tr:only-child th {\n",
       "        text-align: right;\n",
       "    }\n",
       "\n",
       "    .dataframe thead th {\n",
       "        text-align: left;\n",
       "    }\n",
       "\n",
       "    .dataframe tbody tr th {\n",
       "        vertical-align: top;\n",
       "    }\n",
       "</style>\n",
       "<table border=\"1\" class=\"dataframe\">\n",
       "  <thead>\n",
       "    <tr style=\"text-align: right;\">\n",
       "      <th></th>\n",
       "      <th>alpha_gain</th>\n",
       "      <th>alpha_loss</th>\n",
       "      <th>beta</th>\n",
       "    </tr>\n",
       "  </thead>\n",
       "  <tbody>\n",
       "    <tr>\n",
       "      <th>888</th>\n",
       "      <td>0.480102</td>\n",
       "      <td>0.61508</td>\n",
       "      <td>0.355195</td>\n",
       "    </tr>\n",
       "    <tr>\n",
       "      <th>889</th>\n",
       "      <td>0.480102</td>\n",
       "      <td>0.61508</td>\n",
       "      <td>0.355195</td>\n",
       "    </tr>\n",
       "    <tr>\n",
       "      <th>890</th>\n",
       "      <td>0.480102</td>\n",
       "      <td>0.61508</td>\n",
       "      <td>0.355195</td>\n",
       "    </tr>\n",
       "    <tr>\n",
       "      <th>891</th>\n",
       "      <td>0.480102</td>\n",
       "      <td>0.61508</td>\n",
       "      <td>0.355195</td>\n",
       "    </tr>\n",
       "    <tr>\n",
       "      <th>892</th>\n",
       "      <td>0.480102</td>\n",
       "      <td>0.61508</td>\n",
       "      <td>0.355195</td>\n",
       "    </tr>\n",
       "  </tbody>\n",
       "</table>\n",
       "</div>"
      ],
      "text/plain": [
       "     alpha_gain  alpha_loss      beta\n",
       "888    0.480102     0.61508  0.355195\n",
       "889    0.480102     0.61508  0.355195\n",
       "890    0.480102     0.61508  0.355195\n",
       "891    0.480102     0.61508  0.355195\n",
       "892    0.480102     0.61508  0.355195"
      ]
     },
     "execution_count": 187,
     "metadata": {},
     "output_type": "execute_result"
    }
   ],
   "source": [
    "# Dan's parameters\n",
    "df_10_best[['alpha_gain','alpha_loss','beta']].head()"
   ]
  },
  {
   "cell_type": "code",
   "execution_count": 199,
   "metadata": {
    "collapsed": true
   },
   "outputs": [],
   "source": [
    "action_10_best = df_10_best['action'].tolist()\n",
    "reward_10_best = df_10_best['reward'].tolist()"
   ]
  },
  {
   "cell_type": "code",
   "execution_count": 237,
   "metadata": {
    "collapsed": true
   },
   "outputs": [],
   "source": [
    "action_19_best = df_19_best['action'].tolist()\n",
    "reward_19_best = df_19_best['reward'].tolist()"
   ]
  },
  {
   "cell_type": "code",
   "execution_count": null,
   "metadata": {
    "collapsed": true
   },
   "outputs": [],
   "source": []
  },
  {
   "cell_type": "code",
   "execution_count": 238,
   "metadata": {},
   "outputs": [
    {
     "data": {
      "text/html": [
       "<div>\n",
       "<style>\n",
       "    .dataframe thead tr:only-child th {\n",
       "        text-align: right;\n",
       "    }\n",
       "\n",
       "    .dataframe thead th {\n",
       "        text-align: left;\n",
       "    }\n",
       "\n",
       "    .dataframe tbody tr th {\n",
       "        vertical-align: top;\n",
       "    }\n",
       "</style>\n",
       "<table border=\"1\" class=\"dataframe\">\n",
       "  <thead>\n",
       "    <tr style=\"text-align: right;\">\n",
       "      <th></th>\n",
       "      <th>alpha_gain</th>\n",
       "      <th>alpha_loss</th>\n",
       "      <th>beta</th>\n",
       "    </tr>\n",
       "  </thead>\n",
       "  <tbody>\n",
       "    <tr>\n",
       "      <th>13815</th>\n",
       "      <td>0.354138</td>\n",
       "      <td>1.0</td>\n",
       "      <td>0.37386</td>\n",
       "    </tr>\n",
       "    <tr>\n",
       "      <th>13816</th>\n",
       "      <td>0.354138</td>\n",
       "      <td>1.0</td>\n",
       "      <td>0.37386</td>\n",
       "    </tr>\n",
       "    <tr>\n",
       "      <th>13817</th>\n",
       "      <td>0.354138</td>\n",
       "      <td>1.0</td>\n",
       "      <td>0.37386</td>\n",
       "    </tr>\n",
       "    <tr>\n",
       "      <th>13818</th>\n",
       "      <td>0.354138</td>\n",
       "      <td>1.0</td>\n",
       "      <td>0.37386</td>\n",
       "    </tr>\n",
       "    <tr>\n",
       "      <th>13819</th>\n",
       "      <td>0.354138</td>\n",
       "      <td>1.0</td>\n",
       "      <td>0.37386</td>\n",
       "    </tr>\n",
       "  </tbody>\n",
       "</table>\n",
       "</div>"
      ],
      "text/plain": [
       "       alpha_gain  alpha_loss     beta\n",
       "13815    0.354138         1.0  0.37386\n",
       "13816    0.354138         1.0  0.37386\n",
       "13817    0.354138         1.0  0.37386\n",
       "13818    0.354138         1.0  0.37386\n",
       "13819    0.354138         1.0  0.37386"
      ]
     },
     "execution_count": 238,
     "metadata": {},
     "output_type": "execute_result"
    }
   ],
   "source": [
    "# dan's param\n",
    "df_19_best[['alpha_gain','alpha_loss','beta']].head()"
   ]
  },
  {
   "cell_type": "code",
   "execution_count": 263,
   "metadata": {
    "collapsed": true
   },
   "outputs": [],
   "source": [
    "# difference between likelihood\n",
    "dan_ll = neg_log_likelihood_2Q_2alpha(0.3541,1.0,0.37386,action_19_best,reward_19_best)\n",
    "my_ll = neg_log_likelihood_2Q_2alpha(0.4,0.95,3.5,action_19_best,reward_19_best)"
   ]
  },
  {
   "cell_type": "code",
   "execution_count": 264,
   "metadata": {},
   "outputs": [
    {
     "data": {
      "text/plain": [
       "3.9886884398573925"
      ]
     },
     "execution_count": 264,
     "metadata": {},
     "output_type": "execute_result"
    }
   ],
   "source": [
    "dan_ll"
   ]
  },
  {
   "cell_type": "code",
   "execution_count": 265,
   "metadata": {},
   "outputs": [
    {
     "data": {
      "text/plain": [
       "3.9165242887875804"
      ]
     },
     "execution_count": 265,
     "metadata": {},
     "output_type": "execute_result"
    }
   ],
   "source": [
    "my_ll"
   ]
  },
  {
   "cell_type": "code",
   "execution_count": 268,
   "metadata": {},
   "outputs": [
    {
     "data": {
      "text/plain": [
       "[0.25, 0.9500000000000001, 2.5]"
      ]
     },
     "execution_count": 268,
     "metadata": {},
     "output_type": "execute_result"
    }
   ],
   "source": [
    "my_minimize(action_19_best,reward_19_best)"
   ]
  },
  {
   "cell_type": "code",
   "execution_count": 266,
   "metadata": {},
   "outputs": [
    {
     "data": {
      "text/plain": [
       "181.0"
      ]
     },
     "execution_count": 266,
     "metadata": {},
     "output_type": "execute_result"
    }
   ],
   "source": [
    "sum(reward_19_best)"
   ]
  },
  {
   "cell_type": "code",
   "execution_count": 267,
   "metadata": {},
   "outputs": [
    {
     "name": "stdout",
     "output_type": "stream",
     "text": [
      "The optimization did not converge, beta0 equals 5 , and alphaG0 equals 0.3\n"
     ]
    },
    {
     "data": {
      "text/plain": [
       "      fun: 4.9451871395166265\n",
       " hess_inv: <3x3 LbfgsInvHessProduct with dtype=float64>\n",
       "      jac: array([28790647.91391581, 28790640.05848111, 28790643.51350085])\n",
       "  message: b'ABNORMAL_TERMINATION_IN_LNSRCH'\n",
       "     nfev: 84\n",
       "      nit: 0\n",
       "   status: 2\n",
       "  success: False\n",
       "        x: array([0.3, 0.6, 5. ])"
      ]
     },
     "execution_count": 267,
     "metadata": {},
     "output_type": "execute_result"
    }
   ],
   "source": [
    "init_guess = [0.3,0.6,5] #alphaG,alphaL,beta\n",
    "results = MLE_2alpha(action_10_best,reward_10_best,init_guess[0],init_guess[1],init_guess[2])\n",
    "results"
   ]
  },
  {
   "cell_type": "code",
   "execution_count": 207,
   "metadata": {},
   "outputs": [
    {
     "data": {
      "text/plain": [
       "2.7479854198183147"
      ]
     },
     "execution_count": 207,
     "metadata": {},
     "output_type": "execute_result"
    }
   ],
   "source": [
    "neg_log_likelihood_2Q_2alpha(0.3,0.6,5,action_10_best,reward_10_best)"
   ]
  },
  {
   "cell_type": "markdown",
   "metadata": {},
   "source": [
    "## MLE, Rat 30 Day 1"
   ]
  },
  {
   "cell_type": "code",
   "execution_count": 79,
   "metadata": {
    "collapsed": true
   },
   "outputs": [],
   "source": [
    "actions_30 = get_action(day1_30)\n",
    "rewards_30 = get_reward(day1_30)"
   ]
  },
  {
   "cell_type": "code",
   "execution_count": 142,
   "metadata": {},
   "outputs": [
    {
     "name": "stdout",
     "output_type": "stream",
     "text": [
      "The optimization did not converge, beta0 equals 3 , and alphaG0 equals 0.5\n"
     ]
    }
   ],
   "source": [
    "init_guess = [0.5,0.5,3] #alphaG,alphaL,beta\n",
    "results = MLE_2alpha(actions_30,rewards_30,init_guess[0],init_guess[1],init_guess[2])"
   ]
  },
  {
   "cell_type": "code",
   "execution_count": 143,
   "metadata": {},
   "outputs": [
    {
     "data": {
      "text/plain": [
       "      fun: 296.43649600043045\n",
       " hess_inv: <3x3 LbfgsInvHessProduct with dtype=float64>\n",
       "      jac: array([58255829.69403058, 58255652.05233829, 58255779.91605542])\n",
       "  message: b'ABNORMAL_TERMINATION_IN_LNSRCH'\n",
       "     nfev: 84\n",
       "      nit: 0\n",
       "   status: 2\n",
       "  success: False\n",
       "        x: array([0.5, 0.5, 3. ])"
      ]
     },
     "execution_count": 143,
     "metadata": {},
     "output_type": "execute_result"
    }
   ],
   "source": [
    "results"
   ]
  },
  {
   "cell_type": "markdown",
   "metadata": {},
   "source": [
    "## Statistical Tests"
   ]
  },
  {
   "cell_type": "code",
   "execution_count": null,
   "metadata": {
    "collapsed": true
   },
   "outputs": [],
   "source": [
    "# supoose we now have several rats' day1 and day 21 parameters(alphaG,alphaL,beta); paired\n",
    "param_day1 = []\n",
    "param_day21 = []\n"
   ]
  },
  {
   "cell_type": "code",
   "execution_count": null,
   "metadata": {
    "collapsed": true
   },
   "outputs": [],
   "source": [
    "# Q-Q plot to check normality for day 1\n",
    "for i in range(len(param_day1)):\n",
    "    stats.probplot(param_day1[i], dist='norm', plot=plt.plot)\n",
    "    "
   ]
  },
  {
   "cell_type": "code",
   "execution_count": null,
   "metadata": {
    "collapsed": true
   },
   "outputs": [],
   "source": [
    "# Q-Q plot to check normality for day 21\n",
    "for i in range(len(param_day21)):\n",
    "    stats.probplot(param_day21[i], dist='norm', plot=plt.plot)\n",
    "    "
   ]
  },
  {
   "cell_type": "code",
   "execution_count": null,
   "metadata": {
    "collapsed": true
   },
   "outputs": [],
   "source": [
    "# Whelch's t-test of the mean of params in day 1 versus day 21\n",
    "# null hypothesis: params in day1 = day21 \n",
    "t_list = []\n",
    "p_list = []\n",
    "for i in range(len(param_day1)):\n",
    "    equal_variance = False\n",
    "    t_stat, p_val = stats.ttest_ind(param_day1[i],param_day21[i], equal_var=equal_variance)\n",
    "    t_list.append(t_stat)\n",
    "    p_list.append(p_val)"
   ]
  },
  {
   "cell_type": "code",
   "execution_count": null,
   "metadata": {
    "collapsed": true
   },
   "outputs": [],
   "source": []
  },
  {
   "cell_type": "code",
   "execution_count": 30,
   "metadata": {
    "collapsed": true
   },
   "outputs": [],
   "source": [
    "#bootstrap t-test\n"
   ]
  },
  {
   "cell_type": "code",
   "execution_count": null,
   "metadata": {
    "collapsed": true
   },
   "outputs": [],
   "source": [
    "# permutation"
   ]
  }
 ],
 "metadata": {
  "kernelspec": {
   "display_name": "Python 3",
   "language": "python",
   "name": "python3"
  },
  "language_info": {
   "codemirror_mode": {
    "name": "ipython",
    "version": 3
   },
   "file_extension": ".py",
   "mimetype": "text/x-python",
   "name": "python",
   "nbconvert_exporter": "python",
   "pygments_lexer": "ipython3",
   "version": "3.7.3"
  }
 },
 "nbformat": 4,
 "nbformat_minor": 2
}
