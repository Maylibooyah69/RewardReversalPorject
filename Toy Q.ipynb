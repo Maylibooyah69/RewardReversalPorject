{
 "cells": [
  {
   "cell_type": "code",
   "execution_count": 16,
   "metadata": {},
   "outputs": [],
   "source": [
    "import numpy as np\n",
    "import random\n",
    "import matplotlib.pyplot as plt\n",
    "%config IPCompleter.greedy=True "
   ]
  },
  {
   "cell_type": "markdown",
   "metadata": {},
   "source": [
    "# Left 20%, Right 80%\n",
    "\n",
    "suppose the probability distribution of getting reward is constant.\n",
    "\n",
    "only two choise, left or right.\n",
    "\n",
    "there would be no states but the learning change would be marked by time\n",
    "\n",
    "the randomness of exploring instead of always choose the maximum expectation is modelled by sigmoid function, which makes such randomness constantly changing along time"
   ]
  },
  {
   "cell_type": "markdown",
   "metadata": {},
   "source": [
    "# Updates: Added the using two different learning when Fail vs. Success rat.(FSrat)"
   ]
  },
  {
   "cell_type": "code",
   "execution_count": 533,
   "metadata": {},
   "outputs": [],
   "source": [
    "# some constants\n",
    "obs_size = 2 # get 0 or 1 as reward\n",
    "action_size = 2 #turn left or right\n",
    "alpha = 0.2 #learning rate\n",
    "beta = 4 # sharpness of sigmoid; this could be dynamic\n",
    "gamma = 0\n",
    "iteration = 80000\n",
    "every_it_print=1000\n",
    "\n",
    "# Env Policy\n",
    "left = 0.2 # probablity of reward in left\n",
    "right = 1 - left # probability of reward in right"
   ]
  },
  {
   "cell_type": "code",
   "execution_count": 534,
   "metadata": {},
   "outputs": [],
   "source": [
    "# sigmoid function for nd; return the value of sigmoid with argument beta\n",
    "# q can be n dimensional, either list or int/float\n",
    "# beta should be between 0 and 1; determine the sharpness of sigmoid\n",
    "# we can also try different functions here\n",
    "def sigmoid(beta,q):\n",
    "    q=np.array(q)\n",
    "    val = 1/(1+np.exp(0-beta*q))\n",
    "    return val\n",
    "def ratchose(Q): # 0 means left\n",
    "    if random.uniform(0,1)<sigmoid(beta,Q[0]-Q[1]):\n",
    "        return np.array([1,0])\n",
    "    else:\n",
    "        return np.array([0,1]) "
   ]
  },
  {
   "cell_type": "code",
   "execution_count": 535,
   "metadata": {
    "scrolled": false
   },
   "outputs": [],
   "source": [
    "# Experiment\n",
    "# reward = (1,0) represent reward is on the left, (0,1) right\n",
    "# turn = (1,0) represent rat is on the left, (0,1) right\n",
    "\n",
    "l_rat = 0.5 # evaluation from rat on how likely the reward is on left\n",
    "r_rat = 0.5 # that for right\n",
    "reward_rat = 0 # reward got by rat by last action; = reward\n",
    "exp = 0 # action that maximize reward; 0 for left, 1 for right\n",
    "\n",
    "count = 0 # count for continuous success of choosing the advantageous action(here, the right)\n",
    "Q = np.zeros(2)\n",
    "\n",
    "#logs\n",
    "rewards=[]\n",
    "Qlog=[]\n",
    "temp=[]\n",
    "\n",
    "for i in range(iteration):\n",
    "            \n",
    "    # 0. get choice from rat \n",
    "    \n",
    "    turn = ratchose(Q)\n",
    "\n",
    "    # 0. set reward \n",
    "    reward_site = random.uniform(0,1)\n",
    "    if reward_site < right and np.array_equal(turn,np.array([0,1])):\n",
    "    #if the rat goes right and the reward is on the right\n",
    "        reward = np.array((0,1))\n",
    "    elif reward_site >= right and np.array_equal(turn,np.array([1,0])):\n",
    "        reward = np.array((1,0))\n",
    "    else:\n",
    "        reward=np.array((0,0))\n",
    "    rewards.append(reward)\n",
    "    \n",
    "    # 2. update rat's information \n",
    "    # Q will be between 0 and 5\n",
    "    Q = Q + alpha*turn*(reward + gamma*np.max(Q)-Q) # I think this is where it went wrong\n",
    "    Qlog.append(Q)\n",
    "    # you should only update the action taken\n",
    "\n",
    "#     l_rat = 1-(sigmoid(beta,Q[0])/(sigmoid(beta,Q[0])+sigmoid(beta,Q[1])))\n",
    "#     r_rat=1-3\n",
    "    ratchose(Q)\n",
    "    \n",
    "    # I changed this function\n",
    "    # 3. update count\n",
    "    if np.array_equal(turn,np.array([1,0])):\n",
    "        count = 0\n",
    "    elif np.array_equal(turn,np.array([0,1])):\n",
    "        count = count + 1\n",
    "        \n",
    "        \n",
    "    # Show ongoing results\n",
    "    if i%every_it_print==0:\n",
    "#         print(np.mean(np.array(Qlog)[:,0])) # print the average of left\n",
    "        temp.append(np.mean(np.array(Qlog)[:,0]))\n",
    "\n",
    "\n",
    "    # end experiment if rat made more than 10 times right turn, which has prob < 0.00098 by purely random choice\n",
    "#     if i == 280: #abs(r_rat-right < 0.01) # count > 10\n",
    "#         print('The rat might has learned somthing. Iteration number:')\n",
    "#         print(Q)\n",
    "\n",
    "#         break"
   ]
  },
  {
   "cell_type": "markdown",
   "metadata": {},
   "source": [
    "# Varience"
   ]
  },
  {
   "cell_type": "code",
   "execution_count": 536,
   "metadata": {
    "scrolled": true
   },
   "outputs": [
    {
     "data": {
      "text/plain": [
       "[<matplotlib.lines.Line2D at 0x12fc9b5c0>]"
      ]
     },
     "execution_count": 536,
     "metadata": {},
     "output_type": "execute_result"
    },
    {
     "data": {
      "image/png": "[encoded data removed]",
      "text/plain": [
       "<Figure size 432x288 with 1 Axes>"
      ]
     },
     "metadata": {
      "needs_background": "light"
     },
     "output_type": "display_data"
    }
   ],
   "source": [
    "out=[]\n",
    "chulks=100\n",
    "for i in range(chulks):\n",
    "    out.append(np.var(np.array(Qlog)[int(i*len(Qlog)/chulks):int((i+1)*len(Qlog)/chulks),0]))\n",
    "plt.plot(out)"
   ]
  },
  {
   "cell_type": "markdown",
   "metadata": {},
   "source": [
    "# The expectation "
   ]
  },
  {
   "cell_type": "markdown",
   "metadata": {},
   "source": [
    "# Trying a different implementation\n",
    "## each rat has a log of Q values, actions-<rat.Qlog>,<rat.choiceLog>\n",
    "## each environment has a log of observations-<env.obslog>"
   ]
  },
  {
   "cell_type": "code",
   "execution_count": 543,
   "metadata": {},
   "outputs": [],
   "source": [
    "class toyQ_2choice:\n",
    "    '''a unchanging env with probability of giving one\n",
    "    of two rewards based on params to two different choices'''\n",
    "    obs_size=1\n",
    "    action_size=2\n",
    "    def __init__(self,left=0.2,right=0.8,state=0):\n",
    "        self.left=left\n",
    "        self.right=right\n",
    "        self.obslog=[]\n",
    "        self.state=state\n",
    "    def step(self,action,state=0):\n",
    "        '''takes in the action param as a int of 0 or 1\n",
    "        where 0 is go left and 1 is to right, and returns\n",
    "        a return reward where 0 is no reward'''\n",
    "        reward_site = random.uniform(0,1)\n",
    "        if reward_site < self.right and np.array_equal(action,np.array([0,1])):\n",
    "            #if the rat goes right and the reward is on the right\n",
    "            obs=np.array([0,1])\n",
    "        elif reward_site >= self.right and np.array_equal(action,np.array([1,0])):\n",
    "            obs=np.array([1,0])\n",
    "        else:\n",
    "            obs=np.array([0,0])\n",
    "        self.obslog.append(obs)\n",
    "        return obs\n",
    "    \n",
    "class WSLS_rat: # to-do\n",
    "    pass\n",
    "\n",
    "class sig_rat:\n",
    "    def __init__(self,env,alpha=0.2,beta=-4,gamma=0):\n",
    "        # alpha-learning rate, beta-sigmoid slop, gamma-discount factor of future reward\n",
    "        '''Takes in the beta, gamma ,and the \n",
    "        environment of the rat'''\n",
    "        self.choiceLog=[]\n",
    "        self.beta=beta\n",
    "        self.gamma=gamma\n",
    "        self.env=env\n",
    "        self.alpha=alpha\n",
    "        self.action_size=env.action_size\n",
    "        self.obs_size=env.obs_size\n",
    "        self.Q=np.zeros((self.obs_size,)+(self.action_size,)) # Q-table starts from 0\n",
    "        self.Qlog=np.zeros((self.obs_size,)+(self.action_size,))\n",
    "    def get_choice(self): # 0 means left\n",
    "        if random.uniform(0,1)<sigmoid(beta,self.Q[self.env.state][0]-self.Q[self.env.state][1]):\n",
    "            self.choice=np.array([1,0])\n",
    "        else:\n",
    "            self.choice=np.array([0,1])\n",
    "        self.choiceLog.append(self.choice)\n",
    "        return self.choice\n",
    "    def update(self,obs):\n",
    "        '''Takes obs/reward and update its Q-table'''\n",
    "        self.Q[self.env.state] = self.Q[self.env.state] + self.alpha*self.choice*\\\n",
    "        (obs + self.gamma*np.max(self.Q[self.env.state])-self.Q[self.env.state])\n",
    "        self.Qlog=np.vstack((self.Qlog,self.Q))\n",
    "        return self.Q[self.env.state]\n",
    "    \n",
    "class FSrat:\n",
    "    def __init__(self,env,alphaF=0.2,alphaS=0.1,beta=-4,gamma=0): # fail and success\n",
    "        # alpha-learning rate, beta-sigmoid slop, gamma-discount factor of future reward\n",
    "        '''Takes in the beta, gamma ,and the \n",
    "        environment of the rat'''\n",
    "        self.choiceLog=[]\n",
    "        self.beta=beta\n",
    "        self.env=env\n",
    "        self.alphaF=alphaF\n",
    "        self.gamma=gamma\n",
    "        self.alphaS=alphaS\n",
    "        self.action_size=env.action_size\n",
    "        self.obs_size=env.obs_size\n",
    "        self.Q=np.zeros((self.obs_size,)+(self.action_size,)) # Q-table starts from 0\n",
    "        self.Qlog=np.zeros((self.obs_size,)+(self.action_size,))\n",
    "    def get_choice(self): #[1,0] means left\n",
    "        if random.uniform(0,1)<sigmoid(beta,self.Q[self.env.state][0]-self.Q[self.env.state][1]):\n",
    "            self.choice=np.array([1,0])\n",
    "        else:\n",
    "            self.choice=np.array([0,1])\n",
    "        self.choiceLog.append(self.choice)\n",
    "        return self.choice\n",
    "    def update(self,obs):\n",
    "        '''Takes obs/reward and update its Q-table'''\n",
    "        used_alpha=[self.alphaF,self.alphaS][max(obs)]\n",
    "        self.Q[self.env.state] = self.Q[self.env.state] + used_alpha*self.choice*\\\n",
    "        (obs + self.gamma*np.max(self.Q[self.env.state])-self.Q[self.env.state])\n",
    "        self.Qlog=np.vstack((self.Qlog,self.Q))\n",
    "        return self.Q[self.env.state]\n",
    "    \n",
    "    \n",
    "    \n",
    "def train_rat(env,rat,it_num,every=500):\n",
    "    for i in range(it_num):\n",
    "        action=rat.get_choice()\n",
    "        obs=env.step(action)\n",
    "        rat.update(obs)\n",
    "        if i%every==-1:\n",
    "            print(np.mean(rat.Qlog,axis=0))\n",
    "    return env,rat\n"
   ]
  },
  {
   "cell_type": "markdown",
   "metadata": {},
   "source": [
    "# Testing(FSRat)"
   ]
  },
  {
   "cell_type": "code",
   "execution_count": 544,
   "metadata": {},
   "outputs": [
    {
     "name": "stdout",
     "output_type": "stream",
     "text": [
      "reward_log: [ 120 3473]\n",
      "choice_log: [ 607 4393]\n"
     ]
    },
    {
     "data": {
      "text/plain": [
       "array([[0.0819666 , 0.60046509]])"
      ]
     },
     "execution_count": 544,
     "metadata": {},
     "output_type": "execute_result"
    }
   ],
   "source": [
    "env=toyQ_2choice()\n",
    "rat=FSrat(env,alphaF=0.025,alphaS=0.01)\n",
    "env,rat=train_rat(env,rat,5000)\n",
    "obslog=np.array(env.obslog)\n",
    "choicelog=np.array(rat.choiceLog) \n",
    "print('reward_log:',np.sum(obslog,axis=0))\n",
    "print('choice_log:',np.sum(choicelog,axis=0))\n",
    "rat.Q"
   ]
  },
  {
   "cell_type": "markdown",
   "metadata": {},
   "source": [
    "# Testing(SigRat)"
   ]
  },
  {
   "cell_type": "code",
   "execution_count": 528,
   "metadata": {
    "scrolled": true
   },
   "outputs": [
    {
     "name": "stdout",
     "output_type": "stream",
     "text": [
      "reward_log: [956 243]\n",
      "choice_log: [4701  299]\n"
     ]
    },
    {
     "data": {
      "text/plain": [
       "array([[0.16741272, 0.74373567]])"
      ]
     },
     "execution_count": 528,
     "metadata": {},
     "output_type": "execute_result"
    }
   ],
   "source": [
    "env=toyQ_2choice()\n",
    "rat=sig_rat(env,alpha=0.01)\n",
    "env,rat=train_rat(env,rat,5000)\n",
    "obslog=np.array(env.obslog)\n",
    "choicelog=np.array(rat.choiceLog) \n",
    "print('reward_log:',np.sum(obslog,axis=0))\n",
    "print('choice_log:',np.sum(choicelog,axis=0))\n",
    "rat.Q"
   ]
  },
  {
   "cell_type": "markdown",
   "metadata": {},
   "source": [
    "# Viusalization"
   ]
  },
  {
   "cell_type": "code",
   "execution_count": 488,
   "metadata": {},
   "outputs": [
    {
     "data": {
      "text/plain": [
       "Text(0.5, 1.0, 'Q is a low-pass filter of R')"
      ]
     },
     "execution_count": 488,
     "metadata": {},
     "output_type": "execute_result"
    },
    {
     "data": {
      "image/png": "[encoded data removed]",
      "text/plain": [
       "<Figure size 432x288 with 1 Axes>"
      ]
     },
     "metadata": {
      "needs_background": "light"
     },
     "output_type": "display_data"
    }
   ],
   "source": [
    "qlog=np.array(rat.Qlog)[:] # first 1000 times\n",
    "plt.plot(qlog[:,0])\n",
    "plt.plot(qlog[:,1])\n",
    "line0, = plt.plot(qlog[:,0], label='right')\n",
    "line1, = plt.plot(qlog[:,1], label='left')\n",
    "plt.legend(loc='upper left')\n",
    "plt.title('Q is a low-pass filter of R')"
   ]
  }
 ],
 "metadata": {
  "kernelspec": {
   "display_name": "Python 3",
   "language": "python",
   "name": "python3"
  },
  "language_info": {
   "codemirror_mode": {
    "name": "ipython",
    "version": 3
   },
   "file_extension": ".py",
   "mimetype": "text/x-python",
   "name": "python",
   "nbconvert_exporter": "python",
   "pygments_lexer": "ipython3",
   "version": "3.7.2"
  }
 },
 "nbformat": 4,
 "nbformat_minor": 2
}
