{
 "cells": [
  {
   "cell_type": "code",
   "execution_count": 3,
   "metadata": {},
   "outputs": [],
   "source": [
    "import numpy as np\n",
    "import random\n",
    "import matplotlib.pyplot as plt\n",
    "from scipy.optimize import minimize\n",
    "%config IPCompleter.greedy=True "
   ]
  },
  {
   "cell_type": "markdown",
   "metadata": {},
   "source": [
    "# Left 20%, Right 80%\n",
    "\n",
    "suppose the probability distribution of getting reward is constant.\n",
    "\n",
    "only two choise, left or right.\n",
    "\n",
    "there would be no states but the learning change would be marked by time\n",
    "\n",
    "the randomness of exploring instead of always choose the maximum expectation is modelled by sigmoid function, which makes such randomness constantly changing along time"
   ]
  },
  {
   "cell_type": "markdown",
   "metadata": {},
   "source": [
    "# Updates: Added the using two different learning when Fail vs. Success rat.(FSrat)"
   ]
  },
  {
   "cell_type": "code",
   "execution_count": 4,
   "metadata": {},
   "outputs": [],
   "source": [
    "# some constants\n",
    "obs_size = 2 # get 0 or 1 as reward\n",
    "action_size = 2 #turn left or right\n",
    "alpha = 0.2 #learning rate\n",
    "beta = 4 # sharpness of sigmoid; this could be dynamic\n",
    "gamma = 0\n",
    "iteration = 80000\n",
    "every_it_print=1000\n",
    "\n",
    "# Env Policy\n",
    "left = 0.2 # probablity of reward in left\n",
    "right = 1 - left # probability of reward in right"
   ]
  },
  {
   "cell_type": "code",
   "execution_count": 5,
   "metadata": {},
   "outputs": [],
   "source": [
    "# sigmoid function for nd; return the value of sigmoid with argument beta\n",
    "# q can be n dimensional, either list or int/float\n",
    "# beta should be between 0 and 1; determine the sharpness of sigmoid\n",
    "# we can also try different functions here\n",
    "def sigmoid(beta,q):\n",
    "    q=np.array(q)\n",
    "    val = 1/(1+np.exp(0-beta*q))\n",
    "    return val\n",
    "def ratchose(Q): # 0 means left\n",
    "    if random.uniform(0,1)<sigmoid(beta,Q[0]-Q[1]):\n",
    "        return np.array([1,0])\n",
    "    else:\n",
    "        return np.array([0,1]) \n",
    "    \n",
    "# parameter: action, a list of numpy arrays of action data; reward, a list of np array of reward data\n",
    "# beta, sharpness of sigmoid; alpha, learning rate\n",
    "# return the sum of log-likelihood\n",
    "def neg_log_likelihood(alpha,beta,actions,rewards,Q=[0,0],gamma=0): \n",
    "    n = len(actions)\n",
    "    sum_ll = 0\n",
    "    for i in range(n):\n",
    "        turn = actions[i]\n",
    "        rew = rewards[i]\n",
    "        Q = Q + alpha*turn*(rew + gamma*np.max(Q)-Q)\n",
    "        dQ = Q[0] - Q[1]\n",
    "        if np.array_equal(turn,np.array([1,0])):\n",
    "            prob = 1/(np.exp(0-beta*dQ)+1)\n",
    "        else:\n",
    "            prob = 1 - 1/(np.exp(0-beta*dQ)+1)\n",
    "        \n",
    "        sum_ll = sum_ll - np.log(prob + np.exp(0-8)) # add a smoother to avoid warnings\n",
    "    \n",
    "    return sum_ll\n",
    "\n",
    "# params = [alpha0,beta0]\n",
    "# args = [actions,rewards]\n",
    "def helper_func(params,args):\n",
    "    alpha0 = params[0]\n",
    "    beta0 = params[1]\n",
    "    actions = args[0]\n",
    "    rewards = args[1]\n",
    "    \n",
    "    sum_ll = neg_log_likelihood(alpha0,beta0,actions,rewards)\n",
    "    \n",
    "    return sum_ll"
   ]
  },
  {
   "cell_type": "code",
   "execution_count": 6,
   "metadata": {
    "scrolled": false
   },
   "outputs": [],
   "source": [
    "# Experiment\n",
    "# reward = (1,0) represent reward is on the left, (0,1) right\n",
    "# turn = (1,0) represent rat is on the left, (0,1) right\n",
    "\n",
    "l_rat = 0.5 # evaluation from rat on how likely the reward is on left\n",
    "r_rat = 0.5 # that for right\n",
    "reward_rat = 0 # reward got by rat by last action; = reward\n",
    "exp = 0 # action that maximize reward; 0 for left, 1 for right\n",
    "\n",
    "count = 0 # count for continuous success of choosing the advantageous action(here, the right)\n",
    "Q = np.zeros(2)\n",
    "\n",
    "#logs\n",
    "rewards=[]\n",
    "Qlog=[]\n",
    "temp=[]\n",
    "\n",
    "for i in range(iteration):\n",
    "            \n",
    "    # 0. get choice from rat \n",
    "    \n",
    "    turn = ratchose(Q)\n",
    "\n",
    "    # 0. set reward \n",
    "    reward_site = random.uniform(0,1)\n",
    "    if reward_site < right and np.array_equal(turn,np.array([0,1])):\n",
    "    #if the rat goes right and the reward is on the right\n",
    "        reward = np.array((0,1))\n",
    "    elif reward_site >= right and np.array_equal(turn,np.array([1,0])):\n",
    "        reward = np.array((1,0))\n",
    "    else:\n",
    "        reward=np.array((0,0))\n",
    "    rewards.append(reward)\n",
    "    \n",
    "    # 2. update rat's information \n",
    "    # Q will be between 0 and 5\n",
    "    Q = Q + alpha*turn*(reward + gamma*np.max(Q)-Q) # I think this is where it went wrong\n",
    "    Qlog.append(Q)\n",
    "    # you should only update the action taken\n",
    "\n",
    "#     l_rat = 1-(sigmoid(beta,Q[0])/(sigmoid(beta,Q[0])+sigmoid(beta,Q[1])))\n",
    "#     r_rat=1-3\n",
    "    ratchose(Q)\n",
    "    \n",
    "    # I changed this function\n",
    "    # 3. update count\n",
    "    if np.array_equal(turn,np.array([1,0])):\n",
    "        count = 0\n",
    "    elif np.array_equal(turn,np.array([0,1])):\n",
    "        count = count + 1\n",
    "        \n",
    "        \n",
    "    # Show ongoing results\n",
    "    if i%every_it_print==0:\n",
    "#         print(np.mean(np.array(Qlog)[:,0])) # print the average of left\n",
    "        temp.append(np.mean(np.array(Qlog)[:,0]))\n",
    "\n",
    "\n",
    "    # end experiment if rat made more than 10 times right turn, which has prob < 0.00098 by purely random choice\n",
    "#     if i == 280: #abs(r_rat-right < 0.01) # count > 10\n",
    "#         print('The rat might has learned somthing. Iteration number:')\n",
    "#         print(Q)\n",
    "\n",
    "#         break"
   ]
  },
  {
   "cell_type": "markdown",
   "metadata": {},
   "source": [
    "# Varience"
   ]
  },
  {
   "cell_type": "code",
   "execution_count": 7,
   "metadata": {
    "scrolled": true
   },
   "outputs": [
    {
     "data": {
      "text/plain": [
       "[<matplotlib.lines.Line2D at 0x10148649e8>]"
      ]
     },
     "execution_count": 7,
     "metadata": {},
     "output_type": "execute_result"
    },
    {
     "data": {
      "image/png": "[encoded data removed]",
      "text/plain": [
       "<Figure size 432x288 with 1 Axes>"
      ]
     },
     "metadata": {
      "needs_background": "light"
     },
     "output_type": "display_data"
    }
   ],
   "source": [
    "out=[]\n",
    "chulks=100\n",
    "for i in range(chulks):\n",
    "    out.append(np.var(np.array(Qlog)[int(i*len(Qlog)/chulks):int((i+1)*len(Qlog)/chulks),0]))\n",
    "plt.plot(out)"
   ]
  },
  {
   "cell_type": "markdown",
   "metadata": {},
   "source": [
    "# Trying a different implementation\n",
    "## each rat has a log of Q values, actions,likelihood-<rat.Qlog>,<rat.choiceLog>,<rat.lhLog>\n",
    "## each environment has a log of observations-<env.obslog>\n",
    "## the lhLog logs the likelihood of going left"
   ]
  },
  {
   "cell_type": "code",
   "execution_count": 8,
   "metadata": {},
   "outputs": [],
   "source": [
    "class toyQ_2choice:\n",
    "    '''a unchanging env with probability of giving one\n",
    "    of two rewards based on params to two different choices'''\n",
    "    obs_size=1\n",
    "    action_size=2\n",
    "    def __init__(self,left=0.2,right=0.8,state=0):\n",
    "        self.left=left\n",
    "        self.right=right\n",
    "        self.obslog=[]\n",
    "        self.state=state\n",
    "    def step(self,action,state=0):\n",
    "        '''takes in the action param as a int of 0 or 1\n",
    "        where 0 is go left and 1 is to right, and returns\n",
    "        a return reward where 0 is no reward'''\n",
    "        reward_site = random.uniform(0,1)\n",
    "        if reward_site < self.right and np.array_equal(action,np.array([0,1])):\n",
    "            #if the rat goes right and the reward is on the right\n",
    "            obs=np.array([0,1])\n",
    "        elif reward_site >= self.right and np.array_equal(action,np.array([1,0])):\n",
    "            obs=np.array([1,0])\n",
    "        else:\n",
    "            obs=np.array([0,0])\n",
    "        self.obslog.append(obs)\n",
    "        return obs\n",
    "    \n",
    "class WSLS_rat: # to-do\n",
    "    pass\n",
    "\n",
    "class sig_rat:\n",
    "    def __init__(self,env,alpha=0.2,beta=4,gamma=0):\n",
    "        # alpha-learning rate, beta-sigmoid slop, gamma-discount factor of future reward\n",
    "        '''Takes in the beta, gamma ,and the \n",
    "        environment of the rat'''\n",
    "        self.lhLog=[]\n",
    "        self.choiceLog=[]\n",
    "        self.beta=beta\n",
    "        self.gamma=gamma\n",
    "        self.env=env\n",
    "        self.alpha=alpha\n",
    "        self.action_size=env.action_size\n",
    "        self.obs_size=env.obs_size\n",
    "        self.Q=np.zeros((self.obs_size,)+(self.action_size,)) # Q-table starts from 0\n",
    "        self.Qlog=np.zeros((self.obs_size,)+(self.action_size,))\n",
    "    def get_choice(self): # 0 means left\n",
    "        lh=sigmoid(self.beta,self.Q[self.env.state][0]-self.Q[self.env.state][1])\n",
    "        self.lhLog.append(lh)\n",
    "        if random.uniform(0,1)<lh:\n",
    "            self.choice=np.array([1,0])\n",
    "        else:\n",
    "            self.choice=np.array([0,1])\n",
    "        self.choiceLog.append(self.choice)\n",
    "        return self.choice\n",
    "    def update(self,obs):\n",
    "        '''Takes obs/reward and update its Q-table'''\n",
    "        self.Q[self.env.state] = self.Q[self.env.state] + self.alpha*self.choice*\\\n",
    "        (obs + self.gamma*np.max(self.Q[self.env.state])-self.Q[self.env.state])\n",
    "        self.Qlog=np.vstack((self.Qlog,self.Q))\n",
    "        return self.Q[self.env.state]\n",
    "    \n",
    "class FSrat:\n",
    "    def __init__(self,env,alphaF=0.2,alphaS=0.1,beta=4,gamma=0): # fail and success\n",
    "        # alpha-learning rate, beta-sigmoid slop, gamma-discount factor of future reward\n",
    "        '''Takes in the beta, gamma ,and the \n",
    "        environment of the rat'''\n",
    "        self.lhLog=[]\n",
    "        self.choiceLog=[]\n",
    "        self.beta=beta\n",
    "        self.env=env\n",
    "        self.alphaF=alphaF\n",
    "        self.gamma=gamma\n",
    "        self.alphaS=alphaS\n",
    "        self.action_size=env.action_size\n",
    "        self.obs_size=env.obs_size\n",
    "        self.Q=np.zeros((self.obs_size,)+(self.action_size,)) # Q-table starts from 0\n",
    "        self.Qlog=np.zeros((self.obs_size,)+(self.action_size,))\n",
    "    def get_choice(self): #[1,0] means left\n",
    "        lh=sigmoid(self.beta,self.Q[self.env.state][0]-self.Q[self.env.state][1])\n",
    "        self.lhLog.append(lh)\n",
    "        if random.uniform(0,1)<lh:\n",
    "            self.choice=np.array([1,0])\n",
    "        else:\n",
    "            self.choice=np.array([0,1])\n",
    "        self.choiceLog.append(self.choice)\n",
    "        return self.choice\n",
    "    def update(self,obs):\n",
    "        '''Takes obs/reward and update its Q-table'''\n",
    "        used_alpha=[self.alphaF,self.alphaS][max(obs)]\n",
    "        self.Q[self.env.state] = self.Q[self.env.state] + used_alpha*self.choice*\\\n",
    "        (obs + self.gamma*np.max(self.Q[self.env.state])-self.Q[self.env.state])\n",
    "        self.Qlog=np.vstack((self.Qlog,self.Q))\n",
    "        return self.Q[self.env.state]\n",
    "    \n",
    "    pass\n",
    "\n",
    "class SQFSrat: # Single Q Failure-Success rat\n",
    "    def __init__(self,env,alphaF=0.2,alphaS=0.1,beta=4,gamma=0):\n",
    "        # alpha-learning rate, beta-sigmoid slop, gamma-discount factor of future reward\n",
    "        '''Takes in the beta, gamma ,and the \n",
    "        environment of the rat'''\n",
    "        self.lhLog=[]\n",
    "        self.choiceLog=[]\n",
    "        self.beta=beta\n",
    "        self.gamma=gamma\n",
    "        self.env=env\n",
    "        self.alphaF=alphaF\n",
    "        self.alphaS=alphaS\n",
    "        self.action_size=env.action_size\n",
    "        self.obs_size=env.obs_size\n",
    "        self.Q=0 # Q starts from 0\n",
    "        self.Qlog=[0]\n",
    "    def get_choice(self): # 0 means left\n",
    "        lh=sigmoid(self.beta,self.Q)\n",
    "        self.lhLog.append(lh)\n",
    "        if random.uniform(0,1)<lh:\n",
    "            self.choice=np.array([1,0])\n",
    "        else:\n",
    "            self.choice=np.array([0,1])\n",
    "        self.choiceLog.append(self.choice)\n",
    "        return self.choice\n",
    "    def update(self,obs):\n",
    "        '''Assumes that going going left and get no reward is the\n",
    "        same as going right and get an reward, and going right and\n",
    "        not getting a reward is the same as going left and not getting'''\n",
    "        if (obs==np.array([1,0])).all() and (self.choice==np.array([1,0])).all() or\\\n",
    "        (obs==np.array([0,0])).all() and (self.choice==np.array([0,1])).all():\n",
    "            self.Q=(1-self.alphaS)*self.Q+self.alphaS*1 # going left and getting an reward of one\n",
    "            self.Qlog.append(self.Q)\n",
    "        elif ((obs==np.array([0,0])).all() and (self.choice==np.array([1,0]))).all() or\\\n",
    "        (obs==np.array([0,1])).all() and (self.choice==np.array([0,1])).all():\n",
    "            self.Q=(1-self.alphaF)*self.Q # going left and not getting an reward\n",
    "            self.Qlog.append(self.Q)\n",
    "        return self.Q    \n",
    "    \n",
    "    \n",
    "def train_rat(env,rat,it_num,every=500):\n",
    "    for i in range(it_num):\n",
    "        action=rat.get_choice()\n",
    "        obs=env.step(action)\n",
    "        rat.update(obs)\n",
    "        if i%every==-1:\n",
    "            print(np.mean(rat.Qlog,axis=0))\n",
    "    return env,rat\n"
   ]
  },
  {
   "cell_type": "markdown",
   "metadata": {},
   "source": [
    "# Testing(SQFSrat)"
   ]
  },
  {
   "cell_type": "code",
   "execution_count": 14,
   "metadata": {},
   "outputs": [
    {
     "data": {
      "text/plain": [
       "[0,\n",
       " 0.02,\n",
       " 0.039599999999999996,\n",
       " 0.038807999999999995,\n",
       " 0.03803184,\n",
       " 0.0372712032,\n",
       " 0.036525779136,\n",
       " 0.03579526355328,\n",
       " 0.035079358282214396,\n",
       " 0.03437777111657011,\n",
       " 0.05369021569423871,\n",
       " 0.05261641138035393,\n",
       " 0.051564083152746854,\n",
       " 0.050532801489691914,\n",
       " 0.049522145459898075,\n",
       " 0.04853170255070011,\n",
       " 0.04756106849968611,\n",
       " 0.046609847129692385,\n",
       " 0.06567765018709854,\n",
       " 0.08436409718335657,\n",
       " 0.08267681523968944,\n",
       " 0.08102327893489565,\n",
       " 0.09940281335619774,\n",
       " 0.0974147570890738,\n",
       " 0.09546646194729232,\n",
       " 0.09355713270834647,\n",
       " 0.09168599005417953,\n",
       " 0.10985227025309595,\n",
       " 0.12765522484803402,\n",
       " 0.12510212035107332,\n",
       " 0.14260007794405186,\n",
       " 0.1397480763851708,\n",
       " 0.1369531148574674,\n",
       " 0.13421405256031804,\n",
       " 0.1315297715091117,\n",
       " 0.14889917607892944,\n",
       " 0.16592119255735083,\n",
       " 0.1626027687062038,\n",
       " 0.15935071333207973,\n",
       " 0.15616369906543814,\n",
       " 0.15304042508412938,\n",
       " 0.1499796165824468,\n",
       " 0.14698002425079787,\n",
       " 0.1440404237657819,\n",
       " 0.14115961529046628,\n",
       " 0.13833642298465695,\n",
       " 0.1355696945249638,\n",
       " 0.13285830063446452,\n",
       " 0.13020113462177524,\n",
       " 0.12759711192933973,\n",
       " 0.12504516969075294,\n",
       " 0.12254426629693788,\n",
       " 0.12009338097099911,\n",
       " 0.11769151335157912,\n",
       " 0.11533768308454755,\n",
       " 0.1130309294228566,\n",
       " 0.11077031083439946,\n",
       " 0.10855490461771147,\n",
       " 0.10638380652535724,\n",
       " 0.1042561303948501,\n",
       " 0.1021710077869531,\n",
       " 0.10012758763121403,\n",
       " 0.09812503587858974,\n",
       " 0.11616253516101795,\n",
       " 0.11383928445779759,\n",
       " 0.11156249876864163,\n",
       " 0.1093312487932688,\n",
       " 0.12714462381740343,\n",
       " 0.12460173134105536,\n",
       " 0.12210969671423424,\n",
       " 0.11966750277994956,\n",
       " 0.11727415272435056,\n",
       " 0.11492866966986355,\n",
       " 0.11263009627646628,\n",
       " 0.11037749435093695,\n",
       " 0.12816994446391822,\n",
       " 0.12560654557463985,\n",
       " 0.12309441466314705,\n",
       " 0.12063252636988411,\n",
       " 0.11821987584248643,\n",
       " 0.1158554783256367,\n",
       " 0.11353836875912396,\n",
       " 0.13126760138394147,\n",
       " 0.14864224935626263,\n",
       " 0.1456694043691374,\n",
       " 0.14275601628175463,\n",
       " 0.13990089595611954,\n",
       " 0.13710287803699714,\n",
       " 0.15436082047625718,\n",
       " 0.15127360406673204,\n",
       " 0.1482481319853974,\n",
       " 0.14528316934568947,\n",
       " 0.16237750595877568,\n",
       " 0.17912995583960015,\n",
       " 0.17554735672280813,\n",
       " 0.17203640958835198,\n",
       " 0.16859568139658493,\n",
       " 0.16522376776865322,\n",
       " 0.16191929241328015,\n",
       " 0.15868090656501455,\n",
       " 0.17550728843371424,\n",
       " 0.17199714266503996,\n",
       " 0.18855719981173916,\n",
       " 0.20478605581550435,\n",
       " 0.22069033469919425,\n",
       " 0.23627652800521035,\n",
       " 0.2515509974451061,\n",
       " 0.266519977496204,\n",
       " 0.2611895779462799,\n",
       " 0.2559657863873543,\n",
       " 0.2708464706596072,\n",
       " 0.28542954124641506,\n",
       " 0.2997209504214868,\n",
       " 0.29372653141305705,\n",
       " 0.2878520007847959,\n",
       " 0.28209496076909996,\n",
       " 0.296453061553718,\n",
       " 0.31052400032264366,\n",
       " 0.3043135203161908,\n",
       " 0.298227249909867,\n",
       " 0.3122627049116697,\n",
       " 0.3060174508134363,\n",
       " 0.29989710179716755,\n",
       " 0.31389915976122423,\n",
       " 0.30762117656599974,\n",
       " 0.30146875303467974,\n",
       " 0.2954393779739861,\n",
       " 0.2895305904145064,\n",
       " 0.28373997860621625,\n",
       " 0.2980651790340919,\n",
       " 0.29210387545341004,\n",
       " 0.2862617979443418,\n",
       " 0.28053656198545496,\n",
       " 0.29492583074574585,\n",
       " 0.28902731413083094,\n",
       " 0.2832467678482143,\n",
       " 0.27758183249125,\n",
       " 0.272030195841425,\n",
       " 0.2665895919245965,\n",
       " 0.2612578000861046,\n",
       " 0.27603264408438255,\n",
       " 0.27051199120269487,\n",
       " 0.28510175137864097,\n",
       " 0.29939971635106816,\n",
       " 0.2934117220240468,\n",
       " 0.28754348758356585,\n",
       " 0.2817926178318945,\n",
       " 0.27615676547525664,\n",
       " 0.2706336301657515,\n",
       " 0.2852209575624365,\n",
       " 0.27951653841118773,\n",
       " 0.293926207642964,\n",
       " 0.28804768349010473,\n",
       " 0.2822867298203026,\n",
       " 0.27664099522389657,\n",
       " 0.2711081753194186,\n",
       " 0.26568601181303025,\n",
       " 0.26037229157676967,\n",
       " 0.2551648457452343,\n",
       " 0.2500615488303296,\n",
       " 0.245060317853723,\n",
       " 0.24015911149664854,\n",
       " 0.23535592926671556,\n",
       " 0.23064881068138124,\n",
       " 0.2260358344677536,\n",
       " 0.22151511777839852,\n",
       " 0.21708481542283056,\n",
       " 0.21274311911437394,\n",
       " 0.22848825673208645,\n",
       " 0.2239184915974447,\n",
       " 0.2194401217654958,\n",
       " 0.21505131933018587,\n",
       " 0.23075029294358212,\n",
       " 0.22613528708471048,\n",
       " 0.22161258134301626,\n",
       " 0.2371803297161559,\n",
       " 0.23243672312183278,\n",
       " 0.22778798865939612,\n",
       " 0.2232322288862082,\n",
       " 0.21876758430848403,\n",
       " 0.21439223262231435,\n",
       " 0.21010438796986805,\n",
       " 0.20590230021047068,\n",
       " 0.20178425420626125,\n",
       " 0.21774856912213603,\n",
       " 0.2133935977396933,\n",
       " 0.20912572578489944,\n",
       " 0.20494321126920145,\n",
       " 0.20084434704381743,\n",
       " 0.19682746010294108,\n",
       " 0.19289091090088226,\n",
       " 0.1890330926828646,\n",
       " 0.1852524308292073,\n",
       " 0.18154738221262315,\n",
       " 0.19791643456837069,\n",
       " 0.19395810587700327,\n",
       " 0.21007894375946318,\n",
       " 0.2058773648842739,\n",
       " 0.20175981758658842,\n",
       " 0.19772462123485665,\n",
       " 0.1937701288101595,\n",
       " 0.1898947262339563,\n",
       " 0.18609683170927718,\n",
       " 0.18237489507509164,\n",
       " 0.1787273971735898,\n",
       " 0.17515284923011798,\n",
       " 0.1916497922455156,\n",
       " 0.18781679640060528,\n",
       " 0.20406046047259316,\n",
       " 0.19997925126314128,\n",
       " 0.19597966623787846,\n",
       " 0.19206007291312088,\n",
       " 0.18821887145485847,\n",
       " 0.1844544940257613,\n",
       " 0.18076540414524608,\n",
       " 0.17715009606234117,\n",
       " 0.17360709414109435,\n",
       " 0.17013495225827246,\n",
       " 0.166732253213107,\n",
       " 0.16339760814884485,\n",
       " 0.16012965598586795,\n",
       " 0.1769270628661506,\n",
       " 0.19338852160882758,\n",
       " 0.18952075117665101,\n",
       " 0.20573033615311798,\n",
       " 0.2216157294300556,\n",
       " 0.2171834148414545,\n",
       " 0.21283974654462542,\n",
       " 0.20858295161373291,\n",
       " 0.22441129258145825,\n",
       " 0.23992306672982908,\n",
       " 0.2351246053952325,\n",
       " 0.25042211328732783,\n",
       " 0.26541367102158125,\n",
       " 0.26010539760114965,\n",
       " 0.2749032896491267,\n",
       " 0.2694052238561441,\n",
       " 0.2640171193790212,\n",
       " 0.27873677699144084,\n",
       " 0.293162041451612,\n",
       " 0.2872988006225798,\n",
       " 0.2815528246101282,\n",
       " 0.2759217681179256,\n",
       " 0.2704033327555671,\n",
       " 0.26499526610045576,\n",
       " 0.2596953607784466,\n",
       " 0.2545014535628777,\n",
       " 0.26941142449162014,\n",
       " 0.26402319600178775,\n",
       " 0.25874273208175197,\n",
       " 0.25356787744011694,\n",
       " 0.2484965198913146,\n",
       " 0.24352658949348832,\n",
       " 0.23865605770361856,\n",
       " 0.23388293654954617,\n",
       " 0.22920527781855524,\n",
       " 0.2446211722621841,\n",
       " 0.23972874881694042,\n",
       " 0.2349341738406016,\n",
       " 0.23023549036378957,\n",
       " 0.22563078055651378,\n",
       " 0.2211181649453835,\n",
       " 0.21669580164647584,\n",
       " 0.23236188561354632,\n",
       " 0.22771464790127538,\n",
       " 0.22316035494324987,\n",
       " 0.23869714784438487,\n",
       " 0.25392320488749714,\n",
       " 0.2488447407897472,\n",
       " 0.26386784597395224,\n",
       " 0.2585904890544732,\n",
       " 0.25341867927338374,\n",
       " 0.24835030568791605,\n",
       " 0.24338329957415772,\n",
       " 0.25851563358267454,\n",
       " 0.253345320911021,\n",
       " 0.2482784144928006,\n",
       " 0.2433128462029446,\n",
       " 0.2384465892788857,\n",
       " 0.233677657493308,\n",
       " 0.22900410434344182,\n",
       " 0.22442402225657299,\n",
       " 0.2199355418114415,\n",
       " 0.21553683097521267,\n",
       " 0.2112260943557084,\n",
       " 0.20700157246859424,\n",
       " 0.20286154101922235,\n",
       " 0.2188043101988379,\n",
       " 0.23442822399486113,\n",
       " 0.2297396595149639,\n",
       " 0.2251448663246646,\n",
       " 0.22064196899817132,\n",
       " 0.2162291296182079,\n",
       " 0.23190454702584373,\n",
       " 0.22726645608532686,\n",
       " 0.22272112696362031,\n",
       " 0.2182667044243479,\n",
       " 0.21390137033586093,\n",
       " 0.2096233429291437,\n",
       " 0.20543087607056082,\n",
       " 0.2013222585491496]"
      ]
     },
     "execution_count": 14,
     "metadata": {},
     "output_type": "execute_result"
    }
   ],
   "source": [
    "env=toyQ_2choice()\n",
    "rat=SQFSrat(env,alphaF=0.02,alphaS=0.02)\n",
    "env,rat=train_rat(env,rat,300)\n",
    "rat.Qlog"
   ]
  },
  {
   "cell_type": "markdown",
   "metadata": {},
   "source": [
    "# Testing(FSRat)"
   ]
  },
  {
   "cell_type": "code",
   "execution_count": 21,
   "metadata": {},
   "outputs": [
    {
     "name": "stdout",
     "output_type": "stream",
     "text": [
      "reward_log: [  8 217]\n",
      "choice_log: [ 30 270]\n"
     ]
    },
    {
     "data": {
      "text/plain": [
       "array([[0.46259591, 0.95339882]])"
      ]
     },
     "execution_count": 21,
     "metadata": {},
     "output_type": "execute_result"
    }
   ],
   "source": [
    "env=toyQ_2choice()\n",
    "rat=FSrat(env,alphaF=0.025,alphaS=0.1)\n",
    "env,rat=train_rat(env,rat,300)\n",
    "obslog=np.array(env.obslog)\n",
    "choicelog=np.array(rat.choiceLog) \n",
    "print('reward_log:',np.sum(obslog,axis=0))\n",
    "print('choice_log:',np.sum(choicelog,axis=0))\n",
    "rat.Q"
   ]
  },
  {
   "cell_type": "markdown",
   "metadata": {},
   "source": [
    "# Testing(SigRat)"
   ]
  },
  {
   "cell_type": "code",
   "execution_count": 62,
   "metadata": {
    "scrolled": false
   },
   "outputs": [
    {
     "name": "stdout",
     "output_type": "stream",
     "text": [
      "reward_log: [ 22 160]\n",
      "choice_log: [ 88 212]\n"
     ]
    },
    {
     "data": {
      "text/plain": [
       "array([[0.238558  , 0.73693724]])"
      ]
     },
     "execution_count": 62,
     "metadata": {},
     "output_type": "execute_result"
    }
   ],
   "source": [
    "env=toyQ_2choice()\n",
    "rat=sig_rat(env,alpha=0.05,beta=2)\n",
    "env,rat=train_rat(env,rat,300)\n",
    "obslog=np.array(env.obslog)\n",
    "choicelog=np.array(rat.choiceLog) \n",
    "print('reward_log:',np.sum(obslog,axis=0))\n",
    "print('choice_log:',np.sum(choicelog,axis=0))\n",
    "rat.Q"
   ]
  },
  {
   "cell_type": "markdown",
   "metadata": {},
   "source": [
    "# Likelihood Log"
   ]
  },
  {
   "cell_type": "code",
   "execution_count": 8,
   "metadata": {},
   "outputs": [
    {
     "data": {
      "text/plain": [
       "[<matplotlib.lines.Line2D at 0x1021fdd2e8>]"
      ]
     },
     "execution_count": 8,
     "metadata": {},
     "output_type": "execute_result"
    },
    {
     "data": {
      "image/png": "[encoded data removed]",
      "text/plain": [
       "<Figure size 432x288 with 1 Axes>"
      ]
     },
     "metadata": {
      "needs_background": "light"
     },
     "output_type": "display_data"
    }
   ],
   "source": [
    "plt.plot(rat.lhLog) # the model prediction of going left"
   ]
  },
  {
   "cell_type": "markdown",
   "metadata": {},
   "source": [
    "# Viusalization"
   ]
  },
  {
   "cell_type": "code",
   "execution_count": 9,
   "metadata": {
    "scrolled": true
   },
   "outputs": [
    {
     "data": {
      "text/plain": [
       "(array([ 642.,    0.,    0.,    0.,    0.,    0.,    0.,    0.,    0.,\n",
       "        4358.]),\n",
       " array([0. , 0.1, 0.2, 0.3, 0.4, 0.5, 0.6, 0.7, 0.8, 0.9, 1. ]),\n",
       " <a list of 10 Patch objects>)"
      ]
     },
     "execution_count": 9,
     "metadata": {},
     "output_type": "execute_result"
    },
    {
     "data": {
      "image/png": "[encoded data removed]",
      "text/plain": [
       "<Figure size 432x288 with 1 Axes>"
      ]
     },
     "metadata": {
      "needs_background": "light"
     },
     "output_type": "display_data"
    },
    {
     "data": {
      "image/png": "[encoded data removed]",
      "text/plain": [
       "<Figure size 432x288 with 1 Axes>"
      ]
     },
     "metadata": {
      "needs_background": "light"
     },
     "output_type": "display_data"
    }
   ],
   "source": [
    "qlog=np.array(rat.Qlog)[:] # first 1000 times\n",
    "plt.figure(1)\n",
    "plt.plot(qlog[:,0])\n",
    "plt.plot(qlog[:,1])\n",
    "line0, = plt.plot(qlog[:,0], label='right')\n",
    "line1, = plt.plot(qlog[:,1], label='left')\n",
    "plt.legend(loc='upper left')\n",
    "plt.title('Q is a low-pass filter of R')\n",
    "plt.xlabel('iteration #')\n",
    "plt.ylabel('Q-value')\n",
    "plt.figure(2)\n",
    "alog=np.array(rat.choiceLog)\n",
    "plt.hist(alog[:,1])"
   ]
  },
  {
   "cell_type": "markdown",
   "metadata": {},
   "source": [
    "# MLE"
   ]
  },
  {
   "cell_type": "code",
   "execution_count": 63,
   "metadata": {},
   "outputs": [],
   "source": [
    "actions = rat.choiceLog\n",
    "rewards = env.obslog"
   ]
  },
  {
   "cell_type": "code",
   "execution_count": 10,
   "metadata": {},
   "outputs": [
    {
     "ename": "NameError",
     "evalue": "name 'actions' is not defined",
     "output_type": "error",
     "traceback": [
      "\u001b[0;31m---------------------------------------------------------------------------\u001b[0m",
      "\u001b[0;31mNameError\u001b[0m                                 Traceback (most recent call last)",
      "\u001b[0;32m<ipython-input-10-60391f164d03>\u001b[0m in \u001b[0;36m<module>\u001b[0;34m\u001b[0m\n\u001b[1;32m      2\u001b[0m \u001b[0mavals\u001b[0m \u001b[0;34m=\u001b[0m \u001b[0mnp\u001b[0m\u001b[0;34m.\u001b[0m\u001b[0mlinspace\u001b[0m\u001b[0;34m(\u001b[0m\u001b[0;36m0\u001b[0m\u001b[0;34m,\u001b[0m\u001b[0;36m1\u001b[0m\u001b[0;34m,\u001b[0m\u001b[0;36m200\u001b[0m\u001b[0;34m)\u001b[0m\u001b[0;34m\u001b[0m\u001b[0;34m\u001b[0m\u001b[0m\n\u001b[1;32m      3\u001b[0m \u001b[0;31m# ll = [neg_log_likelihood(0.2,b,actions,rewards) for b in bvals]\u001b[0m\u001b[0;34m\u001b[0m\u001b[0;34m\u001b[0m\u001b[0;34m\u001b[0m\u001b[0m\n\u001b[0;32m----> 4\u001b[0;31m \u001b[0mll\u001b[0m \u001b[0;34m=\u001b[0m \u001b[0;34m[\u001b[0m\u001b[0mneg_log_likelihood\u001b[0m\u001b[0;34m(\u001b[0m\u001b[0ma\u001b[0m\u001b[0;34m,\u001b[0m\u001b[0;36m2\u001b[0m\u001b[0;34m,\u001b[0m\u001b[0mactions\u001b[0m\u001b[0;34m,\u001b[0m\u001b[0mrewards\u001b[0m\u001b[0;34m)\u001b[0m \u001b[0;32mfor\u001b[0m \u001b[0ma\u001b[0m \u001b[0;32min\u001b[0m \u001b[0mavals\u001b[0m\u001b[0;34m]\u001b[0m\u001b[0;34m\u001b[0m\u001b[0;34m\u001b[0m\u001b[0m\n\u001b[0m\u001b[1;32m      5\u001b[0m \u001b[0mllb\u001b[0m \u001b[0;34m=\u001b[0m \u001b[0;34m[\u001b[0m\u001b[0mneg_log_likelihood\u001b[0m\u001b[0;34m(\u001b[0m\u001b[0;36m0.05\u001b[0m\u001b[0;34m,\u001b[0m\u001b[0mb\u001b[0m\u001b[0;34m,\u001b[0m\u001b[0mactions\u001b[0m\u001b[0;34m,\u001b[0m\u001b[0mrewards\u001b[0m\u001b[0;34m)\u001b[0m \u001b[0;32mfor\u001b[0m \u001b[0mb\u001b[0m \u001b[0;32min\u001b[0m \u001b[0mbvals\u001b[0m\u001b[0;34m]\u001b[0m\u001b[0;34m\u001b[0m\u001b[0;34m\u001b[0m\u001b[0m\n\u001b[1;32m      6\u001b[0m \u001b[0mplt\u001b[0m\u001b[0;34m.\u001b[0m\u001b[0mfigure\u001b[0m\u001b[0;34m(\u001b[0m\u001b[0;36m1\u001b[0m\u001b[0;34m)\u001b[0m\u001b[0;34m\u001b[0m\u001b[0;34m\u001b[0m\u001b[0m\n",
      "\u001b[0;32m<ipython-input-10-60391f164d03>\u001b[0m in \u001b[0;36m<listcomp>\u001b[0;34m(.0)\u001b[0m\n\u001b[1;32m      2\u001b[0m \u001b[0mavals\u001b[0m \u001b[0;34m=\u001b[0m \u001b[0mnp\u001b[0m\u001b[0;34m.\u001b[0m\u001b[0mlinspace\u001b[0m\u001b[0;34m(\u001b[0m\u001b[0;36m0\u001b[0m\u001b[0;34m,\u001b[0m\u001b[0;36m1\u001b[0m\u001b[0;34m,\u001b[0m\u001b[0;36m200\u001b[0m\u001b[0;34m)\u001b[0m\u001b[0;34m\u001b[0m\u001b[0;34m\u001b[0m\u001b[0m\n\u001b[1;32m      3\u001b[0m \u001b[0;31m# ll = [neg_log_likelihood(0.2,b,actions,rewards) for b in bvals]\u001b[0m\u001b[0;34m\u001b[0m\u001b[0;34m\u001b[0m\u001b[0;34m\u001b[0m\u001b[0m\n\u001b[0;32m----> 4\u001b[0;31m \u001b[0mll\u001b[0m \u001b[0;34m=\u001b[0m \u001b[0;34m[\u001b[0m\u001b[0mneg_log_likelihood\u001b[0m\u001b[0;34m(\u001b[0m\u001b[0ma\u001b[0m\u001b[0;34m,\u001b[0m\u001b[0;36m2\u001b[0m\u001b[0;34m,\u001b[0m\u001b[0mactions\u001b[0m\u001b[0;34m,\u001b[0m\u001b[0mrewards\u001b[0m\u001b[0;34m)\u001b[0m \u001b[0;32mfor\u001b[0m \u001b[0ma\u001b[0m \u001b[0;32min\u001b[0m \u001b[0mavals\u001b[0m\u001b[0;34m]\u001b[0m\u001b[0;34m\u001b[0m\u001b[0;34m\u001b[0m\u001b[0m\n\u001b[0m\u001b[1;32m      5\u001b[0m \u001b[0mllb\u001b[0m \u001b[0;34m=\u001b[0m \u001b[0;34m[\u001b[0m\u001b[0mneg_log_likelihood\u001b[0m\u001b[0;34m(\u001b[0m\u001b[0;36m0.05\u001b[0m\u001b[0;34m,\u001b[0m\u001b[0mb\u001b[0m\u001b[0;34m,\u001b[0m\u001b[0mactions\u001b[0m\u001b[0;34m,\u001b[0m\u001b[0mrewards\u001b[0m\u001b[0;34m)\u001b[0m \u001b[0;32mfor\u001b[0m \u001b[0mb\u001b[0m \u001b[0;32min\u001b[0m \u001b[0mbvals\u001b[0m\u001b[0;34m]\u001b[0m\u001b[0;34m\u001b[0m\u001b[0;34m\u001b[0m\u001b[0m\n\u001b[1;32m      6\u001b[0m \u001b[0mplt\u001b[0m\u001b[0;34m.\u001b[0m\u001b[0mfigure\u001b[0m\u001b[0;34m(\u001b[0m\u001b[0;36m1\u001b[0m\u001b[0;34m)\u001b[0m\u001b[0;34m\u001b[0m\u001b[0;34m\u001b[0m\u001b[0m\n",
      "\u001b[0;31mNameError\u001b[0m: name 'actions' is not defined"
     ]
    }
   ],
   "source": [
    "bvals = np.linspace(0,10,50)\n",
    "avals = np.linspace(0,1,200)\n",
    "# ll = [neg_log_likelihood(0.2,b,actions,rewards) for b in bvals]\n",
    "ll = [neg_log_likelihood(a,2,actions,rewards) for a in avals]\n",
    "llb = [neg_log_likelihood(0.05,b,actions,rewards) for b in bvals]\n",
    "plt.figure(1)\n",
    "plt.plot(avals, ll)\n",
    "plt.title('Alpha')\n",
    "plt.figure(2)\n",
    "plt.plot(bvals, llb)\n",
    "plt.title(\"Beta\")\n",
    "plt.show()"
   ]
  },
  {
   "cell_type": "code",
   "execution_count": 65,
   "metadata": {},
   "outputs": [],
   "source": [
    "# function that estimates the maximum-likelihood beta_hat numerically\n",
    "# parameters: actions, a numpy array recording action of agent in each turn; beta is the parameter in density func\n",
    "# return minimization summary and print beta_hat\n",
    "def MLE_grid(actions,rewards,alpha0,beta0):\n",
    "    initial_guess = [alpha0,beta0]\n",
    "    args = [actions,rewards]\n",
    "    result = minimize(helper_func,initial_guess,args=args)\n",
    "    if(result.success):\n",
    "        #print(result.message)\n",
    "        #print('The MLE for beta is', result.x)\n",
    "        #print('Iteration =', result.nit)\n",
    "        a=0\n",
    "    else:\n",
    "        print('The optimization did not converge, beta0 equals', beta0,', and alpha0 equals',alpha0)\n",
    "    return result\n",
    "    \n",
    "# return mse between simulated Q and Q_hat calculated with optimal beta from MLE\n",
    "def Q_distance(iteration,alpha0,beta0):\n",
    "    env = toyQ_2choice()\n",
    "    rat = sig_rat(env, alpha=alpha0, beta=beta0)\n",
    "    env,rat = train_rat(env,rat,iteration)\n",
    "    Q = np.array(rat.Qlog)\n",
    "    actions = rat.choiceLog\n",
    "    rewards = env.obslog\n",
    "    \n",
    "    result = MLE_grid(actions,rewards,alpha0,beta0)\n",
    "    alpha_hat = result.x[0]\n",
    "    beta_hat = result.x[1]\n",
    "    \n",
    "    rat_hat = sig_rat(env, alpha=alpha_hat, beta=beta_hat)\n",
    "    env,rat_hat = train_rat(env,rat_hat,iteration)\n",
    "    Q_hat = np.array(rat_hat.Qlog)\n",
    "    d\n",
    "    #Q[0]=[0,0] does not matter\n",
    "    mse = np.linalg.norm(Q-Q_hat)**2/iteration \n",
    "    #axis=None perform mean elementwise   (np.square(Q-Q_hat)).mean(axis=None)*2\n",
    "    \n",
    "    return mse\n",
    "    \n",
    "    "
   ]
  },
  {
   "cell_type": "code",
   "execution_count": null,
   "metadata": {},
   "outputs": [],
   "source": []
  }
 ],
 "metadata": {
  "kernelspec": {
   "display_name": "Python 3",
   "language": "python",
   "name": "python3"
  },
  "language_info": {
   "codemirror_mode": {
    "name": "ipython",
    "version": 3
   },
   "file_extension": ".py",
   "mimetype": "text/x-python",
   "name": "python",
   "nbconvert_exporter": "python",
   "pygments_lexer": "ipython3",
   "version": "3.7.2"
  }
 },
 "nbformat": 4,
 "nbformat_minor": 2
}
