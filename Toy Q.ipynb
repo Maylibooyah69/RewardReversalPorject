{
 "cells": [
  {
   "cell_type": "code",
   "execution_count": 5,
   "metadata": {},
   "outputs": [],
   "source": [
    "import numpy as np\n",
    "import random\n",
    "import matplotlib.pyplot as plt"
   ]
  },
  {
   "cell_type": "markdown",
   "metadata": {},
   "source": [
    "# Left 20%, Right 80%\n",
    "\n",
    "suppose the probability distribution of getting reward is constant.\n",
    "\n",
    "only two choise, left or right.\n",
    "\n",
    "there would be no states but the learning change would be marked by time\n",
    "\n",
    "the randomness of exploring instead of always choose the maximum expectation is modelled by sigmoid function, which makes such randomness constantly changing along time"
   ]
  },
  {
   "cell_type": "code",
   "execution_count": 99,
   "metadata": {},
   "outputs": [],
   "source": [
    "# some constants\n",
    "action_size = 2 #turn left or right\n",
    "alpha = 0.2 #learning rate\n",
    "beta = 1 # sharpness of sigmoid; want it to be smooth first\n",
    "gamma = 1 # the default of gamma should be 1\n",
    "left = 0.2 # probablity of reward in left\n",
    "right = 1 - left # probability of reward in right\n",
    "iteration = 80000\n",
    "every_it_print=1000"
   ]
  },
  {
   "cell_type": "code",
   "execution_count": 103,
   "metadata": {},
   "outputs": [],
   "source": [
    "# sigmoid function for nd; return the value of sigmoid with argument beta\n",
    "# q can be n dimensional, either list or int/float\n",
    "# beta should be between 0 and 1; determine the sharpness of sigmoid\n",
    "\n",
    "def sigmoid(beta,q):\n",
    "    if type(q) is list:\n",
    "        val = [1/float(1+np.exp(0-beta*i)) for i in q]    \n",
    "    else:\n",
    "        val = 1/float(1+np.exp(0-beta*q))\n",
    "    return val"
   ]
  },
  {
   "cell_type": "code",
   "execution_count": 104,
   "metadata": {},
   "outputs": [],
   "source": [
    "# Q table; 2x1\n",
    "Q = np.random.uniform(low=0,high=1,size=(action_size))"
   ]
  },
  {
   "cell_type": "code",
   "execution_count": 105,
   "metadata": {},
   "outputs": [
    {
     "name": "stdout",
     "output_type": "stream",
     "text": [
      "[0.35756893 0.25792125]\n",
      "[1.25804626 1.70685553]\n",
      "[0.80376855 2.76493303]\n",
      "[1.31566926 1.50026023]\n",
      "[1.13494414 1.19345211]\n",
      "[1.00214463 1.44216473]\n",
      "[0.27955946 3.56770916]\n",
      "[1.16101551 1.79594416]\n",
      "[0.84630877 3.21795523]\n",
      "[1.13679716 1.37731941]\n",
      "[0.81622686 2.54947098]\n",
      "[1.95966537 1.18522726]\n",
      "[1.60290995 1.51366281]\n",
      "[0.54072654 1.95766104]\n",
      "[1.55052971 1.14887867]\n",
      "[0.58239592 2.52093646]\n",
      "[0.84139145 2.13246912]\n",
      "[1.16428459 1.64125669]\n",
      "[0.88007806 1.82290852]\n",
      "[1.33412783 1.90803912]\n",
      "[1.13510418 1.2803176 ]\n",
      "[1.06410449 2.74232708]\n",
      "[1.49347035 2.66699975]\n",
      "[0.31068407 2.68388768]\n",
      "[1.09218836 1.48462496]\n",
      "[1.15806239 1.63807532]\n",
      "[0.86213206 2.04476595]\n",
      "[1.19262947 1.5703723 ]\n",
      "[0.64664217 1.99205997]\n",
      "[0.42676617 2.43997283]\n",
      "[0.48574988 2.68809804]\n",
      "[0.72489527 2.72470408]\n",
      "[0.8285559  2.13567741]\n",
      "[0.84707696 2.71485224]\n",
      "[1.28394504 2.37687439]\n",
      "[1.09469733 2.47899996]\n",
      "[1.01665532 2.22190689]\n",
      "[0.47362683 2.1951602 ]\n",
      "[0.99922653 1.47651463]\n",
      "[0.95693312 2.51731896]\n",
      "[1.03940751 1.5204203 ]\n",
      "[1.24728735 1.2109995 ]\n",
      "[0.51804356 2.51820728]\n",
      "[1.04716149 1.51821637]\n",
      "[1.08569902 1.57119346]\n",
      "[0.85077188 2.20382966]\n",
      "[1.05173741 1.84709948]\n",
      "[0.98916803 1.916461  ]\n",
      "[1.24497142 1.55975911]\n",
      "[0.69293995 2.03855782]\n",
      "[1.39980707 1.36571138]\n",
      "[1.59026644 1.78355047]\n",
      "[1.66101624 2.06197509]\n",
      "[0.99301751 1.77910661]\n",
      "[1.27378082 1.95094284]\n",
      "[0.75621618 2.47851101]\n",
      "[1.3940284  1.59546983]\n",
      "[1.02981426 1.57679721]\n",
      "[1.38015239 1.10149004]\n",
      "[1.37684219 1.68144783]\n",
      "[1.11542331 1.82929615]\n",
      "[1.4846489  1.81228548]\n",
      "[0.62353002 2.09027423]\n",
      "[1.16994179 1.65429944]\n",
      "[1.44036422 1.30928011]\n",
      "[1.60070701 1.18565938]\n",
      "[1.4392327 1.2324621]\n",
      "[1.02280703 1.38445291]\n",
      "[1.24770483 1.58689875]\n",
      "[0.94064964 2.19539683]\n",
      "[0.78356514 2.94513237]\n",
      "[0.91358286 1.9232786 ]\n",
      "[0.67572547 1.92103479]\n",
      "[0.62266409 2.27102905]\n",
      "[1.18985997 2.15589527]\n",
      "[0.49766071 2.18690219]\n",
      "[0.87616365 1.68284197]\n",
      "[1.2106438  1.53282318]\n",
      "[1.27304887 1.64201321]\n",
      "[0.8068002  2.44475614]\n"
     ]
    }
   ],
   "source": [
    "# Experiment\n",
    "# reward = (1,0) represent reward is on the left, (0,1) right\n",
    "# turn = (1,0) represent rat is on the left, (0,1) right\n",
    "\n",
    "l_rat = 0.5 # evaluation from rat on how likely the reward is on left\n",
    "r_rat = 0.5 # that for right\n",
    "reward_rat = 0 # reward got by rat by last action; = reward\n",
    "exp = 0 # action that maximize reward; 0 for left, 1 for right\n",
    "\n",
    "count = 0 # count for continuous success of choosing the advantageous action(here, the right)\n",
    "\n",
    "for i in range(iteration):\n",
    "            \n",
    "    # 0. get choice from rat * this was set in the wrong order previously such that choice did not interwact with reward\n",
    "    ratio = l_rat/(l_rat+r_rat)\n",
    "    if ratio > random.uniform(0,1):\n",
    "        turn = np.array([1,0])\n",
    "    else:\n",
    "        turn = np.array([0,1])\n",
    "\n",
    "    # 0. set reward \n",
    "    if random.uniform(0,1) < left and np.array_equal(turn,np.array([1,0])):\n",
    "        reward = np.array((1,0))\n",
    "    else:\n",
    "        reward = np.array((0,1))\n",
    "            \n",
    "    # 2. update rat's information \n",
    "    Q = (1-alpha)*Q + alpha*(reward + gamma*np.max(Q)*turn) # I think this is where it went wrong\n",
    "    # you should only update the action taken\n",
    "    l_rat = sigmoid(beta,Q[0])/(sigmoid(beta,Q[0])+sigmoid(beta,Q[1]))\n",
    "    \n",
    "\n",
    "    # 3. update count\n",
    "    if np.array_equal(turn,np.array([1,0])):\n",
    "        count = 0\n",
    "    elif np.array_equal(turn,np.array([0,1])):\n",
    "        count = count + 1\n",
    "        \n",
    "        \n",
    "    # Show ongoing results\n",
    "    if i%every_it_print==0:\n",
    "        print(Q)\n",
    "    # end experiment if rat made more than 10 times right turn, which has prob < 0.00098 by purely random choice\n",
    "#     if i == 280: #abs(r_rat-right < 0.01) # count > 10\n",
    "#         print('The rat might has learned somthing. Iteration number:')\n",
    "#         print(Q)\n",
    "\n",
    "#         break"
   ]
  },
  {
   "cell_type": "code",
   "execution_count": 247,
   "metadata": {},
   "outputs": [],
   "source": [
    "env=[0.2,0.8]\n",
    "train_size=5000\n",
    "def get_reward(action,env): # 0 when reward is on the left\n",
    "    if np.random.uniform(0,1)<env[1]:\n",
    "        return int(action==1)\n",
    "    else:\n",
    "        return int(action==0)\n",
    "def get_action(Q):\n",
    "    return np.argmax(Q)"
   ]
  },
  {
   "cell_type": "code",
   "execution_count": null,
   "metadata": {},
   "outputs": [],
   "source": [
    "# second implementation\n",
    "actions = np.array([0,1]) # 0 for left, 1 for right\n",
    "Q = np.random.uniform(low=0,high=1,size=(action_size))\n",
    "for i in range(train_size):\n",
    "    action=get_action(Q)\n",
    "    reward=get_reward(action,env)\n",
    "    Q[action]=(1-alpha)*Q[action]+alpha*(reward+gamma*np.max(Q))\n",
    "print(Q)"
   ]
  },
  {
   "cell_type": "code",
   "execution_count": 306,
   "metadata": {},
   "outputs": [
    {
     "data": {
      "text/plain": [
       "0"
      ]
     },
     "execution_count": 306,
     "metadata": {},
     "output_type": "execute_result"
    }
   ],
   "source": [
    "get_reward(1,env)"
   ]
  },
  {
   "cell_type": "code",
   "execution_count": 307,
   "metadata": {},
   "outputs": [
    {
     "data": {
      "text/plain": [
       "True"
      ]
     },
     "execution_count": 307,
     "metadata": {},
     "output_type": "execute_result"
    }
   ],
   "source": [
    "np.array_equal(test,np.array([1,2]))"
   ]
  },
  {
   "cell_type": "code",
   "execution_count": null,
   "metadata": {},
   "outputs": [],
   "source": []
  },
  {
   "cell_type": "code",
   "execution_count": null,
   "metadata": {},
   "outputs": [],
   "source": []
  },
  {
   "cell_type": "code",
   "execution_count": null,
   "metadata": {
    "collapsed": true
   },
   "outputs": [],
   "source": []
  },
  {
   "cell_type": "code",
   "execution_count": null,
   "metadata": {
    "collapsed": true
   },
   "outputs": [],
   "source": []
  },
  {
   "cell_type": "code",
   "execution_count": null,
   "metadata": {
    "collapsed": true
   },
   "outputs": [],
   "source": []
  },
  {
   "cell_type": "code",
   "execution_count": null,
   "metadata": {
    "collapsed": true
   },
   "outputs": [],
   "source": []
  },
  {
   "cell_type": "code",
   "execution_count": null,
   "metadata": {
    "collapsed": true
   },
   "outputs": [],
   "source": []
  },
  {
   "cell_type": "code",
   "execution_count": null,
   "metadata": {
    "collapsed": true
   },
   "outputs": [],
   "source": []
  },
  {
   "cell_type": "code",
   "execution_count": null,
   "metadata": {
    "collapsed": true
   },
   "outputs": [],
   "source": []
  }
 ],
 "metadata": {
  "kernelspec": {
   "display_name": "Python 3",
   "language": "python",
   "name": "python3"
  },
  "language_info": {
   "codemirror_mode": {
    "name": "ipython",
    "version": 3
   },
   "file_extension": ".py",
   "mimetype": "text/x-python",
   "name": "python",
   "nbconvert_exporter": "python",
   "pygments_lexer": "ipython3",
   "version": "3.7.2"
  }
 },
 "nbformat": 4,
 "nbformat_minor": 2
}
