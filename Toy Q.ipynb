{
 "cells": [
  {
   "cell_type": "code",
   "execution_count": 358,
   "metadata": {},
   "outputs": [],
   "source": [
    "import numpy as np\n",
    "import random\n",
    "import matplotlib.pyplot as plt\n",
    "%config IPCompleter.greedy=True "
   ]
  },
  {
   "cell_type": "markdown",
   "metadata": {},
   "source": [
    "# Left 20%, Right 80%\n",
    "\n",
    "suppose the probability distribution of getting reward is constant.\n",
    "\n",
    "only two choise, left or right.\n",
    "\n",
    "there would be no states but the learning change would be marked by time\n",
    "\n",
    "the randomness of exploring instead of always choose the maximum expectation is modelled by sigmoid function, which makes such randomness constantly changing along time"
   ]
  },
  {
   "cell_type": "markdown",
   "metadata": {},
   "source": [
    "# Todo: add in more policies"
   ]
  },
  {
   "cell_type": "code",
   "execution_count": 404,
   "metadata": {},
   "outputs": [],
   "source": [
    "# some constants\n",
    "obs_size = 2 # get 0 or 1 as reward\n",
    "action_size = 2 #turn left or right\n",
    "alpha = 0.2 #learning rate\n",
    "beta = -6 # sharpness of sigmoid; this could be dynamic\n",
    "gamma = 0\n",
    "iteration = 80000\n",
    "every_it_print=1000\n",
    "\n",
    "# Env Policy\n",
    "left = 0.2 # probablity of reward in left\n",
    "right = 1 - left # probability of reward in right"
   ]
  },
  {
   "cell_type": "code",
   "execution_count": 389,
   "metadata": {},
   "outputs": [],
   "source": [
    "# sigmoid function for nd; return the value of sigmoid with argument beta\n",
    "# q can be n dimensional, either list or int/float\n",
    "# beta should be between 0 and 1; determine the sharpness of sigmoid\n",
    "# we can also try different functions here\n",
    "def sigmoid(beta,q):\n",
    "    q=np.array(q)\n",
    "    val = 1/(1+np.exp(0-beta*q))\n",
    "    return val"
   ]
  },
  {
   "cell_type": "code",
   "execution_count": 396,
   "metadata": {},
   "outputs": [],
   "source": [
    "# Q table; 2x1\n"
   ]
  },
  {
   "cell_type": "code",
   "execution_count": 424,
   "metadata": {
    "scrolled": false
   },
   "outputs": [
    {
     "name": "stdout",
     "output_type": "stream",
     "text": [
      "[0.2 0. ] [1 0]\n",
      "[0.20565641 0.98615465] [0 1]\n",
      "[0.05148447 0.7197463 ] [0 0]\n",
      "[0.02729802 0.74234068] [0 1]\n",
      "[0.15894718 0.90048771] [0 1]\n",
      "[0.03550208 0.99435758] [0 1]\n",
      "[0.21751051 0.70470239] [0 1]\n",
      "[0.040686   0.88229396] [0 1]\n",
      "[0.00548637 0.84096467] [0 1]\n",
      "[0.02240687 0.99292153] [0 1]\n",
      "[0.05270767 0.78643596] [0 1]\n",
      "[0.02185115 0.62799068] [0 0]\n",
      "[0.12613082 0.6497607 ] [0 1]\n",
      "[0.30620393 0.56529257] [0 0]\n",
      "[0.18031084 0.90820858] [0 1]\n",
      "[0.20115   0.9112828] [0 1]\n",
      "[0.2667841  0.95818164] [0 1]\n",
      "[0.18973449 0.9261738 ] [0 1]\n",
      "[0.08485982 0.9326607 ] [0 1]\n",
      "[0.00920214 0.68092371] [0 1]\n",
      "[0.08912699 0.75785371] [0 0]\n",
      "[0.11851304 0.79892138] [0 0]\n",
      "[0.1317944  0.94924216] [0 1]\n",
      "[0.03275856 0.83070151] [0 1]\n",
      "[0.02694255 0.835411  ] [0 1]\n",
      "[0.14014325 0.72269458] [0 1]\n",
      "[0.05281038 0.85188266] [0 1]\n",
      "[0.16095135 0.72510061] [0 1]\n",
      "[0.29468174 0.73639267] [0 1]\n",
      "[0.16868588 0.56047704] [0 0]\n",
      "[0.34869726 0.68766662] [0 1]\n",
      "[0.1160436  0.88624872] [0 1]\n",
      "[0.04873609 0.79425782] [0 1]\n",
      "[0.0013718  0.76786173] [0 0]\n",
      "[0.00672119 0.75012764] [0 1]\n",
      "[0.14443176 0.53746693] [0 0]\n",
      "[0.16718509 0.5784742 ] [0 1]\n",
      "[0.09433074 0.98706743] [0 1]\n",
      "[0.18042936 0.55688106] [0 1]\n",
      "[0.11010525 0.96055862] [0 1]\n",
      "[0.04442239 0.83119805] [0 1]\n",
      "[0.03053719 0.93071372] [0 1]\n",
      "[0.08865934 0.89641119] [0 1]\n",
      "[0.13239511 0.76318337] [0 1]\n",
      "[0.02094665 0.72537083] [0 1]\n",
      "[0.14198583 0.81000155] [0 1]\n",
      "[0.07412193 0.86596234] [0 1]\n",
      "[0.11033904 0.95884062] [0 1]\n",
      "[0.15905869 0.86391108] [0 1]\n",
      "[0.16782987 0.73587724] [0 0]\n",
      "[0.12733735 0.98514569] [0 1]\n",
      "[0.34258277 0.82437581] [0 1]\n",
      "[0.0530271  0.80893912] [0 1]\n",
      "[0.25945176 0.7747721 ] [0 1]\n",
      "[0.16241237 0.723653  ] [0 0]\n",
      "[0.25747066 0.7821859 ] [0 1]\n",
      "[0.04412128 0.58669012] [0 0]\n",
      "[0.1310039  0.68858915] [0 0]\n",
      "[0.06778288 0.61348983] [0 0]\n",
      "[0.34360438 0.94883899] [0 1]\n",
      "[0.2200446  0.85741457] [0 1]\n",
      "[0.05729182 0.79161254] [0 1]\n",
      "[0.05516775 0.81558116] [0 1]\n",
      "[0.28697437 0.85335472] [0 1]\n",
      "[0.00645665 0.99810413] [0 1]\n",
      "[0.07820474 0.57596517] [0 0]\n",
      "[0.00927976 0.84701255] [0 1]\n",
      "[0.12954902 0.73424253] [0 1]\n",
      "[0.00757282 0.93818903] [0 1]\n",
      "[0.00266283 0.38547531] [0 1]\n",
      "[0.11615033 0.69116722] [0 0]\n",
      "[0.20378261 0.79817311] [0 1]\n",
      "[0.0018571  0.85165622] [0 1]\n",
      "[0.15785547 0.61569333] [0 1]\n",
      "[0.40847234 0.86044583] [0 1]\n",
      "[0.01185662 0.97432865] [0 1]\n",
      "[0.05074118 0.92693832] [0 1]\n",
      "[0.12282921 0.78895604] [0 1]\n",
      "[0.15531158 0.81770483] [0 1]\n",
      "[0.28220496 0.46915774] [0 0]\n"
     ]
    }
   ],
   "source": [
    "# Experiment\n",
    "# reward = (1,0) represent reward is on the left, (0,1) right\n",
    "# turn = (1,0) represent rat is on the left, (0,1) right\n",
    "\n",
    "l_rat = 0.5 # evaluation from rat on how likely the reward is on left\n",
    "r_rat = 0.5 # that for right\n",
    "reward_rat = 0 # reward got by rat by last action; = reward\n",
    "exp = 0 # action that maximize reward; 0 for left, 1 for right\n",
    "\n",
    "count = 0 # count for continuous success of choosing the advantageous action(here, the right)\n",
    "Q = np.zeros(2)\n",
    "\n",
    "#logs\n",
    "rewards=[]\n",
    "\n",
    "for i in range(iteration):\n",
    "            \n",
    "    # 0. get choice from rat \n",
    "    ratio = l_rat/(l_rat+r_rat)\n",
    "    if ratio > random.uniform(0,1):\n",
    "        turn = np.array([1,0])\n",
    "    else:\n",
    "        turn = np.array([0,1])\n",
    "\n",
    "    # 0. set reward \n",
    "    reward_site = random.uniform(0,1)\n",
    "    if reward_site < right and np.array_equal(turn,np.array([0,1])):\n",
    "    #if the rat goes right and the reward is on the right\n",
    "        reward = np.array((0,1))\n",
    "    elif reward_site >= right and np.array_equal(turn,np.array([1,0])):\n",
    "        reward = np.array((1,0))\n",
    "    else:\n",
    "        reward=np.array((0,0))\n",
    "    rewards.append(reward)\n",
    "    \n",
    "    # 2. update rat's information \n",
    "    Q = Q + alpha*turn*(reward + gamma*np.max(Q)-Q) # I think this is where it went wrong\n",
    "    # you should only update the action taken\n",
    "\n",
    "    l_rat = 1-(sigmoid(beta,Q[0])/(sigmoid(beta,Q[0])+sigmoid(beta,Q[1])))\n",
    "    r_rat=1-l_rat\n",
    "    # I changed this function\n",
    "    # 3. update count\n",
    "    if np.array_equal(turn,np.array([1,0])):\n",
    "        count = 0\n",
    "    elif np.array_equal(turn,np.array([0,1])):\n",
    "        count = count + 1\n",
    "        \n",
    "        \n",
    "    # Show ongoing results\n",
    "    if i%every_it_print==0:\n",
    "#         print('Q-table',Q)\n",
    "#         print(l_rat)\n",
    "\n",
    "        print(Q,reward)\n",
    "\n",
    "\n",
    "\n",
    "    # end experiment if rat made more than 10 times right turn, which has prob < 0.00098 by purely random choice\n",
    "#     if i == 280: #abs(r_rat-right < 0.01) # count > 10\n",
    "#         print('The rat might has learned somthing. Iteration number:')\n",
    "#         print(Q)\n",
    "\n",
    "#         break"
   ]
  },
  {
   "cell_type": "code",
   "execution_count": 426,
   "metadata": {},
   "outputs": [
    {
     "data": {
      "text/plain": [
       "94.8498452012384"
      ]
     },
     "execution_count": 426,
     "metadata": {},
     "output_type": "execute_result"
    }
   ],
   "source": [
    "sum(rewards)[1]/sum(rewards)[0]"
   ]
  },
  {
   "cell_type": "code",
   "execution_count": 407,
   "metadata": {},
   "outputs": [
    {
     "data": {
      "text/plain": [
       "0.9659378796930785"
      ]
     },
     "execution_count": 407,
     "metadata": {},
     "output_type": "execute_result"
    }
   ],
   "source": [
    "1-(sigmoid(beta,0.8)/(sigmoid(beta,0.8)+sigmoid(beta,0.2)))"
   ]
  },
  {
   "cell_type": "code",
   "execution_count": 370,
   "metadata": {},
   "outputs": [
    {
     "data": {
      "text/plain": [
       "float"
      ]
     },
     "execution_count": 370,
     "metadata": {},
     "output_type": "execute_result"
    }
   ],
   "source": [
    "type(random.uniform(0,1))"
   ]
  },
  {
   "cell_type": "code",
   "execution_count": 247,
   "metadata": {},
   "outputs": [],
   "source": [
    "env=[0.2,0.8]\n",
    "train_size=5000\n",
    "def get_reward(action,env): # 0 when reward is on the left\n",
    "    if np.random.uniform(0,1)<env[1]:\n",
    "        return int(action==1)\n",
    "    else:\n",
    "        return int(action==0)\n",
    "def get_action(Q):\n",
    "    return np.argmax(Q)"
   ]
  },
  {
   "cell_type": "code",
   "execution_count": 325,
   "metadata": {},
   "outputs": [
    {
     "name": "stdout",
     "output_type": "stream",
     "text": [
      "[2.37357591e-01 7.98636218e+02]\n"
     ]
    }
   ],
   "source": [
    "# second implementation\n",
    "actions = np.array([0,1]) # 0 for left, 1 for right\n",
    "Q = np.random.uniform(low=0,high=1,size=(action_size))\n",
    "for i in range(train_size):\n",
    "    action=get_action(Q)\n",
    "    reward=get_reward(action,env)\n",
    "    Q[action]=(1-alpha)*Q[action]+alpha*(reward+gamma*np.max(Q))\n",
    "print(Q)"
   ]
  },
  {
   "cell_type": "code",
   "execution_count": 306,
   "metadata": {},
   "outputs": [
    {
     "data": {
      "text/plain": [
       "0"
      ]
     },
     "execution_count": 306,
     "metadata": {},
     "output_type": "execute_result"
    }
   ],
   "source": [
    "get_reward(1,env)"
   ]
  },
  {
   "cell_type": "code",
   "execution_count": 307,
   "metadata": {},
   "outputs": [
    {
     "data": {
      "text/plain": [
       "True"
      ]
     },
     "execution_count": 307,
     "metadata": {},
     "output_type": "execute_result"
    }
   ],
   "source": [
    "np.array_equal(test,np.array([1,2]))"
   ]
  },
  {
   "cell_type": "code",
   "execution_count": null,
   "metadata": {},
   "outputs": [],
   "source": []
  },
  {
   "cell_type": "code",
   "execution_count": null,
   "metadata": {},
   "outputs": [],
   "source": []
  },
  {
   "cell_type": "code",
   "execution_count": null,
   "metadata": {
    "collapsed": true
   },
   "outputs": [],
   "source": []
  },
  {
   "cell_type": "code",
   "execution_count": null,
   "metadata": {
    "collapsed": true
   },
   "outputs": [],
   "source": []
  },
  {
   "cell_type": "code",
   "execution_count": null,
   "metadata": {
    "collapsed": true
   },
   "outputs": [],
   "source": []
  },
  {
   "cell_type": "code",
   "execution_count": null,
   "metadata": {
    "collapsed": true
   },
   "outputs": [],
   "source": []
  },
  {
   "cell_type": "code",
   "execution_count": null,
   "metadata": {
    "collapsed": true
   },
   "outputs": [],
   "source": []
  },
  {
   "cell_type": "code",
   "execution_count": null,
   "metadata": {
    "collapsed": true
   },
   "outputs": [],
   "source": []
  },
  {
   "cell_type": "code",
   "execution_count": null,
   "metadata": {
    "collapsed": true
   },
   "outputs": [],
   "source": []
  }
 ],
 "metadata": {
  "kernelspec": {
   "display_name": "Python 3",
   "language": "python",
   "name": "python3"
  },
  "language_info": {
   "codemirror_mode": {
    "name": "ipython",
    "version": 3
   },
   "file_extension": ".py",
   "mimetype": "text/x-python",
   "name": "python",
   "nbconvert_exporter": "python",
   "pygments_lexer": "ipython3",
   "version": "3.7.2"
  }
 },
 "nbformat": 4,
 "nbformat_minor": 2
}
