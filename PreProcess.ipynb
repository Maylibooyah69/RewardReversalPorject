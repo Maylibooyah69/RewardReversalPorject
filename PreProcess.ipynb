{
 "cells": [
  {
   "cell_type": "code",
   "execution_count": 47,
   "metadata": {},
   "outputs": [],
   "source": [
    "import pandas as pd\n",
    "import numpy as np\n",
    "import matplotlib.pyplot as plt\n",
    "file='Data/UH_RL_rats.csv'\n",
    "data=pd.read_csv(file,low_memory=False)"
   ]
  },
  {
   "cell_type": "code",
   "execution_count": 63,
   "metadata": {},
   "outputs": [
    {
     "name": "stdout",
     "output_type": "stream",
     "text": [
      "Num_rows: 34473\n"
     ]
    },
    {
     "data": {
      "text/plain": [
       "['trial',\n",
       " 'TargetOffset',\n",
       " 'NonTargetOffset',\n",
       " 'ITI',\n",
       " 'ISI',\n",
       " 'Tone',\n",
       " 'TargetReward',\n",
       " 'NonTargetReward',\n",
       " 'RewardLat',\n",
       " 'Target Lever',\n",
       " 'Omission',\n",
       " 'TO Offset',\n",
       " 'Running Time (secs)',\n",
       " 'TO Perseverative',\n",
       " 'SwitchContingency',\n",
       " 'Unnamed: 15',\n",
       " 'TargetRew',\n",
       " 'TargetWinStay',\n",
       " 'TargetNonRew',\n",
       " 'TargetLoseShift',\n",
       " 'NonTargetRew',\n",
       " 'NontargetWinStay',\n",
       " 'NontargetNonRew',\n",
       " 'NontargetLoseShift',\n",
       " 'session',\n",
       " 'subject',\n",
       " 'lever',\n",
       " 'response',\n",
       " 'feedback',\n",
       " 'state',\n",
       " 'action',\n",
       " 'reward',\n",
       " 'alpha_gain',\n",
       " 'alpha_loss',\n",
       " 'beta',\n",
       " 'Q',\n",
       " 'PE']"
      ]
     },
     "execution_count": 63,
     "metadata": {},
     "output_type": "execute_result"
    }
   ],
   "source": [
    "print('Num_rows:',len(data))\n",
    "list(data)"
   ]
  },
  {
   "cell_type": "code",
   "execution_count": 65,
   "metadata": {},
   "outputs": [
    {
     "data": {
      "text/plain": [
       "0        20.000000\n",
       "1        20.000000\n",
       "2        20.000000\n",
       "3        20.000000\n",
       "4        20.000000\n",
       "5        20.000000\n",
       "6        20.000000\n",
       "7        20.000000\n",
       "8        20.000000\n",
       "9        20.000000\n",
       "10       20.000000\n",
       "11       20.000000\n",
       "12       20.000000\n",
       "13       20.000000\n",
       "14       20.000000\n",
       "15       20.000000\n",
       "16       20.000000\n",
       "17       20.000000\n",
       "18       20.000000\n",
       "19       20.000000\n",
       "20       20.000000\n",
       "21       20.000000\n",
       "22       20.000000\n",
       "23       20.000000\n",
       "24       20.000000\n",
       "25       20.000000\n",
       "26       20.000000\n",
       "27       20.000000\n",
       "28       20.000000\n",
       "29       20.000000\n",
       "           ...    \n",
       "34443     0.219655\n",
       "34444     0.219655\n",
       "34445     0.219655\n",
       "34446     0.219655\n",
       "34447     0.219655\n",
       "34448     0.219655\n",
       "34449     0.219655\n",
       "34450     0.219655\n",
       "34451     0.219655\n",
       "34452     0.219655\n",
       "34453     0.219655\n",
       "34454     0.219655\n",
       "34455     0.219655\n",
       "34456     0.219655\n",
       "34457     0.219655\n",
       "34458     0.219655\n",
       "34459     0.219655\n",
       "34460     0.219655\n",
       "34461     0.219655\n",
       "34462     0.219655\n",
       "34463     0.219655\n",
       "34464     0.219655\n",
       "34465     0.219655\n",
       "34466     0.219655\n",
       "34467     0.219655\n",
       "34468     0.219655\n",
       "34469     0.219655\n",
       "34470     0.219655\n",
       "34471     0.219655\n",
       "34472     0.219655\n",
       "Name: beta, Length: 34473, dtype: float64"
      ]
     },
     "execution_count": 65,
     "metadata": {},
     "output_type": "execute_result"
    }
   ],
   "source": [
    "data.beta"
   ]
  },
  {
   "cell_type": "code",
   "execution_count": null,
   "metadata": {},
   "outputs": [],
   "source": []
  }
 ],
 "metadata": {
  "kernelspec": {
   "display_name": "Python 3",
   "language": "python",
   "name": "python3"
  },
  "language_info": {
   "codemirror_mode": {
    "name": "ipython",
    "version": 3
   },
   "file_extension": ".py",
   "mimetype": "text/x-python",
   "name": "python",
   "nbconvert_exporter": "python",
   "pygments_lexer": "ipython3",
   "version": "3.7.2"
  }
 },
 "nbformat": 4,
 "nbformat_minor": 2
}
