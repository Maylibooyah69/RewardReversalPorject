{
 "cells": [
  {
   "cell_type": "markdown",
   "metadata": {},
   "source": [
    "# Pro tip: if you run the import once you get a lot of warning, but then you just run it again then the warning is gone"
   ]
  },
  {
   "cell_type": "code",
   "execution_count": 18,
   "metadata": {
    "scrolled": true
   },
   "outputs": [],
   "source": [
    "import impnb\n",
    "import herMLE\n",
    "import Data_processing as dp;\n",
    "import numpy as np\n",
    "import matplotlib.pyplot as plt\n",
    "import pandas as pd\n",
    "import Import_EEG as IE;\n",
    "from scipy import stats\n",
    "\n",
    "img_path='/cndd/hop006/Processing/PRL_imgs'\n",
    "behavior_log_path='/cndd/hop006/Github/RewardReversalPorject/BehaviorLog/'"
   ]
  },
  {
   "cell_type": "markdown",
   "metadata": {},
   "source": [
    "# Part Zero: Gathering Data - every rat takes about 20s to process\n",
    "#### Note: Only doing from rat_26 and up, some are not 20 days apart\n",
    "#### Common electrodes: \n",
    " Ag Disk (frontal center)',\n",
    " 'L Au1 EEG',\n",
    " 'L Cerebellum EEG',\n",
    " 'L NAc LFP',\n",
    " 'L lOFC LFP',\n",
    " 'R ACC LFP',\n",
    " 'R Au1 LFP',\n",
    " 'R Caudate LFP',\n",
    " 'R lOFC EEG'}"
   ]
  },
  {
   "cell_type": "code",
   "execution_count": 9,
   "metadata": {},
   "outputs": [
    {
     "name": "stderr",
     "output_type": "stream",
     "text": [
      "/home/AD/hop006/anaconda3/lib/python3.7/site-packages/pandas/util/_decorators.py:188: FutureWarning: The `sheetname` keyword is deprecated, use `sheet_name` instead\n",
      "  return func(*args, **kwargs)\n",
      "Import EEG.ipynb:12: FutureWarning: elementwise comparison failed; returning scalar instead, but in the future will perform elementwise comparison\n",
      "  \"import numpy as np\\n\",\n"
     ]
    }
   ],
   "source": [
    "rat_2_anal=sorted(list(set(dp.day1['subject'])))[1:] # droped 25 cuz it only had one recording\n",
    "days=2\n",
    "behavior_log={}\n",
    "for myrat in rat_2_anal:\n",
    "    val_chan,chan_name,dates,rat_nums,reward_tone=IE.get_excel_info(myrat)\n",
    "    rat_rlogs=[]\n",
    "    rat_alogs=[]\n",
    "    for day in range(days):\n",
    "        rat_df=IE.get_ephys(dates[day],rat_nums[day])\n",
    "#         tvec,signal,low_tone,high_tone,tar,off_tar=IE.rat_summary(rat_df)\n",
    "        action_log,reward_log,epoched_eeg=IE.get_behavior(rat_df,eeg_length=300,plot=False)\n",
    "        rat_rlogs.append(reward_log)\n",
    "        rat_alogs.append(action_log)\n",
    "    behavior_log[myrat]={}\n",
    "    behavior_log[myrat]['reward']=rat_rlogs\n",
    "    behavior_log[myrat]['action']=rat_alogs"
   ]
  },
  {
   "cell_type": "code",
   "execution_count": 20,
   "metadata": {},
   "outputs": [],
   "source": [
    "behavior_df=pd.DataFrame(behavior_log)\n",
    "behavior_df.to_pickle(behavior_log_path+'rat26to38.pkl')"
   ]
  },
  {
   "cell_type": "markdown",
   "metadata": {},
   "source": [
    "# Part One: Behavior Models\n",
    "### Model-1: Q-learning with alpha_gain and loss, beta, and sigmoid action decision"
   ]
  },
  {
   "cell_type": "code",
   "execution_count": 6,
   "metadata": {},
   "outputs": [
    {
     "name": "stdout",
     "output_type": "stream",
     "text": [
      "0.05 0.9500000000000001 0.5\n",
      "0.9500000000000001 0.9500000000000001 1.0\n"
     ]
    }
   ],
   "source": [
    "alphaGs,alphaLs,betas=[],[],[]\n",
    "for rlog,alog in zip(rat_rlogs,rat_alogs): #\n",
    "    alphaG,alphaL,beta=herMLE.my_minimize(alog,rlbog)\n",
    "    print(alphaG,alphaL,beta)\n",
    "    alphaGs.append(alphaG)\n",
    "    alphaLs.append(alphaL)\n",
    "    betas.append(beta)"
   ]
  },
  {
   "cell_type": "markdown",
   "metadata": {},
   "source": [
    "### Plots"
   ]
  },
  {
   "cell_type": "code",
   "execution_count": null,
   "metadata": {},
   "outputs": [],
   "source": []
  },
  {
   "cell_type": "markdown",
   "metadata": {},
   "source": [
    "# Part two: import EEG"
   ]
  },
  {
   "cell_type": "code",
   "execution_count": null,
   "metadata": {},
   "outputs": [],
   "source": []
  }
 ],
 "metadata": {
  "kernelspec": {
   "display_name": "Python 3",
   "language": "python",
   "name": "python3"
  },
  "language_info": {
   "codemirror_mode": {
    "name": "ipython",
    "version": 3
   },
   "file_extension": ".py",
   "mimetype": "text/x-python",
   "name": "python",
   "nbconvert_exporter": "python",
   "pygments_lexer": "ipython3",
   "version": "3.7.3"
  }
 },
 "nbformat": 4,
 "nbformat_minor": 2
}
