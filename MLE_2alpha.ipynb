{
 "cells": [
  {
   "cell_type": "code",
   "execution_count": 2,
   "metadata": {},
   "outputs": [],
   "source": [
    "# Name: Zeyun Wu\n",
    "# Date: July 8th 2019\n",
    "\n",
    "import numpy as np\n",
    "import random\n",
    "import pandas as pd\n",
    "from scipy.optimize import minimize\n",
    "import matplotlib.pyplot as plt\n",
    "\n",
    "import ToyQ2"
   ]
  },
  {
   "cell_type": "markdown",
   "metadata": {},
   "source": [
    "## Load real data"
   ]
  },
  {
   "cell_type": "code",
   "execution_count": 3,
   "metadata": {},
   "outputs": [
    {
     "name": "stderr",
     "output_type": "stream",
     "text": [
      "/Users/erika/anaconda3/lib/python3.6/site-packages/pandas/core/indexes/base.py:1700: FutureWarning: Using a non-tuple sequence for multidimensional indexing is deprecated; use `arr[tuple(seq)]` instead of `arr[seq]`. In the future this will be interpreted as an array index, `arr[np.array(seq)]`, which will result either in an error or a different result.\n",
      "  result = getitem(key)\n"
     ]
    }
   ],
   "source": [
    "df = pd.read_csv('UH_RL_rats.csv')\n",
    "df = df.drop(df.columns[[range(24)]],axis=1)\n",
    "subjects = df['subject'].unique()"
   ]
  },
  {
   "cell_type": "code",
   "execution_count": 4,
   "metadata": {},
   "outputs": [
    {
     "data": {
      "text/html": [
       "<div>\n",
       "<style>\n",
       "    .dataframe thead tr:only-child th {\n",
       "        text-align: right;\n",
       "    }\n",
       "\n",
       "    .dataframe thead th {\n",
       "        text-align: left;\n",
       "    }\n",
       "\n",
       "    .dataframe tbody tr th {\n",
       "        vertical-align: top;\n",
       "    }\n",
       "</style>\n",
       "<table border=\"1\" class=\"dataframe\">\n",
       "  <thead>\n",
       "    <tr style=\"text-align: right;\">\n",
       "      <th></th>\n",
       "      <th>session</th>\n",
       "      <th>subject</th>\n",
       "      <th>lever</th>\n",
       "      <th>response</th>\n",
       "      <th>feedback</th>\n",
       "      <th>state</th>\n",
       "      <th>action</th>\n",
       "      <th>reward</th>\n",
       "      <th>alpha_gain</th>\n",
       "      <th>alpha_loss</th>\n",
       "      <th>beta</th>\n",
       "      <th>Q</th>\n",
       "      <th>PE</th>\n",
       "    </tr>\n",
       "  </thead>\n",
       "  <tbody>\n",
       "    <tr>\n",
       "      <th>0</th>\n",
       "      <td>1</td>\n",
       "      <td>10</td>\n",
       "      <td>A</td>\n",
       "      <td>rich</td>\n",
       "      <td>0.0</td>\n",
       "      <td>1.0</td>\n",
       "      <td>1.0</td>\n",
       "      <td>0.0</td>\n",
       "      <td>0.139603</td>\n",
       "      <td>1.0</td>\n",
       "      <td>20.0</td>\n",
       "      <td>0.000000</td>\n",
       "      <td>-0.500000</td>\n",
       "    </tr>\n",
       "    <tr>\n",
       "      <th>1</th>\n",
       "      <td>1</td>\n",
       "      <td>10</td>\n",
       "      <td>A</td>\n",
       "      <td>rich</td>\n",
       "      <td>1.0</td>\n",
       "      <td>1.0</td>\n",
       "      <td>1.0</td>\n",
       "      <td>1.0</td>\n",
       "      <td>0.139603</td>\n",
       "      <td>1.0</td>\n",
       "      <td>20.0</td>\n",
       "      <td>0.139603</td>\n",
       "      <td>1.000000</td>\n",
       "    </tr>\n",
       "    <tr>\n",
       "      <th>2</th>\n",
       "      <td>1</td>\n",
       "      <td>10</td>\n",
       "      <td>B</td>\n",
       "      <td>lean</td>\n",
       "      <td>0.0</td>\n",
       "      <td>1.0</td>\n",
       "      <td>2.0</td>\n",
       "      <td>0.0</td>\n",
       "      <td>0.139603</td>\n",
       "      <td>1.0</td>\n",
       "      <td>20.0</td>\n",
       "      <td>0.000000</td>\n",
       "      <td>-0.500000</td>\n",
       "    </tr>\n",
       "    <tr>\n",
       "      <th>3</th>\n",
       "      <td>1</td>\n",
       "      <td>10</td>\n",
       "      <td>A</td>\n",
       "      <td>rich</td>\n",
       "      <td>1.0</td>\n",
       "      <td>1.0</td>\n",
       "      <td>1.0</td>\n",
       "      <td>1.0</td>\n",
       "      <td>0.139603</td>\n",
       "      <td>1.0</td>\n",
       "      <td>20.0</td>\n",
       "      <td>0.259718</td>\n",
       "      <td>0.860397</td>\n",
       "    </tr>\n",
       "    <tr>\n",
       "      <th>4</th>\n",
       "      <td>1</td>\n",
       "      <td>10</td>\n",
       "      <td>B</td>\n",
       "      <td>lean</td>\n",
       "      <td>0.0</td>\n",
       "      <td>1.0</td>\n",
       "      <td>2.0</td>\n",
       "      <td>0.0</td>\n",
       "      <td>0.139603</td>\n",
       "      <td>1.0</td>\n",
       "      <td>20.0</td>\n",
       "      <td>0.000000</td>\n",
       "      <td>0.000000</td>\n",
       "    </tr>\n",
       "  </tbody>\n",
       "</table>\n",
       "</div>"
      ],
      "text/plain": [
       "  session  subject lever response  feedback  state  action  reward  \\\n",
       "0       1       10     A     rich       0.0    1.0     1.0     0.0   \n",
       "1       1       10     A     rich       1.0    1.0     1.0     1.0   \n",
       "2       1       10     B     lean       0.0    1.0     2.0     0.0   \n",
       "3       1       10     A     rich       1.0    1.0     1.0     1.0   \n",
       "4       1       10     B     lean       0.0    1.0     2.0     0.0   \n",
       "\n",
       "   alpha_gain  alpha_loss  beta         Q        PE  \n",
       "0    0.139603         1.0  20.0  0.000000 -0.500000  \n",
       "1    0.139603         1.0  20.0  0.139603  1.000000  \n",
       "2    0.139603         1.0  20.0  0.000000 -0.500000  \n",
       "3    0.139603         1.0  20.0  0.259718  0.860397  \n",
       "4    0.139603         1.0  20.0  0.000000  0.000000  "
      ]
     },
     "execution_count": 4,
     "metadata": {},
     "output_type": "execute_result"
    }
   ],
   "source": [
    "df.head()"
   ]
  },
  {
   "cell_type": "code",
   "execution_count": 5,
   "metadata": {
    "collapsed": true
   },
   "outputs": [],
   "source": [
    "# divide df into 5 dfs according to session\n",
    "# '1,11,16,6,Best'\n",
    "session = df['session'].unique()\n",
    "df_1 = df[df['session']=='1']\n",
    "df_11 = df[df['session']=='11']\n",
    "df_16 = df[df['session']=='16']\n",
    "df_6 = df[df['session']=='6']\n",
    "df_best = df[df['session']=='Best']\n",
    "df_list = [df_1,df_11,df_16,df_6,df_best]"
   ]
  },
  {
   "cell_type": "code",
   "execution_count": 6,
   "metadata": {
    "collapsed": true
   },
   "outputs": [],
   "source": [
    "# action list, reward list, and Q list\n",
    "action_list = []\n",
    "reward_list = []\n",
    "Q_list = []\n",
    "\n",
    "# the k-th array in each list corresponds to (1+k%20)-th object in session[int(k/5)]\n",
    "for i in range(len(session)):\n",
    "    for j in range(len(subjects)):\n",
    "        subj = j + 1 # subjects 1-20\n",
    "        df_sess = df_list[i]\n",
    "        action = np.array(df_sess['action'][df_sess['subject']==subj])\n",
    "        reward = np.array(df_sess['reward'][df_sess['subject']==subj])\n",
    "        Q = np.array(df_sess['Q'][df_sess['subject']==subj])\n",
    "                \n",
    "        action_list.append(action)\n",
    "        reward_list.append(reward)\n",
    "        Q_list.append(Q)\n",
    "\n"
   ]
  },
  {
   "cell_type": "code",
   "execution_count": 29,
   "metadata": {},
   "outputs": [
    {
     "data": {
      "text/plain": [
       "292"
      ]
     },
     "execution_count": 29,
     "metadata": {},
     "output_type": "execute_result"
    }
   ],
   "source": [
    "len(Q_list[10])"
   ]
  },
  {
   "cell_type": "code",
   "execution_count": 27,
   "metadata": {},
   "outputs": [
    {
     "data": {
      "text/plain": [
       "292"
      ]
     },
     "execution_count": 27,
     "metadata": {},
     "output_type": "execute_result"
    }
   ],
   "source": [
    "len(reward_list[10])"
   ]
  },
  {
   "cell_type": "code",
   "execution_count": 28,
   "metadata": {
    "scrolled": true
   },
   "outputs": [
    {
     "data": {
      "text/plain": [
       "292"
      ]
     },
     "execution_count": 28,
     "metadata": {},
     "output_type": "execute_result"
    }
   ],
   "source": [
    "len(action_list[10])"
   ]
  },
  {
   "cell_type": "code",
   "execution_count": 32,
   "metadata": {},
   "outputs": [
    {
     "data": {
      "image/png": "[encoded data removed]",
      "text/plain": [
       "<matplotlib.figure.Figure at 0x15177b43c8>"
      ]
     },
     "metadata": {},
     "output_type": "display_data"
    }
   ],
   "source": [
    "plt.plot(Q_list[10]) #weird\n",
    "plt.show()"
   ]
  },
  {
   "cell_type": "code",
   "execution_count": null,
   "metadata": {
    "collapsed": true
   },
   "outputs": [],
   "source": [
    "# demo\n",
    "env=toyQ_2choice()\n",
    "rat=sig_rat(env,alpha=0.2,beta=2)\n",
    "env,rat=train_rat(env,rat,300)\n",
    "obslog=np.array(env.obslog)\n",
    "choicelog=np.array(rat.choiceLog) \n",
    "print('reward_log:',np.sum(obslog,axis=0))\n",
    "print('choice_log:',np.sum(choicelog,axis=0))\n",
    "rat.Q"
   ]
  },
  {
   "cell_type": "markdown",
   "metadata": {},
   "source": [
    "## Functions\n",
    "Distance between Q and Q_MLE\n",
    "\n",
    "rats with single Q and two alphas for win and lose respectively"
   ]
  },
  {
   "cell_type": "code",
   "execution_count": 41,
   "metadata": {
    "collapsed": true
   },
   "outputs": [],
   "source": [
    "# parameter: action, a list of numpy arrays of action data; reward, a list of np array of reward data\n",
    "# beta, sharpness of sigmoid; alpha, learning rate; Qleft, if the Q is describing the quality for the left\n",
    "# return the sum of log-likelihood\n",
    "###!!! suppose the reward stands for the objective reward\n",
    "def neg_log_likelihood_sigQ(alpha,beta,actions,rewards,Q=0,gamma=0,Qleft=True): \n",
    "    n = len(actions)\n",
    "    sum_ll = 0\n",
    "    for i in range(n):\n",
    "        turn = actions[i]\n",
    "        rew = rewards[i]\n",
    "        if turn == 1:\n",
    "            Q = Q + alpha*(rew - Q + gamma*np.max(Q))\n",
    "        else:\n",
    "            Q = Q - alpha*(rew - Q + gamma*np.max(Q))\n",
    "\n",
    "        if np.array_equal(turn,np.array([1,0])):\n",
    "            prob = 1/(np.exp(0-beta*Q)+1)\n",
    "        else:\n",
    "            prob = 1 - 1/(np.exp(0-beta*Q)+1)\n",
    "        \n",
    "        sum_ll = sum_ll - np.log(prob + np.exp(0-8)) # add a smoother to avoid warnings\n",
    "    \n",
    "    return sum_ll"
   ]
  },
  {
   "cell_type": "code",
   "execution_count": 170,
   "metadata": {
    "collapsed": true
   },
   "outputs": [],
   "source": [
    "def neg_log_likelihood_sigQ_2alpha_real(alphaG,alphaL,beta,actions,rewards,Q=0,gamma=0,Qleft=True): \n",
    "    n = len(actions)\n",
    "    sum_ll = 0\n",
    "    for i in range(n):\n",
    "        turn = actions[i]\n",
    "        rew = rewards[i]\n",
    "        \n",
    "        if int(turn) == 2 & int(rew) == 1:\n",
    "            rew = 0\n",
    "            Q = Q + alphaG*(rew - Q + gamma*np.max(Q))\n",
    "        elif int(turn) == 2 & int(rew) == 0:\n",
    "            rew = 1\n",
    "            Q = Q + alphaL*(rew - Q + gamma*np.max(Q))\n",
    "        elif int(turn) == 1 & int(rew) == 1:\n",
    "            rew = 1\n",
    "            Q = Q - alphaG*(rew - Q + gamma*np.max(Q))\n",
    "        else:\n",
    "            rew = 0\n",
    "            Q = Q + alphaL*(rew - Q + gamma*np.max(Q))\n",
    "        \n",
    "        if np.array_equal(turn,np.array([1,0])):\n",
    "            prob = 1/(np.exp(0-beta*Q)+1)\n",
    "        else:\n",
    "            prob = 1 - 1/(np.exp(0-beta*Q)+1)\n",
    "        \n",
    "        sum_ll = sum_ll - np.log(prob + np.exp(0-8)) # add a smoother to avoid warnings\n",
    "    \n",
    "    return sum_ll"
   ]
  },
  {
   "cell_type": "code",
   "execution_count": 171,
   "metadata": {
    "collapsed": true
   },
   "outputs": [],
   "source": [
    "def neg_log_likelihood_sigQ_2alpha_simulated(alphaG,alphaL,beta,actions,rewards,Q=0,gamma=0,Qleft=True): \n",
    "    n = len(actions)\n",
    "    sum_ll = 0\n",
    "    for i in range(n):\n",
    "        turn = actions[i]\n",
    "        rew = rewards[i]\n",
    "        \n",
    "        if (turn == np.array([0,1])).all() & (rew == np.array([0,1])).all():\n",
    "            rew = 0\n",
    "            Q = Q + alphaG*(rew - Q + gamma*np.max(Q))\n",
    "        elif (turn == np.array([0,1])).all() & (rew == np.array([0,0])).all():\n",
    "            rew = 1\n",
    "            Q = Q + alphaL*(rew - Q + gamma*np.max(Q))\n",
    "        elif (turn == np.array([1,0])).all() & (rew == np.array([1,0])).all():\n",
    "            rew = 1\n",
    "            Q = Q - alphaG*(rew - Q + gamma*np.max(Q))\n",
    "        else:\n",
    "            rew = 0\n",
    "            Q = Q + alphaL*(rew - Q + gamma*np.max(Q))\n",
    "\n",
    "        \n",
    "        if np.array_equal(turn,np.array([1,0])):\n",
    "            prob = 1/(np.exp(0-beta*Q)+1)\n",
    "        else:\n",
    "            prob = 1 - 1/(np.exp(0-beta*Q)+1)\n",
    "        \n",
    "        sum_ll = sum_ll - np.log(prob + np.exp(0-8)) # add a smoother to avoid warnings\n",
    "    \n",
    "    return sum_ll"
   ]
  },
  {
   "cell_type": "code",
   "execution_count": 181,
   "metadata": {
    "collapsed": true
   },
   "outputs": [],
   "source": [
    "# params = [alphaG0,alphaL0,beta0]\n",
    "# args = [actions,rewards]\n",
    "def helper_func_2alpha(params,args,simulated=True):\n",
    "    alphaG0 = params[0]\n",
    "    alphaL0 = params[1]\n",
    "    beta0 = params[2]\n",
    "    actions = args[0]\n",
    "    rewards = args[1]\n",
    "    \n",
    "    if simulated:\n",
    "        sum_ll = neg_log_likelihood_sigQ_2alpha_simulated(alphaG0,alphaL0,beta0,actions,rewards)\n",
    "    else:\n",
    "        sum_ll = neg_log_likelihood_sigQ_2alpha_real(alphaG0,alphaL0,beta0,actions,rewards)\n",
    "        \n",
    "    \n",
    "    return sum_ll"
   ]
  },
  {
   "cell_type": "code",
   "execution_count": 182,
   "metadata": {
    "collapsed": true
   },
   "outputs": [],
   "source": [
    "# function that estimates the maximum-likelihood beta_hat numerically\n",
    "# parameters: actions, a numpy array recording action of agent in each turn; beta is the parameter in density func\n",
    "# return minimization summary and print beta_hat\n",
    "def MLE_2alpha(actions,rewards,alphaG0,alphaL0,beta0):\n",
    "    initial_guess = [alphaG0,alphaL0,beta0]\n",
    "    args = [actions,rewards]\n",
    "    bounds = ((0,1),(0,1),(0,10*beta0))\n",
    "    result = minimize(helper_func_2alpha,initial_guess,args=args,bounds = bounds)\n",
    "    if(result.success):\n",
    "        #print(result.message)\n",
    "        #print('The MLE for beta is', result.x)\n",
    "        #print('Iteration =', result.nit)\n",
    "        a=0\n",
    "    else:\n",
    "        print('The optimization did not converge, beta0 equals', beta0,', and alphaG0 equals',alphaG0)\n",
    "    return result\n",
    "    \n",
    "    "
   ]
  },
  {
   "cell_type": "code",
   "execution_count": 10,
   "metadata": {
    "collapsed": true
   },
   "outputs": [],
   "source": [
    "# return mse between simulated Q and Q_hat calculated with optimal beta from MLE\n",
    "def Q_distance_2alpha(iteration,alphaG0,alphaL0,beta0):\n",
    "    env = ToyQ2.toyQ_2choice()\n",
    "    rat = ToyQ2.SQFSrat(env, alphaF=alphaL0,alphaS=alphaG0, beta=beta0)\n",
    "    env,rat = ToyQ2.train_rat(env,rat,iteration)\n",
    "    \n",
    "    Q = np.array(rat.Qlog)\n",
    "    actions = rat.choiceLog\n",
    "    rewards = env.obslog\n",
    "    \n",
    "    result = MLE_2alpha(actions,rewards,alphaG0,alphaL0,beta0)\n",
    "    alphaG_hat = result.x[0]\n",
    "    alphaL_hat = result.x[1]\n",
    "    beta_hat = result.x[2]\n",
    "    \n",
    "    rat_hat = ToyQ2.SQFSrat(env,alphaF=alphaL_hat,alphaS=alphaG_hat, beta=beta_hat)\n",
    "    env,rat_hat = ToyQ2.train_rat(env,rat_hat,iteration)\n",
    "    Q_hat = np.array(rat_hat.Qlog)\n",
    "    \n",
    "    #Q[0]=[0,0] does not matter\n",
    "    mse = np.linalg.norm(Q-Q_hat)**2/iteration \n",
    "    #axis=None perform mean elementwise   (np.square(Q-Q_hat)).mean(axis=None)*2\n",
    "    \n",
    "    return mse\n",
    "    \n",
    "    "
   ]
  },
  {
   "cell_type": "code",
   "execution_count": 18,
   "metadata": {},
   "outputs": [
    {
     "name": "stdout",
     "output_type": "stream",
     "text": [
      "The optimization did not converge, beta0 equals 2 , and alphaG0 equals 0.2\n"
     ]
    },
    {
     "data": {
      "text/plain": [
       "0.0625702674099439"
      ]
     },
     "execution_count": 18,
     "metadata": {},
     "output_type": "execute_result"
    }
   ],
   "source": [
    "#test\n",
    "Q_distance_2alpha(300,0.2,0.2,2)"
   ]
  },
  {
   "cell_type": "markdown",
   "metadata": {
    "collapsed": true
   },
   "source": [
    "# MLE on real data\n",
    "\n",
    "Suppose actions and rewards are exactly same as the real experiment, use the alphas and beta in the dataset and calculate the mean squared error between Q in dataset and MLE Q\n",
    "\n",
    "Also suppose the action function is sigmoid"
   ]
  },
  {
   "cell_type": "code",
   "execution_count": 20,
   "metadata": {},
   "outputs": [
    {
     "name": "stderr",
     "output_type": "stream",
     "text": [
      "/Users/erika/anaconda3/lib/python3.6/site-packages/pandas/core/indexes/base.py:1700: FutureWarning: Using a non-tuple sequence for multidimensional indexing is deprecated; use `arr[tuple(seq)]` instead of `arr[seq]`. In the future this will be interpreted as an array index, `arr[np.array(seq)]`, which will result either in an error or a different result.\n",
      "  result = getitem(key)\n"
     ]
    }
   ],
   "source": [
    "# load data\n",
    "df = pd.read_csv('UH_RL_rats.csv')\n",
    "df = df.drop(df.columns[[range(24)]],axis=1)\n",
    "subjects = df['subject'].unique()"
   ]
  },
  {
   "cell_type": "code",
   "execution_count": 21,
   "metadata": {
    "collapsed": true
   },
   "outputs": [],
   "source": [
    "# divide df into 5 dfs according to session\n",
    "# '1,11,16,6,Best'\n",
    "session = df['session'].unique()\n",
    "df_1 = df[df['session']=='1']\n",
    "df_11 = df[df['session']=='11']\n",
    "df_16 = df[df['session']=='16']\n",
    "df_6 = df[df['session']=='6']\n",
    "df_best = df[df['session']=='Best']\n",
    "df_list = [df_1,df_11,df_16,df_6,df_best]"
   ]
  },
  {
   "cell_type": "code",
   "execution_count": 56,
   "metadata": {
    "collapsed": true
   },
   "outputs": [],
   "source": [
    "# action list, reward list, and Q list\n",
    "action_list = []\n",
    "reward_list = []\n",
    "Q_list = []\n",
    "alphaG_list = []\n",
    "alphaL_list = []\n",
    "beta_list = []\n",
    "\n",
    "# the k-th array in each list corresponds to (1+k%20)-th object in session[int(k/5)]\n",
    "for i in range(len(session)):\n",
    "    for j in range(len(subjects)):\n",
    "        subj = j + 1 # subjects 1-20\n",
    "        df_sess = df_list[i]\n",
    "        action = np.array(df_sess['action'][df_sess['subject']==subj])\n",
    "        reward = np.array(df_sess['reward'][df_sess['subject']==subj])\n",
    "        Q = np.array(df_sess['Q'][df_sess['subject']==subj])\n",
    "        alphaG = np.unique(df_sess['alpha_gain'][df_sess['subject']==subj])\n",
    "        alphaL = np.unique(df_sess['alpha_loss'][df_sess['subject']==subj])\n",
    "        beta = np.unique(df_sess['beta'][df_sess['subject']==subj])\n",
    "                \n",
    "        action_list.append(action)\n",
    "        reward_list.append(reward)\n",
    "        Q_list.append(Q)\n",
    "        alphaG_list.append(alphaG)\n",
    "        alphaL_list.append(alphaL)\n",
    "        beta_list.append(beta)\n"
   ]
  },
  {
   "cell_type": "code",
   "execution_count": 55,
   "metadata": {},
   "outputs": [
    {
     "data": {
      "text/html": [
       "<div>\n",
       "<style>\n",
       "    .dataframe thead tr:only-child th {\n",
       "        text-align: right;\n",
       "    }\n",
       "\n",
       "    .dataframe thead th {\n",
       "        text-align: left;\n",
       "    }\n",
       "\n",
       "    .dataframe tbody tr th {\n",
       "        vertical-align: top;\n",
       "    }\n",
       "</style>\n",
       "<table border=\"1\" class=\"dataframe\">\n",
       "  <thead>\n",
       "    <tr style=\"text-align: right;\">\n",
       "      <th></th>\n",
       "      <th>session</th>\n",
       "      <th>subject</th>\n",
       "      <th>lever</th>\n",
       "      <th>response</th>\n",
       "      <th>feedback</th>\n",
       "      <th>state</th>\n",
       "      <th>action</th>\n",
       "      <th>reward</th>\n",
       "      <th>alpha_gain</th>\n",
       "      <th>alpha_loss</th>\n",
       "      <th>beta</th>\n",
       "      <th>Q</th>\n",
       "      <th>PE</th>\n",
       "    </tr>\n",
       "  </thead>\n",
       "  <tbody>\n",
       "    <tr>\n",
       "      <th>0</th>\n",
       "      <td>1</td>\n",
       "      <td>10</td>\n",
       "      <td>A</td>\n",
       "      <td>rich</td>\n",
       "      <td>0.0</td>\n",
       "      <td>1.0</td>\n",
       "      <td>1.0</td>\n",
       "      <td>0.0</td>\n",
       "      <td>0.139603</td>\n",
       "      <td>1.0</td>\n",
       "      <td>20.0</td>\n",
       "      <td>0.000000</td>\n",
       "      <td>-0.500000</td>\n",
       "    </tr>\n",
       "    <tr>\n",
       "      <th>1</th>\n",
       "      <td>1</td>\n",
       "      <td>10</td>\n",
       "      <td>A</td>\n",
       "      <td>rich</td>\n",
       "      <td>1.0</td>\n",
       "      <td>1.0</td>\n",
       "      <td>1.0</td>\n",
       "      <td>1.0</td>\n",
       "      <td>0.139603</td>\n",
       "      <td>1.0</td>\n",
       "      <td>20.0</td>\n",
       "      <td>0.139603</td>\n",
       "      <td>1.000000</td>\n",
       "    </tr>\n",
       "    <tr>\n",
       "      <th>2</th>\n",
       "      <td>1</td>\n",
       "      <td>10</td>\n",
       "      <td>B</td>\n",
       "      <td>lean</td>\n",
       "      <td>0.0</td>\n",
       "      <td>1.0</td>\n",
       "      <td>2.0</td>\n",
       "      <td>0.0</td>\n",
       "      <td>0.139603</td>\n",
       "      <td>1.0</td>\n",
       "      <td>20.0</td>\n",
       "      <td>0.000000</td>\n",
       "      <td>-0.500000</td>\n",
       "    </tr>\n",
       "    <tr>\n",
       "      <th>3</th>\n",
       "      <td>1</td>\n",
       "      <td>10</td>\n",
       "      <td>A</td>\n",
       "      <td>rich</td>\n",
       "      <td>1.0</td>\n",
       "      <td>1.0</td>\n",
       "      <td>1.0</td>\n",
       "      <td>1.0</td>\n",
       "      <td>0.139603</td>\n",
       "      <td>1.0</td>\n",
       "      <td>20.0</td>\n",
       "      <td>0.259718</td>\n",
       "      <td>0.860397</td>\n",
       "    </tr>\n",
       "    <tr>\n",
       "      <th>4</th>\n",
       "      <td>1</td>\n",
       "      <td>10</td>\n",
       "      <td>B</td>\n",
       "      <td>lean</td>\n",
       "      <td>0.0</td>\n",
       "      <td>1.0</td>\n",
       "      <td>2.0</td>\n",
       "      <td>0.0</td>\n",
       "      <td>0.139603</td>\n",
       "      <td>1.0</td>\n",
       "      <td>20.0</td>\n",
       "      <td>0.000000</td>\n",
       "      <td>0.000000</td>\n",
       "    </tr>\n",
       "  </tbody>\n",
       "</table>\n",
       "</div>"
      ],
      "text/plain": [
       "  session  subject lever response  feedback  state  action  reward  \\\n",
       "0       1       10     A     rich       0.0    1.0     1.0     0.0   \n",
       "1       1       10     A     rich       1.0    1.0     1.0     1.0   \n",
       "2       1       10     B     lean       0.0    1.0     2.0     0.0   \n",
       "3       1       10     A     rich       1.0    1.0     1.0     1.0   \n",
       "4       1       10     B     lean       0.0    1.0     2.0     0.0   \n",
       "\n",
       "   alpha_gain  alpha_loss  beta         Q        PE  \n",
       "0    0.139603         1.0  20.0  0.000000 -0.500000  \n",
       "1    0.139603         1.0  20.0  0.139603  1.000000  \n",
       "2    0.139603         1.0  20.0  0.000000 -0.500000  \n",
       "3    0.139603         1.0  20.0  0.259718  0.860397  \n",
       "4    0.139603         1.0  20.0  0.000000  0.000000  "
      ]
     },
     "execution_count": 55,
     "metadata": {},
     "output_type": "execute_result"
    }
   ],
   "source": [
    "df.head()"
   ]
  },
  {
   "cell_type": "code",
   "execution_count": 94,
   "metadata": {
    "collapsed": true
   },
   "outputs": [],
   "source": [
    "#calculate mean square error between Qlog and Q_hat\n",
    "#return both mle result and mse\n",
    "def simple_Q_distance(alphaG0,alphaL0,beta0,actions,rewards,Qlog):\n",
    "    iteration = len(Qlog)\n",
    "    \n",
    "    MLE_result = MLE_2alpha(actions,rewards,alphaG0,alphaL0,beta0)\n",
    "    alphaG_hat = MLE_result.x[0]\n",
    "    alphaL_hat = MLE_result.x[1]\n",
    "    beta_hat = MLE_result.x[2]\n",
    "    \n",
    "    #get Q_hat from simulation\n",
    "    env = ToyQ2.toyQ_2choice()\n",
    "    rat_hat = ToyQ2.SQFSrat(env,alphaF=alphaL_hat,alphaS=alphaG_hat, beta=beta_hat)\n",
    "    env,rat_hat = ToyQ2.train_rat(env,rat_hat,iteration)\n",
    "    Q_hat = np.array(rat_hat.Qlog)\n",
    "    \n",
    "    Q_hat = Q_hat[:-1] # the last Q was not used in deciding the rat's action\n",
    "    \n",
    "    \n",
    "    mse = np.linalg.norm(Qlog-Q_hat)**2/iteration \n",
    "    return MLE_result,mse\n",
    "    \n",
    "    "
   ]
  },
  {
   "cell_type": "code",
   "execution_count": 80,
   "metadata": {},
   "outputs": [
    {
     "name": "stderr",
     "output_type": "stream",
     "text": [
      "/Users/erika/anaconda3/lib/python3.6/site-packages/ipykernel_launcher.py:24: RuntimeWarning: overflow encountered in exp\n"
     ]
    }
   ],
   "source": [
    "#demo\n",
    "mle,mse = simple_Q_distance(0.139603,1.0,20.0,action_list[0],reward_list[0],Q_list[0])"
   ]
  },
  {
   "cell_type": "code",
   "execution_count": 81,
   "metadata": {},
   "outputs": [
    {
     "data": {
      "text/plain": [
       "      fun: 5.444891942680578\n",
       " hess_inv: array([[4379.13193247, -623.48758303, 2935.33681887],\n",
       "       [-623.48758303,   89.05639837, -418.25534566],\n",
       "       [2935.33681887, -418.25534566, 1968.95802283]])\n",
       "      jac: array([-2.02655792e-06,  5.06639481e-06,  0.00000000e+00])\n",
       "  message: 'Optimization terminated successfully.'\n",
       "     nfev: 110\n",
       "      nit: 20\n",
       "     njev: 22\n",
       "   status: 0\n",
       "  success: True\n",
       "        x: array([8.89337750e-01, 3.17758577e-03, 2.02592918e+01])"
      ]
     },
     "execution_count": 81,
     "metadata": {},
     "output_type": "execute_result"
    }
   ],
   "source": [
    "mle"
   ]
  },
  {
   "cell_type": "code",
   "execution_count": 85,
   "metadata": {},
   "outputs": [
    {
     "name": "stderr",
     "output_type": "stream",
     "text": [
      "/Users/erika/anaconda3/lib/python3.6/site-packages/ipykernel_launcher.py:24: RuntimeWarning: overflow encountered in exp\n",
      "/Users/erika/Lab/m/MLE_simulated/ToyQ2.py:23: RuntimeWarning: overflow encountered in exp\n",
      "  val = 1/(1+np.exp(0-beta*q))\n",
      "/Users/erika/anaconda3/lib/python3.6/site-packages/ipykernel_launcher.py:24: RuntimeWarning: overflow encountered in double_scalars\n",
      "/Users/erika/anaconda3/lib/python3.6/site-packages/ipykernel_launcher.py:19: RuntimeWarning: overflow encountered in double_scalars\n",
      "/Users/erika/anaconda3/lib/python3.6/site-packages/ipykernel_launcher.py:19: RuntimeWarning: invalid value encountered in double_scalars\n",
      "/Users/erika/anaconda3/lib/python3.6/site-packages/ipykernel_launcher.py:16: RuntimeWarning: invalid value encountered in double_scalars\n",
      "  app.launch_new_instance()\n",
      "/Users/erika/anaconda3/lib/python3.6/site-packages/ipykernel_launcher.py:16: RuntimeWarning: overflow encountered in double_scalars\n",
      "  app.launch_new_instance()\n",
      "/Users/erika/anaconda3/lib/python3.6/site-packages/ipykernel_launcher.py:24: RuntimeWarning: overflow encountered in exp\n",
      "/Users/erika/anaconda3/lib/python3.6/site-packages/ipykernel_launcher.py:24: RuntimeWarning: overflow encountered in double_scalars\n",
      "/Users/erika/anaconda3/lib/python3.6/site-packages/ipykernel_launcher.py:19: RuntimeWarning: overflow encountered in double_scalars\n",
      "/Users/erika/anaconda3/lib/python3.6/site-packages/ipykernel_launcher.py:19: RuntimeWarning: invalid value encountered in double_scalars\n",
      "/Users/erika/anaconda3/lib/python3.6/site-packages/ipykernel_launcher.py:16: RuntimeWarning: overflow encountered in double_scalars\n",
      "  app.launch_new_instance()\n",
      "/Users/erika/anaconda3/lib/python3.6/site-packages/ipykernel_launcher.py:16: RuntimeWarning: invalid value encountered in double_scalars\n",
      "  app.launch_new_instance()\n",
      "/Users/erika/anaconda3/lib/python3.6/site-packages/ipykernel_launcher.py:24: RuntimeWarning: overflow encountered in exp\n",
      "/Users/erika/anaconda3/lib/python3.6/site-packages/ipykernel_launcher.py:24: RuntimeWarning: overflow encountered in double_scalars\n",
      "/Users/erika/anaconda3/lib/python3.6/site-packages/ipykernel_launcher.py:19: RuntimeWarning: overflow encountered in double_scalars\n",
      "/Users/erika/anaconda3/lib/python3.6/site-packages/ipykernel_launcher.py:19: RuntimeWarning: invalid value encountered in double_scalars\n",
      "/Users/erika/anaconda3/lib/python3.6/site-packages/numpy/core/fromnumeric.py:83: RuntimeWarning: invalid value encountered in reduce\n",
      "  return ufunc.reduce(obj, axis, dtype, out, **passkwargs)\n",
      "/Users/erika/Lab/m/MLE_simulated/ToyQ2.py:23: RuntimeWarning: overflow encountered in exp\n",
      "  val = 1/(1+np.exp(0-beta*q))\n",
      "/Users/erika/Lab/m/MLE_simulated/ToyQ2.py:23: RuntimeWarning: overflow encountered in double_scalars\n",
      "  val = 1/(1+np.exp(0-beta*q))\n",
      "/Users/erika/Lab/m/MLE_simulated/ToyQ2.py:160: RuntimeWarning: overflow encountered in double_scalars\n",
      "  self.Q=(1-self.alphaF)*self.Q # going left and not getting an reward\n"
     ]
    },
    {
     "name": "stdout",
     "output_type": "stream",
     "text": [
      "The optimization did not converge, beta0 equals 0.0116936679912 , and alphaG0 equals 0.0006500555444439999\n"
     ]
    },
    {
     "name": "stderr",
     "output_type": "stream",
     "text": [
      "/Users/erika/anaconda3/lib/python3.6/site-packages/ipykernel_launcher.py:8: RuntimeWarning: invalid value encountered in double_scalars\n",
      "  \n",
      "/Users/erika/anaconda3/lib/python3.6/site-packages/ipykernel_launcher.py:16: RuntimeWarning: overflow encountered in double_scalars\n",
      "  app.launch_new_instance()\n",
      "/Users/erika/anaconda3/lib/python3.6/site-packages/ipykernel_launcher.py:16: RuntimeWarning: invalid value encountered in double_scalars\n",
      "  app.launch_new_instance()\n",
      "/Users/erika/anaconda3/lib/python3.6/site-packages/ipykernel_launcher.py:24: RuntimeWarning: overflow encountered in exp\n",
      "/Users/erika/anaconda3/lib/python3.6/site-packages/ipykernel_launcher.py:24: RuntimeWarning: overflow encountered in double_scalars\n",
      "/Users/erika/anaconda3/lib/python3.6/site-packages/ipykernel_launcher.py:19: RuntimeWarning: overflow encountered in double_scalars\n",
      "/Users/erika/anaconda3/lib/python3.6/site-packages/ipykernel_launcher.py:19: RuntimeWarning: invalid value encountered in double_scalars\n",
      "/Users/erika/anaconda3/lib/python3.6/site-packages/ipykernel_launcher.py:16: RuntimeWarning: overflow encountered in double_scalars\n",
      "  app.launch_new_instance()\n",
      "/Users/erika/anaconda3/lib/python3.6/site-packages/ipykernel_launcher.py:16: RuntimeWarning: invalid value encountered in double_scalars\n",
      "  app.launch_new_instance()\n",
      "/Users/erika/anaconda3/lib/python3.6/site-packages/ipykernel_launcher.py:24: RuntimeWarning: overflow encountered in exp\n",
      "/Users/erika/anaconda3/lib/python3.6/site-packages/ipykernel_launcher.py:24: RuntimeWarning: overflow encountered in double_scalars\n",
      "/Users/erika/anaconda3/lib/python3.6/site-packages/ipykernel_launcher.py:16: RuntimeWarning: overflow encountered in double_scalars\n",
      "  app.launch_new_instance()\n",
      "/Users/erika/anaconda3/lib/python3.6/site-packages/ipykernel_launcher.py:16: RuntimeWarning: invalid value encountered in double_scalars\n",
      "  app.launch_new_instance()\n",
      "/Users/erika/anaconda3/lib/python3.6/site-packages/numpy/core/fromnumeric.py:83: RuntimeWarning: invalid value encountered in reduce\n",
      "  return ufunc.reduce(obj, axis, dtype, out, **passkwargs)\n",
      "/Users/erika/Lab/m/MLE_simulated/ToyQ2.py:23: RuntimeWarning: overflow encountered in exp\n",
      "  val = 1/(1+np.exp(0-beta*q))\n",
      "/Users/erika/Lab/m/MLE_simulated/ToyQ2.py:23: RuntimeWarning: overflow encountered in double_scalars\n",
      "  val = 1/(1+np.exp(0-beta*q))\n",
      "/Users/erika/Lab/m/MLE_simulated/ToyQ2.py:160: RuntimeWarning: overflow encountered in double_scalars\n",
      "  self.Q=(1-self.alphaF)*self.Q # going left and not getting an reward\n"
     ]
    },
    {
     "name": "stdout",
     "output_type": "stream",
     "text": [
      "The optimization did not converge, beta0 equals 0.000711877618334 , and alphaG0 equals 3.00272320299e-05\n"
     ]
    },
    {
     "name": "stderr",
     "output_type": "stream",
     "text": [
      "/Users/erika/anaconda3/lib/python3.6/site-packages/ipykernel_launcher.py:24: RuntimeWarning: overflow encountered in exp\n",
      "/Users/erika/anaconda3/lib/python3.6/site-packages/ipykernel_launcher.py:24: RuntimeWarning: overflow encountered in exp\n",
      "/Users/erika/Lab/m/MLE_simulated/ToyQ2.py:23: RuntimeWarning: overflow encountered in exp\n",
      "  val = 1/(1+np.exp(0-beta*q))\n"
     ]
    },
    {
     "name": "stdout",
     "output_type": "stream",
     "text": [
      "The optimization did not converge, beta0 equals 0.726263703524 , and alphaG0 equals 0.18582544577799998\n"
     ]
    },
    {
     "name": "stderr",
     "output_type": "stream",
     "text": [
      "/Users/erika/anaconda3/lib/python3.6/site-packages/ipykernel_launcher.py:24: RuntimeWarning: overflow encountered in exp\n",
      "/Users/erika/anaconda3/lib/python3.6/site-packages/ipykernel_launcher.py:24: RuntimeWarning: overflow encountered in exp\n"
     ]
    },
    {
     "name": "stdout",
     "output_type": "stream",
     "text": [
      "The optimization did not converge, beta0 equals 0.536254523587 , and alphaG0 equals 0.545370052041\n"
     ]
    },
    {
     "name": "stderr",
     "output_type": "stream",
     "text": [
      "/Users/erika/Lab/m/MLE_simulated/ToyQ2.py:23: RuntimeWarning: overflow encountered in exp\n",
      "  val = 1/(1+np.exp(0-beta*q))\n",
      "/Users/erika/anaconda3/lib/python3.6/site-packages/ipykernel_launcher.py:24: RuntimeWarning: overflow encountered in exp\n",
      "/Users/erika/anaconda3/lib/python3.6/site-packages/ipykernel_launcher.py:24: RuntimeWarning: overflow encountered in exp\n"
     ]
    },
    {
     "name": "stdout",
     "output_type": "stream",
     "text": [
      "The optimization did not converge, beta0 equals 0.5888181635549999 , and alphaG0 equals 0.14170465664100002\n"
     ]
    },
    {
     "name": "stderr",
     "output_type": "stream",
     "text": [
      "/Users/erika/Lab/m/MLE_simulated/ToyQ2.py:23: RuntimeWarning: overflow encountered in exp\n",
      "  val = 1/(1+np.exp(0-beta*q))\n",
      "/Users/erika/anaconda3/lib/python3.6/site-packages/ipykernel_launcher.py:24: RuntimeWarning: overflow encountered in exp\n",
      "/Users/erika/Lab/m/MLE_simulated/ToyQ2.py:23: RuntimeWarning: overflow encountered in exp\n",
      "  val = 1/(1+np.exp(0-beta*q))\n",
      "/Users/erika/anaconda3/lib/python3.6/site-packages/ipykernel_launcher.py:24: RuntimeWarning: overflow encountered in exp\n"
     ]
    },
    {
     "name": "stdout",
     "output_type": "stream",
     "text": [
      "The optimization did not converge, beta0 equals 0.347512382615 , and alphaG0 equals 0.11709156960999999\n"
     ]
    },
    {
     "name": "stderr",
     "output_type": "stream",
     "text": [
      "/Users/erika/anaconda3/lib/python3.6/site-packages/ipykernel_launcher.py:24: RuntimeWarning: overflow encountered in double_scalars\n",
      "/Users/erika/anaconda3/lib/python3.6/site-packages/ipykernel_launcher.py:19: RuntimeWarning: overflow encountered in double_scalars\n",
      "/Users/erika/anaconda3/lib/python3.6/site-packages/ipykernel_launcher.py:19: RuntimeWarning: invalid value encountered in double_scalars\n",
      "/Users/erika/anaconda3/lib/python3.6/site-packages/ipykernel_launcher.py:16: RuntimeWarning: invalid value encountered in double_scalars\n",
      "  app.launch_new_instance()\n",
      "/Users/erika/anaconda3/lib/python3.6/site-packages/ipykernel_launcher.py:16: RuntimeWarning: overflow encountered in double_scalars\n",
      "  app.launch_new_instance()\n",
      "/Users/erika/anaconda3/lib/python3.6/site-packages/ipykernel_launcher.py:24: RuntimeWarning: overflow encountered in exp\n",
      "/Users/erika/anaconda3/lib/python3.6/site-packages/ipykernel_launcher.py:24: RuntimeWarning: overflow encountered in double_scalars\n",
      "/Users/erika/anaconda3/lib/python3.6/site-packages/ipykernel_launcher.py:19: RuntimeWarning: overflow encountered in double_scalars\n",
      "/Users/erika/anaconda3/lib/python3.6/site-packages/ipykernel_launcher.py:19: RuntimeWarning: invalid value encountered in double_scalars\n",
      "/Users/erika/anaconda3/lib/python3.6/site-packages/ipykernel_launcher.py:16: RuntimeWarning: overflow encountered in double_scalars\n",
      "  app.launch_new_instance()\n",
      "/Users/erika/anaconda3/lib/python3.6/site-packages/ipykernel_launcher.py:16: RuntimeWarning: invalid value encountered in double_scalars\n",
      "  app.launch_new_instance()\n",
      "/Users/erika/anaconda3/lib/python3.6/site-packages/ipykernel_launcher.py:24: RuntimeWarning: overflow encountered in exp\n",
      "/Users/erika/anaconda3/lib/python3.6/site-packages/ipykernel_launcher.py:24: RuntimeWarning: overflow encountered in double_scalars\n",
      "/Users/erika/anaconda3/lib/python3.6/site-packages/ipykernel_launcher.py:19: RuntimeWarning: overflow encountered in double_scalars\n",
      "/Users/erika/anaconda3/lib/python3.6/site-packages/ipykernel_launcher.py:19: RuntimeWarning: invalid value encountered in double_scalars\n",
      "/Users/erika/anaconda3/lib/python3.6/site-packages/numpy/core/fromnumeric.py:83: RuntimeWarning: invalid value encountered in reduce\n",
      "  return ufunc.reduce(obj, axis, dtype, out, **passkwargs)\n",
      "/Users/erika/Lab/m/MLE_simulated/ToyQ2.py:23: RuntimeWarning: overflow encountered in exp\n",
      "  val = 1/(1+np.exp(0-beta*q))\n",
      "/Users/erika/Lab/m/MLE_simulated/ToyQ2.py:23: RuntimeWarning: overflow encountered in double_scalars\n",
      "  val = 1/(1+np.exp(0-beta*q))\n",
      "/Users/erika/Lab/m/MLE_simulated/ToyQ2.py:160: RuntimeWarning: overflow encountered in double_scalars\n",
      "  self.Q=(1-self.alphaF)*self.Q # going left and not getting an reward\n"
     ]
    },
    {
     "name": "stdout",
     "output_type": "stream",
     "text": [
      "The optimization did not converge, beta0 equals 0.154716349968 , and alphaG0 equals 0.261299314818\n"
     ]
    },
    {
     "name": "stderr",
     "output_type": "stream",
     "text": [
      "/Users/erika/anaconda3/lib/python3.6/site-packages/ipykernel_launcher.py:24: RuntimeWarning: overflow encountered in exp\n",
      "/Users/erika/Lab/m/MLE_simulated/ToyQ2.py:23: RuntimeWarning: overflow encountered in exp\n",
      "  val = 1/(1+np.exp(0-beta*q))\n",
      "/Users/erika/anaconda3/lib/python3.6/site-packages/ipykernel_launcher.py:24: RuntimeWarning: overflow encountered in exp\n"
     ]
    },
    {
     "name": "stdout",
     "output_type": "stream",
     "text": [
      "The optimization did not converge, beta0 equals 0.378301326316 , and alphaG0 equals 0.681418991388\n"
     ]
    }
   ],
   "source": [
    "# check if all alphas and beta are MLE result\n",
    "truth_list = []\n",
    "mse_list = []\n",
    "for i in range(len(alphaG_list)):\n",
    "    mle,mse = simple_Q_distance(alphaG_list[i][0],alphaL_list[i][0],beta_list[i][0],action_list[i],reward_list[i],\n",
    "                                Q_list[i])\n",
    "    val = abs(mle.x[0] - alphaG_list[i][0])/mle.x[0] < 0.1\n",
    "    val = val and abs(mle.x[1] - alphaL_list[i][0])/mle.x[1] < 0.1\n",
    "    val = val and abs(mle.x[2] - beta_list[i][0])/mle.x[2] <0.2\n",
    "    \n",
    "    truth_list.append(val)\n",
    "    mse_list.append(mse)"
   ]
  },
  {
   "cell_type": "code",
   "execution_count": 96,
   "metadata": {},
   "outputs": [
    {
     "data": {
      "text/html": [
       "<div>\n",
       "<style>\n",
       "    .dataframe thead tr:only-child th {\n",
       "        text-align: right;\n",
       "    }\n",
       "\n",
       "    .dataframe thead th {\n",
       "        text-align: left;\n",
       "    }\n",
       "\n",
       "    .dataframe tbody tr th {\n",
       "        vertical-align: top;\n",
       "    }\n",
       "</style>\n",
       "<table border=\"1\" class=\"dataframe\">\n",
       "  <thead>\n",
       "    <tr style=\"text-align: right;\">\n",
       "      <th></th>\n",
       "      <th>session</th>\n",
       "      <th>subject</th>\n",
       "      <th>lever</th>\n",
       "      <th>response</th>\n",
       "      <th>feedback</th>\n",
       "      <th>state</th>\n",
       "      <th>action</th>\n",
       "      <th>reward</th>\n",
       "      <th>alpha_gain</th>\n",
       "      <th>alpha_loss</th>\n",
       "      <th>beta</th>\n",
       "      <th>Q</th>\n",
       "      <th>PE</th>\n",
       "    </tr>\n",
       "  </thead>\n",
       "  <tbody>\n",
       "    <tr>\n",
       "      <th>0</th>\n",
       "      <td>1</td>\n",
       "      <td>10</td>\n",
       "      <td>A</td>\n",
       "      <td>rich</td>\n",
       "      <td>0.0</td>\n",
       "      <td>1.0</td>\n",
       "      <td>1.0</td>\n",
       "      <td>0.0</td>\n",
       "      <td>0.139603</td>\n",
       "      <td>1.0</td>\n",
       "      <td>20.0</td>\n",
       "      <td>0.000000</td>\n",
       "      <td>-0.500000</td>\n",
       "    </tr>\n",
       "    <tr>\n",
       "      <th>1</th>\n",
       "      <td>1</td>\n",
       "      <td>10</td>\n",
       "      <td>A</td>\n",
       "      <td>rich</td>\n",
       "      <td>1.0</td>\n",
       "      <td>1.0</td>\n",
       "      <td>1.0</td>\n",
       "      <td>1.0</td>\n",
       "      <td>0.139603</td>\n",
       "      <td>1.0</td>\n",
       "      <td>20.0</td>\n",
       "      <td>0.139603</td>\n",
       "      <td>1.000000</td>\n",
       "    </tr>\n",
       "    <tr>\n",
       "      <th>2</th>\n",
       "      <td>1</td>\n",
       "      <td>10</td>\n",
       "      <td>B</td>\n",
       "      <td>lean</td>\n",
       "      <td>0.0</td>\n",
       "      <td>1.0</td>\n",
       "      <td>2.0</td>\n",
       "      <td>0.0</td>\n",
       "      <td>0.139603</td>\n",
       "      <td>1.0</td>\n",
       "      <td>20.0</td>\n",
       "      <td>0.000000</td>\n",
       "      <td>-0.500000</td>\n",
       "    </tr>\n",
       "    <tr>\n",
       "      <th>3</th>\n",
       "      <td>1</td>\n",
       "      <td>10</td>\n",
       "      <td>A</td>\n",
       "      <td>rich</td>\n",
       "      <td>1.0</td>\n",
       "      <td>1.0</td>\n",
       "      <td>1.0</td>\n",
       "      <td>1.0</td>\n",
       "      <td>0.139603</td>\n",
       "      <td>1.0</td>\n",
       "      <td>20.0</td>\n",
       "      <td>0.259718</td>\n",
       "      <td>0.860397</td>\n",
       "    </tr>\n",
       "    <tr>\n",
       "      <th>4</th>\n",
       "      <td>1</td>\n",
       "      <td>10</td>\n",
       "      <td>B</td>\n",
       "      <td>lean</td>\n",
       "      <td>0.0</td>\n",
       "      <td>1.0</td>\n",
       "      <td>2.0</td>\n",
       "      <td>0.0</td>\n",
       "      <td>0.139603</td>\n",
       "      <td>1.0</td>\n",
       "      <td>20.0</td>\n",
       "      <td>0.000000</td>\n",
       "      <td>0.000000</td>\n",
       "    </tr>\n",
       "  </tbody>\n",
       "</table>\n",
       "</div>"
      ],
      "text/plain": [
       "  session  subject lever response  feedback  state  action  reward  \\\n",
       "0       1       10     A     rich       0.0    1.0     1.0     0.0   \n",
       "1       1       10     A     rich       1.0    1.0     1.0     1.0   \n",
       "2       1       10     B     lean       0.0    1.0     2.0     0.0   \n",
       "3       1       10     A     rich       1.0    1.0     1.0     1.0   \n",
       "4       1       10     B     lean       0.0    1.0     2.0     0.0   \n",
       "\n",
       "   alpha_gain  alpha_loss  beta         Q        PE  \n",
       "0    0.139603         1.0  20.0  0.000000 -0.500000  \n",
       "1    0.139603         1.0  20.0  0.139603  1.000000  \n",
       "2    0.139603         1.0  20.0  0.000000 -0.500000  \n",
       "3    0.139603         1.0  20.0  0.259718  0.860397  \n",
       "4    0.139603         1.0  20.0  0.000000  0.000000  "
      ]
     },
     "execution_count": 96,
     "metadata": {},
     "output_type": "execute_result"
    }
   ],
   "source": [
    "df.head()"
   ]
  },
  {
   "cell_type": "code",
   "execution_count": null,
   "metadata": {
    "collapsed": true
   },
   "outputs": [],
   "source": []
  },
  {
   "cell_type": "markdown",
   "metadata": {},
   "source": [
    "## Simulated rats with 2 alphas"
   ]
  },
  {
   "cell_type": "code",
   "execution_count": 117,
   "metadata": {
    "collapsed": true
   },
   "outputs": [],
   "source": [
    "# temp\n",
    "def neg_log_likelihood_sigQ_2alpha(alphaG,alphaL,beta,actions,rewards,Q=0,gamma=0,Qleft=True): \n",
    "    n = len(actions)\n",
    "    sum_ll = 0\n",
    "    for i in range(n):\n",
    "        turn = actions[i]\n",
    "        rew = rewards[i]\n",
    "        \n",
    "        if (turn == np.array([0,1])).all() & (rew == np.array([0,1])).all():\n",
    "            rew = 0\n",
    "            Q = Q + alphaG*(rew - Q + gamma*np.max(Q))\n",
    "        elif (turn == np.array([0,1])).all() & (rew == np.array([1,0])).all():\n",
    "            rew = 1\n",
    "            Q = Q + alphaL*(rew - Q + gamma*np.max(Q))\n",
    "        elif (turn == np.array([1,0])).all() & (rew == np.array([1,0])).all():\n",
    "            rew = 1\n",
    "            Q = Q - alphaG*(rew - Q + gamma*np.max(Q))\n",
    "        else:\n",
    "            rew = 0\n",
    "            Q = Q + alphaL*(rew - Q + gamma*np.max(Q))\n",
    "\n",
    "        \n",
    "        if np.array_equal(turn,np.array([1,0])):\n",
    "            prob = 1/(np.exp(0-beta*Q)+1)\n",
    "        else:\n",
    "            prob = 1 - 1/(np.exp(0-beta*Q)+1)\n",
    "        \n",
    "        sum_ll = sum_ll - np.log(prob + np.exp(0-8)) # add a smoother to avoid warnings\n",
    "    \n",
    "    return sum_ll"
   ]
  },
  {
   "cell_type": "code",
   "execution_count": 175,
   "metadata": {
    "collapsed": true
   },
   "outputs": [],
   "source": [
    "env = ToyQ2.toyQ_2choice()\n",
    "rat = ToyQ2.SQFSrat(env,alphaF=0.3,alphaS=0.2, beta=4)\n",
    "env,rat = ToyQ2.train_rat(env,rat,100)\n",
    "Q = np.array(rat.Qlog)\n",
    "\n",
    "actions = rat.choiceLog\n",
    "rewards = env.obslog"
   ]
  },
  {
   "cell_type": "code",
   "execution_count": 176,
   "metadata": {},
   "outputs": [
    {
     "data": {
      "text/plain": [
       "      fun: 69.24764802738692\n",
       " hess_inv: <3x3 LbfgsInvHessProduct with dtype=float64>\n",
       "      jac: array([0., 0., 0.])\n",
       "  message: b'CONVERGENCE: NORM_OF_PROJECTED_GRADIENT_<=_PGTOL'\n",
       "     nfev: 8\n",
       "      nit: 1\n",
       "   status: 0\n",
       "  success: True\n",
       "        x: array([0., 1., 0.])"
      ]
     },
     "execution_count": 176,
     "metadata": {},
     "output_type": "execute_result"
    }
   ],
   "source": [
    "MLE_2alpha(actions,rewards,0.2,0.3,4)"
   ]
  },
  {
   "cell_type": "code",
   "execution_count": 179,
   "metadata": {},
   "outputs": [
    {
     "data": {
      "text/plain": [
       "83.44091084368426"
      ]
     },
     "execution_count": 179,
     "metadata": {},
     "output_type": "execute_result"
    }
   ],
   "source": [
    "neg_log_likelihood_sigQ_2alpha_simulated(0.2,0.3,4,actions,rewards)"
   ]
  },
  {
   "cell_type": "code",
   "execution_count": 183,
   "metadata": {},
   "outputs": [
    {
     "data": {
      "text/plain": [
       "83.44091084368426"
      ]
     },
     "execution_count": 183,
     "metadata": {},
     "output_type": "execute_result"
    }
   ],
   "source": [
    "helper_func_2alpha(params=(0.2,0.3,4),args=(actions,rewards))"
   ]
  },
  {
   "cell_type": "code",
   "execution_count": 172,
   "metadata": {},
   "outputs": [
    {
     "data": {
      "image/png": "[encoded data removed]",
      "text/plain": [
       "<matplotlib.figure.Figure at 0x151e1d3438>"
      ]
     },
     "metadata": {},
     "output_type": "display_data"
    }
   ],
   "source": [
    "# plot likelihood versus alphaG\n",
    "alphaG_list = np.linspace(0,1,100)\n",
    "ll_list = [neg_log_likelihood_sigQ_2alpha_simulated(i,0.3,4,actions,rewards) for i in alphaG_list]\n",
    "plt.plot(alphaG_list,ll_list)\n",
    "plt.show()"
   ]
  },
  {
   "cell_type": "code",
   "execution_count": 173,
   "metadata": {},
   "outputs": [
    {
     "data": {
      "image/png": "[encoded data removed]",
      "text/plain": [
       "<matplotlib.figure.Figure at 0x151ec1b780>"
      ]
     },
     "metadata": {},
     "output_type": "display_data"
    }
   ],
   "source": [
    "# plot likelihood versus alphaL\n",
    "alphaL_list = np.linspace(0,1,100)\n",
    "ll_list = [neg_log_likelihood_sigQ_2alpha_simulated(0.2,i,4,actions,rewards) for i in alphaL_list]\n",
    "plt.plot(alphaL_list,ll_list)\n",
    "plt.show()"
   ]
  },
  {
   "cell_type": "code",
   "execution_count": 174,
   "metadata": {},
   "outputs": [
    {
     "data": {
      "image/png": "[encoded data removed]",
      "text/plain": [
       "<matplotlib.figure.Figure at 0x151f040cf8>"
      ]
     },
     "metadata": {},
     "output_type": "display_data"
    }
   ],
   "source": [
    "# plot likelihood versus beta\n",
    "beta_list = np.linspace(0,40,100)\n",
    "ll_list = [neg_log_likelihood_sigQ_2alpha_simulated(0.2,0.3,i,actions,rewards) for i in beta_list]\n",
    "plt.plot(beta_list,ll_list)\n",
    "plt.show()"
   ]
  },
  {
   "cell_type": "code",
   "execution_count": null,
   "metadata": {
    "collapsed": true
   },
   "outputs": [],
   "source": []
  }
 ],
 "metadata": {
  "kernelspec": {
   "display_name": "Python 3",
   "language": "python",
   "name": "python3"
  },
  "language_info": {
   "codemirror_mode": {
    "name": "ipython",
    "version": 3
   },
   "file_extension": ".py",
   "mimetype": "text/x-python",
   "name": "python",
   "nbconvert_exporter": "python",
   "pygments_lexer": "ipython3",
   "version": "3.6.3"
  }
 },
 "nbformat": 4,
 "nbformat_minor": 2
}
