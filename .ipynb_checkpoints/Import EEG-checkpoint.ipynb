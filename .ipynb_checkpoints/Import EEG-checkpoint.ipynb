{
 "cells": [
  {
   "cell_type": "code",
   "execution_count": 7,
   "metadata": {
    "scrolled": true
   },
   "outputs": [],
   "source": [
    "import os,glob\n",
    "import numpy as np\n",
    "import matplotlib.pyplot as plt\n",
    "import pandas as pd\n",
    "import scipy.io\n",
    "import sys\n",
    "import copy\n",
    "import re\n",
    "from pandas import ExcelFile\n",
    "lib_path='/cndd/hop006/Github/'\n",
    "excel_path=lib_path+'RewardReversalPorject/Data/UH2 Probabilistic Reversal Learning EEG.xlsx'\n",
    "UH2_excel=pd.read_excel(excel_path,sheetname='Rat 30')\n",
    "sys.path.append('/cndd/hop006/Github/RewardReversalPorject')\n",
    "from ToyQ2 import *\n",
    "from matplotlib.pyplot import *\n",
    "\n",
    "\n",
    "data_path='/cndd/emukamel/UH2_DerAvakian/PRL_analysis/Data'\n",
    "output_path='/cndd/hop006/Data/epoched_eeg/'\n",
    "files=glob.glob(os.path.join(data_path,'*'))"
   ]
  },
  {
   "cell_type": "code",
   "execution_count": null,
   "metadata": {
    "scrolled": true
   },
   "outputs": [
    {
     "name": "stdout",
     "output_type": "stream",
     "text": [
      "1,2,3,4,5,6,7,8,9,10,11,12,13,14,15,16,17,18,19,20,21,22,23,24,25,26,27,28,29,30,31,32,33,34,35,36,37,38,39,40,41,42,43,44,45,46,47,48,49,50,51,52,53,54,55,56,57,58,59,60,61,62,63,64,65,66,67,68,69,70,71,72,73,74,75,76,77,78,79,80,81,82,83,84,85,86,87,88,89,90,91,92,93,94,95,96,97,98,99,100,101,102,103,104,105,106,107,108,109,110,111,112,113,114,115,116,117,118,119,120,121,122,123,124,125,126,127,128,129,130,131,132,133,134,135,136,137,138,139,140,141,142,143,144,145,146,147,148,149,150,151,152,153,154,155,156,157,158,159,160,161,162,163,"
     ]
    }
   ],
   "source": [
    "mats={}\n",
    "i=0\n",
    "for file in files:\n",
    "    mats[file]=scipy.io.loadmat(file)\n",
    "    i+=1\n",
    "    print(i,end=',')\n",
    "mats_df=pd.DataFrame(mats)"
   ]
  },
  {
   "cell_type": "markdown",
   "metadata": {},
   "source": [
    "# Getting just one rat\n",
    "## saved rat 29, 18, 23, 30 as pickle"
   ]
  },
  {
   "cell_type": "code",
   "execution_count": 161,
   "metadata": {
    "scrolled": true
   },
   "outputs": [],
   "source": [
    "def get_ephys(date,rat_num):\n",
    "    for i in files:\n",
    "        fn=i.split('/')[-1].split()\n",
    "        for j in fn:\n",
    "            if j.split('_')[0]==str(date):\n",
    "                if j.split('_')[1]=='Rat'+str(rat_num):\n",
    "                    return scipy.io.loadmat(i)\n",
    "    print('doesnt exist')\n",
    "    return\n",
    "rat23=get_ephys(20180525,23)"
   ]
  },
  {
   "cell_type": "markdown",
   "metadata": {},
   "source": [
    "# Data summary\n",
    "## the ttl vector is converted to just 0 and 1"
   ]
  },
  {
   "cell_type": "code",
   "execution_count": 26,
   "metadata": {},
   "outputs": [],
   "source": [
    "# def rat_summary(rat): # takes a single rat's data as a pd.Series object\n",
    "#     tvecs,signals,low_tones,high_tones,tars,off_tars=[],[],[],[],[],[]\n",
    "#     low_tone=rat['ttl'][0]\n",
    "#     high_tone=rat['ttl'][1]\n",
    "#     tar=rat['ttl'][2]\n",
    "#     off_tar=rat['ttl'][3]\n",
    "#     tvec=rat['tvec'][0]\n",
    "#     adc='empty' if rat['adc'].size==0 else rat['adc'][0]\n",
    "#     lfp='empty' if rat['lfp'].size==0 else rat['lfp']\n",
    "#     eeg='empty' if rat['eeg'].size==0 else rat['eeg']\n",
    "    \n",
    "#     signal=lfp if lfp!='empty' else eeg\n",
    "#     signal=np.array(signal)\n",
    "    \n",
    "#     duration=tvec.max()\n",
    "#     zeros=np.where(tvec == tvec.min())[0]\n",
    "#     n=(zeros[1]-zeros[0])\n",
    "#     print('duration:',duration,'|num_recordings:',len(zeros)-1,'|n:',n)\n",
    "#     for i in range(1,len(zeros)): # looping thru each reset of clock\n",
    "#         tvecs.append(tvec[zeros[i-1]:zeros[i]])\n",
    "#         low_tones.append(np.round(low_tone[zeros[i-1]:zeros[i]])) # rounding the decimals off\n",
    "#         high_tones.append(np.round(high_tone[zeros[i-1]:zeros[i]]))\n",
    "#         tars.append(np.round(tar[zeros[i-1]:zeros[i]]))\n",
    "#         off_tars.append(np.round(off_tar[zeros[i-1]:zeros[i]]))\n",
    "#         signals.append(signal[:,zeros[i-1]:zeros[i]])\n",
    "#     return np.array(tvecs),np.array(signals),np.array(low_tones),np.array(high_tones),np.array(tars),np.array(off_tars)\n"
   ]
  },
  {
   "cell_type": "code",
   "execution_count": 95,
   "metadata": {},
   "outputs": [],
   "source": [
    "def rat_summary(rat): # takes a single rat's data as a pd.Series object\n",
    "    tvecs,signals,low_tones,high_tones,tars,off_tars=[],[],[],[],[],[]\n",
    "    low_tone=np.round(rat['ttl'][0])\n",
    "    high_tone=np.round(rat['ttl'][1])\n",
    "    tar=np.round(rat['ttl'][2])\n",
    "    off_tar=np.round(rat['ttl'][3])\n",
    "    tvec=rat['tvec'][0]\n",
    "    adc='empty' if rat['adc'].size==0 else rat['adc'][0]\n",
    "    lfp='empty' if rat['lfp'].size==0 else rat['lfp']\n",
    "    eeg='empty' if rat['eeg'].size==0 else rat['eeg']\n",
    "    \n",
    "    signal=lfp if lfp!='empty' else eeg\n",
    "    signal=np.array(signal)\n",
    "    \n",
    "    return np.array(tvec),np.array(signal),np.array(low_tone),np.array(high_tone),np.array(tar),np.array(off_tar)\n"
   ]
  },
  {
   "cell_type": "code",
   "execution_count": 247,
   "metadata": {
    "scrolled": true
   },
   "outputs": [
    {
     "name": "stderr",
     "output_type": "stream",
     "text": [
      "/home/AD/hop006/anaconda3/lib/python3.7/site-packages/ipykernel_launcher.py:12: FutureWarning: elementwise comparison failed; returning scalar instead, but in the future will perform elementwise comparison\n",
      "  if sys.path[0] == '':\n"
     ]
    }
   ],
   "source": [
    "tvec,signal,low_tone,high_tone,tar,off_tar=rat_summary(rat23)"
   ]
  },
  {
   "cell_type": "markdown",
   "metadata": {},
   "source": [
    "# Concat all the tvecs, remove artifact \n",
    "## eam live load eeg data 3times the inter quartile range as threshold 20180525 rat 23\n",
    "# rat 9 aud erp"
   ]
  },
  {
   "cell_type": "markdown",
   "metadata": {},
   "source": [
    "# Note on the data:\n",
    "## low_tone is 3, high_tone is 4, on_target is 1, off_target is 2"
   ]
  },
  {
   "cell_type": "code",
   "execution_count": 703,
   "metadata": {},
   "outputs": [],
   "source": [
    "def get_behavior(rat,eeg_length,plot=False): # each interval is around 0.002\n",
    "    out=[]\n",
    "    tvec,signal,low_tone,high_tone,tar,off_tar=rat_summary(rat)\n",
    "    action_log=[]\n",
    "    reward_log=[]\n",
    "    epoched_eeg=[]\n",
    "    if plot:\n",
    "        ax = subplot(1,1,1)\n",
    "        p1, = ax.plot(low_tone*3, label=\"low_tone\")\n",
    "        p2, = ax.plot(high_tone*4, label=\"high_tone\")\n",
    "        p3, = ax.plot(tar, label=\"targets\")\n",
    "        p4, = ax.plot(off_tar*2,label='off_targets')\n",
    "        handles, labels = ax.get_legend_handles_labels()\n",
    "        ax.legend(handles[::-1], labels[::-1])\n",
    "\n",
    "    zero_low_tone=np.where(low_tone == 0)[0]\n",
    "    zero_high_tone=np.where(high_tone == 0)[0]\n",
    "    zero_tar=np.where(tar == 0)[0]\n",
    "    zero_off_tar=np.where(off_tar == 0)[0]\n",
    "    low_tone_onset=zero_low_tone[(np.roll(zero_low_tone,1)-zero_low_tone)!=-1]\n",
    "    high_tone_onset=zero_high_tone[(np.roll(zero_high_tone,1)-zero_high_tone)!=-1]\n",
    "    tar_onset=zero_tar[(np.roll(zero_tar,1)-zero_tar)!=-1]\n",
    "    off_tar_onset=zero_off_tar[(np.roll(zero_off_tar,1)-zero_off_tar)!=-1]\n",
    "        \n",
    "    zero_temp=np.zeros(tvec.shape)\n",
    "    zero_temp[tar_onset]=1\n",
    "    zero_temp[off_tar_onset]=2\n",
    "    \n",
    "    for j in np.nonzero(zero_temp)[0]:\n",
    "        epoched_eeg.append(copy.deepcopy(signal[:,j-100:j+eeg_length]))\n",
    "    \n",
    "    zero_temp[low_tone_onset]=3\n",
    "    zero_temp[high_tone_onset]=4\n",
    "    \n",
    "    log=zero_temp[np.nonzero(zero_temp)]\n",
    "    action_log+=(log[log<3].tolist())\n",
    "    reward_log+=(log[log>2].tolist())\n",
    "\n",
    "\n",
    "#         if bool(list(reward_loss_onset)):\n",
    "#             print(log)\n",
    "    reward_log=np.array(reward_log)\n",
    "    action_log=np.array(action_log)\n",
    "    reward_log[reward_log==3]=1\n",
    "    reward_log[reward_log==4]=0\n",
    "    return action_log,reward_log,epoched_eeg\n",
    "\n",
    "def eeg_by_label(rat,label_by_action,label_by_reward=None,label_by_chan=19,eeg_length=300): # the label_by_action is either 1 or 2\n",
    "    action_log,reward_log,epoched_eeg=get_behavior(rat,eeg_length,plot=False)\n",
    "    if label_by_action!=None:\n",
    "        idx1=(action_log==label_by_action)\n",
    "    else:\n",
    "        idx1=np.ones(action_log.shape)\n",
    "    if label_by_reward!=None:\n",
    "        idx2=(reward_log==label_by_reward)\n",
    "    else:\n",
    "        idx2=np.ones(reward_log.shape)\n",
    "    idx=(idx1*idx2).astype(dtype=int)\n",
    "    out=[]\n",
    "    for i in np.nonzero(idx)[0]:\n",
    "        out.append(epoched_eeg[i][label_by_chan])\n",
    "    return np.array(out)\n"
   ]
  },
  {
   "cell_type": "markdown",
   "metadata": {},
   "source": [
    "# Rat23 is high_tone for reward"
   ]
  },
  {
   "cell_type": "code",
   "execution_count": 704,
   "metadata": {
    "scrolled": false
   },
   "outputs": [
    {
     "name": "stderr",
     "output_type": "stream",
     "text": [
      "/home/AD/hop006/anaconda3/lib/python3.7/site-packages/ipykernel_launcher.py:12: FutureWarning: elementwise comparison failed; returning scalar instead, but in the future will perform elementwise comparison\n",
      "  if sys.path[0] == '':\n"
     ]
    }
   ],
   "source": [
    "action_log,reward_log,epoched_eeg=get_behavior(rat23,300,plot=False);\n",
    "tar_eeg=eeg_by_label(rat23,1)\n",
    "off_tar_eeg=eeg_by_label(rat23,2)\n",
    "hi_eeg=eeg_by_label(rat23,None,1)\n",
    "low_eeg=eeg_by_label(rat23,None,0)"
   ]
  },
  {
   "cell_type": "markdown",
   "metadata": {},
   "source": [
    "# EEG processing\n",
    "## Removing artifact"
   ]
  },
  {
   "cell_type": "code",
   "execution_count": 705,
   "metadata": {},
   "outputs": [],
   "source": [
    "from scipy.stats import kurtosis\n",
    "def mask_by_std(eeg_in,zero_fill=False): # need to specify eeg channel here\n",
    "    eeg=copy.deepcopy(eeg_in)\n",
    "    std=np.std(eeg)\n",
    "    m=np.mean(eeg)\n",
    "#     artifact=(np.abs((eeg-m)/std))>3\n",
    "    artifact=np.abs(eeg)>1500\n",
    "    arti_onset=np.where(artifact==1)[0]\n",
    "    for i in arti_onset:\n",
    "        eeg[i-100:i+100]=np.nan\n",
    "    return eeg"
   ]
  },
  {
   "cell_type": "code",
   "execution_count": 706,
   "metadata": {},
   "outputs": [],
   "source": [
    "from scipy.signal import butter, sosfiltfilt, sosfreqz\n",
    "from scipy.fftpack import fft, fftfreq, fftshift\n",
    "# Credit for these functions goes to 'WarrenWeckesser'\n",
    "# https://scipy-cookbook.readthedocs.io/items/ButterworthBandpass.html\n",
    "\n",
    "def butter_bandpass(lowcut, highcut, fs, order = 2):\n",
    "        nyq = 0.5 * fs\n",
    "        low = lowcut / nyq\n",
    "        high = highcut / nyq\n",
    "        sos = butter(order, [low, high], analog = False, btype = 'band', output = 'sos')\n",
    "        return sos\n",
    "\n",
    "def butter_bandpass_filter(data, lowcut, highcut, fs, order = 2):\n",
    "        sos = butter_bandpass(lowcut, highcut, fs, order = order)\n",
    "        y = sosfiltfilt(sos, data)\n",
    "        return y\n",
    "    \n",
    "fs = 500.0     # 200 Hz sampling rate\n",
    "low_cut  = 0.1; # EDIT THIS VARIABLE\n",
    "high_cut = 30.0; # EDIT THIS VARIABLE\n",
    "lowcut = 0.1   # 0.1 Hz is the lowest frequency we will pass\n",
    "highcut = 30.0 # 30  Hz is the highest frequency we will pass.\n",
    "order = 2;\n",
    "\n",
    "def plot_average(eeg,fil=False,lowcut=None,highcut=None):\n",
    "    fs=500.0\n",
    "    order=2\n",
    "    dt=1/fs\n",
    "    temp=copy.deepcopy(eeg[:])\n",
    "    out=[]\n",
    "    for i,x in enumerate(temp):\n",
    "        out.append(mask_by_std(x))\n",
    "    T=np.linspace(0,fs,num=len(eeg))\n",
    "    if fil:\n",
    "        if lowcut==None or highcut==None:\n",
    "            lowcut=0.1\n",
    "            highcut=30.0\n",
    "        temp=butter_bandpass_filter(temp, lowcut, highcut, fs, order)\n",
    "    out=np.array(out)\n",
    "    erp=np.nanmean(out,axis=0)\n",
    "    plt.plot(erp)\n",
    "    return erp\n",
    "\n",
    "def spec_plot(eeg,fs=500):\n",
    "    T=np.linspace(0,fs,num=len(eeg))\n",
    "    FFTY=np.fft.fft(eeg)\n",
    "    psd = np.abs(FFTY)**2\n",
    "    plt.figure(1)\n",
    "    plt.plot(T,psd)\n",
    "    plt.yscale('log')\n",
    "    plt.xlim(50,150)\n",
    "    plt.figure(2)\n",
    "    plt.plot(eeg)"
   ]
  },
  {
   "cell_type": "markdown",
   "metadata": {},
   "source": [
    "# Final Pipeline"
   ]
  },
  {
   "cell_type": "code",
   "execution_count": 707,
   "metadata": {},
   "outputs": [],
   "source": [
    "def get_excel_info(rat_num):\n",
    "    excel_path=lib_path+'RewardReversalPorject/Data/UH2 Probabilistic Reversal Learning EEG.xlsx'\n",
    "    UH2_excel=pd.read_excel(excel_path,sheetname='Rat '+str(rat_num))\n",
    "    chan_info=UH2_excel.iloc[5:21,:3]\n",
    "    trial_info=UH2_excel.iloc[22:,:]\n",
    "    val_chan=[chan_info.iloc[i,0] for i in range(chan_info.shape[0]) if chan_info.iloc[i,1]!='blank']\n",
    "    chan_name=[chan_info.iloc[i,1] for i in range(chan_info.shape[0]) if chan_info.iloc[i,1]!='blank']\n",
    "    dates=[]\n",
    "    rat_nums=[]\n",
    "    for i in (trial_info.iloc[1:,1]):\n",
    "        if not type(i)!=str:\n",
    "            temp=i.split('_')\n",
    "            date=temp[0]\n",
    "            string1=temp[1]\n",
    "            rat_num=int(re.search(r'\\d+', string1).group())\n",
    "            dates.append(date)\n",
    "            rat_nums.append(rat_num)\n",
    "    return val_chan,chan_name,dates,rat_nums"
   ]
  },
  {
   "cell_type": "markdown",
   "metadata": {},
   "source": [
    "# Get Action_log:\n",
    "## Stimtrackor fucks up my code, idk wtf is going on with these warning"
   ]
  },
  {
   "cell_type": "code",
   "execution_count": 708,
   "metadata": {
    "scrolled": false
   },
   "outputs": [
    {
     "name": "stderr",
     "output_type": "stream",
     "text": [
      "/home/AD/hop006/anaconda3/lib/python3.7/site-packages/ipykernel_launcher.py:12: FutureWarning: elementwise comparison failed; returning scalar instead, but in the future will perform elementwise comparison\n",
      "  if sys.path[0] == '':\n"
     ]
    }
   ],
   "source": [
    "val_chan,chan_name,dates,rat_nums=get_excel_info(26)\n",
    "rat_df=get_ephys(dates[0],rat_nums[0])\n",
    "tvec,signal,low_tone,high_tone,tar,off_tar=rat_summary(rat_df)\n",
    "action_log,reward_log,epoched_eeg=get_behavior(rat_df,eeg_length=300,plot=False)"
   ]
  },
  {
   "cell_type": "code",
   "execution_count": 709,
   "metadata": {
    "scrolled": false
   },
   "outputs": [
    {
     "name": "stderr",
     "output_type": "stream",
     "text": [
      "/home/AD/hop006/anaconda3/lib/python3.7/site-packages/ipykernel_launcher.py:12: FutureWarning: elementwise comparison failed; returning scalar instead, but in the future will perform elementwise comparison\n",
      "  if sys.path[0] == '':\n"
     ]
    }
   ],
   "source": [
    "tar_eeg=eeg_by_label(rat_df,1)\n",
    "off_tar_eeg=eeg_by_label(rat_df,2)\n",
    "hi_eeg=eeg_by_label(rat_df,None,1)\n",
    "low_eeg=eeg_by_label(rat_df,None,0)"
   ]
  },
  {
   "cell_type": "code",
   "execution_count": 717,
   "metadata": {},
   "outputs": [
    {
     "data": {
      "text/plain": [
       "2571.554570100094"
      ]
     },
     "execution_count": 717,
     "metadata": {},
     "output_type": "execute_result"
    }
   ],
   "source": [
    "sum(sum(rat_df['eeg']))"
   ]
  },
  {
   "cell_type": "code",
   "execution_count": 712,
   "metadata": {},
   "outputs": [
    {
     "data": {
      "text/plain": [
       "[<matplotlib.lines.Line2D at 0x7f0ebedddf28>]"
      ]
     },
     "execution_count": 712,
     "metadata": {},
     "output_type": "execute_result"
    },
    {
     "data": {
      "image/png": "[encoded data removed]",
      "text/plain": [
       "<Figure size 432x288 with 1 Axes>"
      ]
     },
     "metadata": {
      "needs_background": "light"
     },
     "output_type": "display_data"
    },
    {
     "data": {
      "image/png": "[encoded data removed]",
      "text/plain": [
       "<Figure size 432x288 with 1 Axes>"
      ]
     },
     "metadata": {
      "needs_background": "light"
     },
     "output_type": "display_data"
    }
   ],
   "source": [
    "plt.clf()\n",
    "plt.figure(1)\n",
    "erp1=plot_average(low_eeg,fil=False)\n",
    "# erp2=plot_average(off_tar_eeg,fil=False)\n",
    "plt.figure(2)\n",
    "plt.plot(np.mean(low_eeg,axis=0))"
   ]
  },
  {
   "cell_type": "markdown",
   "metadata": {},
   "source": [
    "# Comparing different scenarios\n",
    "# In L Au1 EEG"
   ]
  },
  {
   "cell_type": "code",
   "execution_count": 649,
   "metadata": {},
   "outputs": [
    {
     "name": "stderr",
     "output_type": "stream",
     "text": [
      "/home/AD/hop006/anaconda3/lib/python3.7/site-packages/ipykernel_launcher.py:12: FutureWarning: elementwise comparison failed; returning scalar instead, but in the future will perform elementwise comparison\n",
      "  if sys.path[0] == '':\n"
     ]
    }
   ],
   "source": [
    "tar_r=eeg_by_label(rat_df,1,3)\n",
    "off_r=eeg_by_label(rat_df,2,3)\n",
    "tar_n=eeg_by_label(rat_df,1,4)\n",
    "off_n=eeg_by_label(rat_df,2,4)"
   ]
  },
  {
   "cell_type": "code",
   "execution_count": 650,
   "metadata": {
    "scrolled": false
   },
   "outputs": [
    {
     "name": "stderr",
     "output_type": "stream",
     "text": [
      "/home/AD/hop006/anaconda3/lib/python3.7/site-packages/ipykernel_launcher.py:40: RuntimeWarning: Mean of empty slice\n"
     ]
    },
    {
     "data": {
      "text/plain": [
       "<matplotlib.legend.Legend at 0x7f0ebf01bfd0>"
      ]
     },
     "execution_count": 650,
     "metadata": {},
     "output_type": "execute_result"
    },
    {
     "data": {
      "image/png": "[encoded data removed]",
      "text/plain": [
       "<Figure size 432x288 with 1 Axes>"
      ]
     },
     "metadata": {
      "needs_background": "light"
     },
     "output_type": "display_data"
    }
   ],
   "source": [
    "erp1=plot_average(tar_r,fil=False)\n",
    "erp2=plot_average(off_r,fil=False)\n",
    "erp3=plot_average(tar_n,fil=False)\n",
    "erp4=plot_average(off_n,fil=False)\n",
    "plt.legend(('target_reward','off-target_reward','target_no-reward','off-target_noreward'))"
   ]
  },
  {
   "cell_type": "markdown",
   "metadata": {},
   "source": [
    "# LFP In ACC"
   ]
  },
  {
   "cell_type": "code",
   "execution_count": 60,
   "metadata": {},
   "outputs": [
    {
     "name": "stdout",
     "output_type": "stream",
     "text": [
      "duration: 59.998 |num_recordings: 44 |n: 30000\n",
      "10 is not to length\n",
      "94 is not to length\n",
      "duration: 59.998 |num_recordings: 44 |n: 30000\n",
      "duration: 59.998 |num_recordings: 44 |n: 30000\n",
      "duration: 59.998 |num_recordings: 44 |n: 30000\n",
      "24 is not to length\n",
      "42 is not to length\n",
      "47 is not to length\n",
      "56 is not to length\n"
     ]
    }
   ],
   "source": [
    "tar_r1=eeg_by_label(rat_df,1,21,label_by_reward=1)\n",
    "off_r1=eeg_by_label(rat_df,2,21,label_by_reward=1)\n",
    "tar_n1=eeg_by_label(rat_df,1,21,label_by_reward=0)\n",
    "off_n1=eeg_by_label(rat_df,2,21,label_by_reward=0)"
   ]
  },
  {
   "cell_type": "code",
   "execution_count": 61,
   "metadata": {},
   "outputs": [
    {
     "data": {
      "text/plain": [
       "<matplotlib.legend.Legend at 0x7f09243b1cf8>"
      ]
     },
     "execution_count": 61,
     "metadata": {},
     "output_type": "execute_result"
    },
    {
     "data": {
      "image/png": "[encoded data removed]",
      "text/plain": [
       "<Figure size 432x288 with 1 Axes>"
      ]
     },
     "metadata": {
      "needs_background": "light"
     },
     "output_type": "display_data"
    }
   ],
   "source": [
    "erp11=plot_average(tar_r1,fil=False)\n",
    "erp22=plot_average(off_r1,fil=False)\n",
    "erp33=plot_average(tar_n1,fil=False)\n",
    "erp44=plot_average(off_n1,fil=False)\n",
    "plt.legend(('target_reward','off-target_reward','target_no-reward','off-target_noreward'))"
   ]
  }
 ],
 "metadata": {
  "kernelspec": {
   "display_name": "Python 3",
   "language": "python",
   "name": "python3"
  },
  "language_info": {
   "codemirror_mode": {
    "name": "ipython",
    "version": 3
   },
   "file_extension": ".py",
   "mimetype": "text/x-python",
   "name": "python",
   "nbconvert_exporter": "python",
   "pygments_lexer": "ipython3",
   "version": "3.7.3"
  }
 },
 "nbformat": 4,
 "nbformat_minor": 2
}
