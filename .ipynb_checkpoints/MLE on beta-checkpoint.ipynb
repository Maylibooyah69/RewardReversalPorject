{
 "cells": [
  {
   "cell_type": "code",
   "execution_count": 27,
   "metadata": {},
   "outputs": [],
   "source": [
    "# Name: Zeyun Wu\n",
    "# Date: June 27, 2019\n",
    "import numpy as np\n",
    "import random\n",
    "from scipy.optimize import minimize"
   ]
  },
  {
   "cell_type": "markdown",
   "metadata": {},
   "source": [
    "## Maximum Likelihood Estimation on beta\n",
    "\n",
    "we cannot give MLE for Q's since likelihood is a function of Q, that is, Q is changing at every timepoint\n",
    "\n",
    "Given the actions(i.e. the turns) and Q value of the agent in every round, maximum likelihood estimation of beta are given here.\n",
    "\n",
    "The action of agent is given by a sigmoid-like function of Q, beta as a parameter."
   ]
  },
  {
   "cell_type": "code",
   "execution_count": 119,
   "metadata": {
    "collapsed": true
   },
   "outputs": [],
   "source": [
    "# read optimal bete, actions and Q arrays\n",
    "actions = np.load('actions.npy')\n",
    "Q = np.load('Qs.npy')"
   ]
  },
  {
   "cell_type": "code",
   "execution_count": 45,
   "metadata": {
    "collapsed": true
   },
   "outputs": [],
   "source": [
    "#actions = np.random.choice([0,1], size=3, p=[0.2,0.8]) # 0=left, 1=right\n",
    "#rewards = np.random.choice([0,1], size=3, p=[0.2,0.8])"
   ]
  },
  {
   "cell_type": "code",
   "execution_count": 109,
   "metadata": {},
   "outputs": [],
   "source": [
    "#Q = np.array([[0,0],[0,0.2],[0.2,0.36]])    #,[0.36,0.688]\n",
    "#beta0 = 0"
   ]
  },
  {
   "cell_type": "code",
   "execution_count": 73,
   "metadata": {},
   "outputs": [],
   "source": [
    "# parameter: x, a numpy array of action data; beta, the optimal beta found in simulation; Q, 2d numpy array of QL, QR\n",
    "# x and Q should be of same (row) length\n",
    "# return the sum of log-likelihood\n",
    "def neg_log_likelihood(beta,x,Q):    \n",
    "    n = len(x)\n",
    "    sum_ll = 0\n",
    "    for i in range(n):\n",
    "        dQ = Q[i][0] - Q[i][1]\n",
    "        if(x[i] == 0):\n",
    "            prob = 1/(np.exp(0-beta*dQ)+1)\n",
    "        else:\n",
    "            prob = 1 - 1/(np.exp(0-beta*dQ)+1)\n",
    "        \n",
    "        sum_ll = sum_ll - np.log(prob)\n",
    "    \n",
    "    return sum_ll"
   ]
  },
  {
   "cell_type": "code",
   "execution_count": 89,
   "metadata": {},
   "outputs": [],
   "source": [
    "# function that estimates the maximum-likelihood beta_hat numerically\n",
    "# parameters: actions, a numpy array recording action of agent in each turn; beta is the parameter in density func\n",
    "# return minimization summary and print beta_hat\n",
    "def MLE_beta(actions,Q,beta0):    \n",
    "    result = minimize(neg_log_likelihood,beta0, args=(actions,Q))\n",
    "    if(result.success):\n",
    "        print(result.message)\n",
    "        print('The MLE for beta is', result.x)\n",
    "        print('Iteration =', result.nit)\n",
    "    else:\n",
    "        print('The optimization did not converge')\n",
    "    return result\n",
    "    \n",
    "    "
   ]
  },
  {
   "cell_type": "code",
   "execution_count": 123,
   "metadata": {
    "collapsed": true
   },
   "outputs": [],
   "source": [
    "# drop last row of Q\n",
    "nrow = Q.shape[0]\n",
    "Q = np.delete(Q,(nrow-1),axis=0)"
   ]
  },
  {
   "cell_type": "code",
   "execution_count": 126,
   "metadata": {},
   "outputs": [
    {
     "name": "stdout",
     "output_type": "stream",
     "text": [
      "The optimization did not converge\n"
     ]
    }
   ],
   "source": [
    "summary = MLE_beta(actions,Q,4) #absolute value of beta should not be too large"
   ]
  },
  {
   "cell_type": "code",
   "execution_count": null,
   "metadata": {
    "collapsed": true
   },
   "outputs": [],
   "source": []
  },
  {
   "cell_type": "code",
   "execution_count": null,
   "metadata": {
    "collapsed": true
   },
   "outputs": [],
   "source": []
  },
  {
   "cell_type": "markdown",
   "metadata": {},
   "source": [
    "## Chisq Goodness of Fitting on Q\n",
    "\n"
   ]
  },
  {
   "cell_type": "code",
   "execution_count": null,
   "metadata": {
    "collapsed": true
   },
   "outputs": [],
   "source": []
  },
  {
   "cell_type": "code",
   "execution_count": null,
   "metadata": {
    "collapsed": true
   },
   "outputs": [],
   "source": []
  },
  {
   "cell_type": "code",
   "execution_count": null,
   "metadata": {
    "collapsed": true
   },
   "outputs": [],
   "source": []
  },
  {
   "cell_type": "code",
   "execution_count": null,
   "metadata": {
    "collapsed": true
   },
   "outputs": [],
   "source": []
  },
  {
   "cell_type": "code",
   "execution_count": null,
   "metadata": {
    "collapsed": true
   },
   "outputs": [],
   "source": []
  },
  {
   "cell_type": "code",
   "execution_count": null,
   "metadata": {
    "collapsed": true
   },
   "outputs": [],
   "source": []
  }
 ],
 "metadata": {
  "kernelspec": {
   "display_name": "Python 3",
   "language": "python",
   "name": "python3"
  },
  "language_info": {
   "codemirror_mode": {
    "name": "ipython",
    "version": 3
   },
   "file_extension": ".py",
   "mimetype": "text/x-python",
   "name": "python",
   "nbconvert_exporter": "python",
   "pygments_lexer": "ipython3",
   "version": "3.7.2"
  }
 },
 "nbformat": 4,
 "nbformat_minor": 2
}
