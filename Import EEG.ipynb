{
 "cells": [
  {
   "cell_type": "code",
   "execution_count": 5,
   "metadata": {},
   "outputs": [
    {
     "name": "stdout",
     "output_type": "stream",
     "text": [
      "hello world\n"
     ]
    }
   ],
   "source": [
    "print('hello world')"
   ]
  },
  {
   "cell_type": "markdown",
   "metadata": {},
   "source": [
    "# Importing and formating the EEG data\n",
    "## Only loading 500Fs data"
   ]
  },
  {
   "cell_type": "code",
   "execution_count": 3,
   "metadata": {},
   "outputs": [],
   "source": [
    "import os,glob\n",
    "import numpy as np\n",
    "import matplotlib.pyplot as plt\n",
    "import pandas as pd\n",
    "import scipy.io\n",
    "import sys\n",
    "import copy\n",
    "import re\n",
    "from pandas import ExcelFile\n",
    "excel_path=lib_path+'RewardReversalPorject/Data/UH2 Probabilistic Reversal Learning EEG.xlsx'\n",
    "UH2_excel=pd.read_excel(excel_path,sheetname='Rat 30')\n",
    "sys.path.append('/cndd/hop006/Github/RewardReversalPorject')\n",
    "from ToyQ2 import *\n",
    "from matplotlib.pyplot import *\n",
    "\n",
    "\n",
    "lib_path='/cndd/hop006/Github/'\n",
    "data_path='/cndd/emukamel/UH2_DerAvakian/PRL_analysis/Data'\n",
    "output_path='/cndd/hop006/Data/epoched_eeg/'\n",
    "files=glob.glob(os.path.join(data_path,'*'))\n",
    "del files[47] # one of these files is just named 1"
   ]
  },
  {
   "cell_type": "code",
   "execution_count": 4,
   "metadata": {
    "scrolled": true
   },
   "outputs": [
    {
     "name": "stdout",
     "output_type": "stream",
     "text": [
      "1,2,3,4,5,6,7,8,9,10,11,12,13,14,15,16,17,18,19,20,21,22,23,24,25,26,27,28,29,30,31,32,33,34,35,36,37,38,39,40,41,42,43,44,45,46,47,48,49,50,51,52,53,54,55,56,57,58,59,60,61,62,63,64,65,66,67,68,69,70,71,72,73,74,75,76,77,78,79,80,81,82,83,84,85,86,87,88,89,90,91,92,93,94,95,96,97,98,99,100,101,102,103,104,105,106,107,"
     ]
    }
   ],
   "source": [
    "mats={}\n",
    "i=0\n",
    "for file in files:\n",
    "    mats[file]=scipy.io.loadmat(file)\n",
    "    i+=1\n",
    "    print(i,end=',')\n",
    "mats_df=pd.DataFrame(mats)"
   ]
  },
  {
   "cell_type": "markdown",
   "metadata": {},
   "source": [
    "# Getting just one rat\n",
    "## saved rat 29, 18, 23, 30 as pickle"
   ]
  },
  {
   "cell_type": "code",
   "execution_count": 6,
   "metadata": {
    "scrolled": true
   },
   "outputs": [
    {
     "data": {
      "text/plain": [
       "__globals__                                                   []\n",
       "__header__     b'MATLAB 5.0 MAT-file, Platform: GLNXA64, Crea...\n",
       "__version__                                                  1.0\n",
       "adc                                                           []\n",
       "eeg            [[0.0, 0.0, 0.0, 0.0, 0.0, 0.0, 0.0, 0.0, 0.0,...\n",
       "lfp            [[0, 0, 0, 0, 0, 0, 0, 0, 0, 0, 0, 0, 0, 0, 0,...\n",
       "ttl            [[1.0000000000000007, 1.0000000000000007, 1.00...\n",
       "tvec           [[0.0, 0.002, 0.004, 0.006, 0.008, 0.01, 0.012...\n",
       "Name: /cndd/emukamel/UH2_DerAvakian/PRL_analysis/Data/20181002_Rat30_Fs500.mat, dtype: object"
      ]
     },
     "execution_count": 6,
     "metadata": {},
     "output_type": "execute_result"
    }
   ],
   "source": [
    "def get_ephys(date,rat_num):\n",
    "    for i in mats_df.columns:\n",
    "        fn=i.split('/')[-1].split()\n",
    "        for j in fn:\n",
    "            if j.split('_')[0]==str(date):\n",
    "                if j.split('_')[1]=='Rat'+str(rat_num):\n",
    "                    return mats_df.loc[:,i]\n",
    "    print('doesnt exist')\n",
    "    return\n",
    "rat30=get_ephys(20181002,30)\n",
    "rat30"
   ]
  },
  {
   "cell_type": "markdown",
   "metadata": {},
   "source": [
    "# Data summary\n",
    "## the ttl vector is converted to just 0 and 1"
   ]
  },
  {
   "cell_type": "code",
   "execution_count": 7,
   "metadata": {},
   "outputs": [],
   "source": [
    "class rat_summary(): # not complete\n",
    "    def __init__(rat):\n",
    "        self.tvecs,self.adcs,self.action1s,self.action2s,self.reward_gains,self.reward_loses={},{},{},{},{},{}\n",
    "        self.low_tone=rat['ttl'][0]\n",
    "        self.high_tone=rat['ttl'][1]\n",
    "        self.tar=rat['ttl'][2]\n",
    "        self.off_tar=rat['ttl'][3]\n",
    "        self.tvec=rat['tvec'][0]\n",
    "        self.adc='empty' if rat['adc'].size==0 else rat['adc'][0]\n"
   ]
  },
  {
   "cell_type": "code",
   "execution_count": 8,
   "metadata": {},
   "outputs": [],
   "source": [
    "def rat_summary(rat): # takes a single rat's data as a pd.Series object\n",
    "    tvecs,signals,low_tones,high_tones,tars,off_tars=[],[],[],[],[],[]\n",
    "    low_tone=rat['ttl'][0]\n",
    "    high_tone=rat['ttl'][1]\n",
    "    tar=rat['ttl'][2]\n",
    "    off_tar=rat['ttl'][3]\n",
    "    tvec=rat['tvec'][0]\n",
    "    adc='empty' if rat['adc'].size==0 else rat['adc'][0]\n",
    "    lfp='empty' if sum(sum(rat['lfp']))==0 else rat['lfp']\n",
    "    eeg='empty' if sum(sum(rat['eeg']))==0 else rat['eeg']\n",
    "    \n",
    "    signal=lfp if lfp!='empty' else eeg\n",
    "    signal=np.array(signal)\n",
    "    \n",
    "    duration=tvec.max()\n",
    "    zeros=np.where(tvec == tvec.min())[0]\n",
    "    n=(zeros[1]-zeros[0])\n",
    "    print('duration:',duration,'|num_recordings:',len(zeros)-1,'|n:',n)\n",
    "    for i in range(1,len(zeros)): # looping thru each reset of clock\n",
    "        tvecs.append(tvec[zeros[i-1]:zeros[i]])\n",
    "        low_tones.append(np.round(low_tone[zeros[i-1]:zeros[i]])) # rounding the decimals off\n",
    "        high_tones.append(np.round(high_tone[zeros[i-1]:zeros[i]]))\n",
    "        tars.append(np.round(tar[zeros[i-1]:zeros[i]]))\n",
    "        off_tars.append(np.round(off_tar[zeros[i-1]:zeros[i]]))\n",
    "        signals.append(signal[:,zeros[i-1]:zeros[i]])\n",
    "    return np.array(tvecs),np.array(signals),np.array(low_tones),np.array(high_tones),np.array(tars),np.array(off_tars)\n"
   ]
  },
  {
   "cell_type": "code",
   "execution_count": 9,
   "metadata": {
    "scrolled": false
   },
   "outputs": [
    {
     "name": "stdout",
     "output_type": "stream",
     "text": [
      "rat18.pkl  rat23.pkl  rat29.pkl  rat30.pkl\n",
      "duration: 59.998 |num_recordings: 44 |n: 30000\n"
     ]
    }
   ],
   "source": [
    "!ls $output_path\n",
    "tvecs,signals,low_tones,high_tones,tars,off_tars=rat_summary(rat30) # the low_tone and high_tone are still in raw vector form\n"
   ]
  },
  {
   "cell_type": "code",
   "execution_count": 83,
   "metadata": {},
   "outputs": [
    {
     "data": {
      "text/plain": [
       "(44, 32, 30000)"
      ]
     },
     "execution_count": 83,
     "metadata": {},
     "output_type": "execute_result"
    }
   ],
   "source": [
    "signals.shape"
   ]
  },
  {
   "cell_type": "code",
   "execution_count": 84,
   "metadata": {},
   "outputs": [
    {
     "data": {
      "text/plain": [
       "(44, 30000)"
      ]
     },
     "execution_count": 84,
     "metadata": {},
     "output_type": "execute_result"
    }
   ],
   "source": [
    "tvecs.shape"
   ]
  },
  {
   "cell_type": "markdown",
   "metadata": {},
   "source": [
    "# Note on the data:\n",
    "## low_tone is 3, high_tone is 4, on_target is 1, off_target is 2\n",
    "## epoched_eeg is returned as a 3d array, the first index is trial number, the second is channel number, and the third is time vector\n",
    "## some recordings are not complete, they don't have the full 60s"
   ]
  },
  {
   "cell_type": "code",
   "execution_count": 131,
   "metadata": {},
   "outputs": [],
   "source": [
    "def get_behavior(rat,eeg_length,plot=False): # each interval is around 0.002\n",
    "    out=[]\n",
    "    tvecs,signals,low_tones,high_tones,tars,off_tars=rat_summary(rat)\n",
    "    action_log=[]\n",
    "    reward_log=[]\n",
    "    epoched_eeg=[]\n",
    "    for i in range(len(tvecs)): #loop through each tvec\n",
    "        if plot:\n",
    "            plt.figure(i+1)\n",
    "            ax = subplot(1,1,1)\n",
    "            p1, = ax.plot(low_tones[i]*2, label=\"low_tone\")\n",
    "            p2, = ax.plot(high_tones[i], label=\"high_tone\")\n",
    "            p3, = ax.plot(tars[i], label=\"targets\")\n",
    "            p4, = ax.plot(off_tars[i],label='off_targets')\n",
    "            handles, labels = ax.get_legend_handles_labels()\n",
    "            ax.legend(handles[::-1], labels[::-1])\n",
    "\n",
    "        zero_low_tones=np.where(low_tones[i] == 0)[0]\n",
    "        zero_high_tones=np.where(high_tones[i] == 0)[0]\n",
    "        zero_tars=np.where(tars[i] == 0)[0]\n",
    "        zero_off_tars=np.where(off_tars[i] == 0)[0]\n",
    "        low_tone_onset=zero_low_tones[(np.roll(zero_low_tones,1)-zero_low_tones)!=-1]\n",
    "        high_tone_onset=zero_high_tones[(np.roll(zero_high_tones,1)-zero_high_tones)!=-1]\n",
    "        tar_onset=zero_tars[(np.roll(zero_tars,1)-zero_tars)!=-1]\n",
    "        off_tar_onset=zero_off_tars[(np.roll(zero_off_tars,1)-zero_off_tars)!=-1]\n",
    "        \n",
    "        zero_temp=np.zeros(tvecs[i].shape[0])\n",
    "        zero_temp[tar_onset]=1\n",
    "        zero_temp[off_tar_onset]=2\n",
    "        for j in np.nonzero(zero_temp)[0]:\n",
    "            temp=(copy.deepcopy(signals[i][:]))\n",
    "            epoched_eeg.append(copy.deepcopy(temp[:,j:j+eeg_length]))\n",
    "        zero_temp[low_tone_onset]=3\n",
    "        zero_temp[high_tone_onset]=4\n",
    "        \n",
    "        log=zero_temp[np.nonzero(zero_temp)]\n",
    "        action_log+=(log[log<3].tolist())\n",
    "        reward_log+=(log[log>2].tolist())\n",
    "\n",
    "\n",
    "#         if bool(list(reward_loss_onset)):\n",
    "#             print(log)\n",
    "    reward_log=np.array(reward_log)\n",
    "    action_log=np.array(action_log)\n",
    "    reward_log[reward_log==3]=1\n",
    "    reward_log[reward_log==4]=0\n",
    "    return action_log,reward_log,epoched_eeg"
   ]
  },
  {
   "cell_type": "code",
   "execution_count": 298,
   "metadata": {},
   "outputs": [],
   "source": [
    "def eeg_by_label(rat,label_by_action,label_by_channel,eeg_length=300): # the label_by_action is either 1 or 2\n",
    "    action_log,reward_log,epoched_eeg=get_behavior(rat30,eeg_length,plot=False)\n",
    "    idx=(action_log==label_by_action)\n",
    "#     out=np.empty(eeg_length)\n",
    "    out=[]\n",
    "    count=0\n",
    "    for i,x in enumerate(idx):\n",
    "        if x:\n",
    "            count+=1\n",
    "            temp=copy.deepcopy(epoched_eeg[i][label_by_channel])\n",
    "            if temp.size!=eeg_length:\n",
    "                print(count,'is not to length')\n",
    "                temp.resize(eeg_length)\n",
    "#             out=np.vstack((out,np.array(epoched_eeg[i][label_by_channel])))\n",
    "            out.append(np.array(temp))\n",
    "    return np.array(out)"
   ]
  },
  {
   "cell_type": "markdown",
   "metadata": {},
   "source": [
    "# Rat30 is Low_tone for reward"
   ]
  },
  {
   "cell_type": "code",
   "execution_count": 299,
   "metadata": {
    "scrolled": false
   },
   "outputs": [
    {
     "name": "stdout",
     "output_type": "stream",
     "text": [
      "duration: 59.998 |num_recordings: 44 |n: 30000\n"
     ]
    }
   ],
   "source": [
    "action_log,reward_log,epoched_eeg=get_behavior(rat30,300,plot=False)"
   ]
  },
  {
   "cell_type": "code",
   "execution_count": 466,
   "metadata": {
    "scrolled": true
   },
   "outputs": [
    {
     "name": "stdout",
     "output_type": "stream",
     "text": [
      "duration: 59.998 |num_recordings: 44 |n: 30000\n",
      "13 is not to length\n",
      "duration: 59.998 |num_recordings: 44 |n: 30000\n",
      "30 is not to length\n",
      "58 is not to length\n",
      "70 is not to length\n"
     ]
    }
   ],
   "source": [
    "tar_eeg=eeg_by_label(rat30,1,23)\n",
    "off_tar_eeg=eeg_by_label(rat30,2,23)\n",
    "tar_erp_raw=np.delete(tar_eeg,12,axis=0)\n",
    "off_tar_erp_raw=np.delete(off_tar_eeg,(30,58,70),axis=0)"
   ]
  },
  {
   "cell_type": "markdown",
   "metadata": {},
   "source": [
    "# EEG processing"
   ]
  },
  {
   "cell_type": "code",
   "execution_count": 420,
   "metadata": {},
   "outputs": [],
   "source": [
    "from scipy.signal import butter, sosfiltfilt, sosfreqz\n",
    "from scipy.fftpack import fft, fftfreq, fftshift\n",
    "# Credit for these functions goes to 'WarrenWeckesser'\n",
    "# https://scipy-cookbook.readthedocs.io/items/ButterworthBandpass.html\n",
    "\n",
    "def butter_bandpass(lowcut, highcut, fs, order = 2):\n",
    "        nyq = 0.5 * fs\n",
    "        low = lowcut / nyq\n",
    "        high = highcut / nyq\n",
    "        sos = butter(order, [low, high], analog = False, btype = 'band', output = 'sos')\n",
    "        return sos\n",
    "\n",
    "def butter_bandpass_filter(data, lowcut, highcut, fs, order = 2):\n",
    "        sos = butter_bandpass(lowcut, highcut, fs, order = order)\n",
    "        y = sosfiltfilt(sos, data)\n",
    "        return y\n",
    "    \n",
    "fs = 500.0     # 200 Hz sampling rate\n",
    "low_cut  = 0.1; # EDIT THIS VARIABLE\n",
    "high_cut = 30.0; # EDIT THIS VARIABLE\n",
    "lowcut = 0.1   # 0.1 Hz is the lowest frequency we will pass\n",
    "highcut = 30.0 # 30  Hz is the highest frequency we will pass.\n",
    "order = 2;"
   ]
  },
  {
   "cell_type": "code",
   "execution_count": 467,
   "metadata": {},
   "outputs": [],
   "source": [
    "def plot_average(eeg,fil=False,lowcut=None,highcut=None):\n",
    "    fs=500.0\n",
    "    order=2\n",
    "    temp=eeg\n",
    "    if fil:\n",
    "        if lowcut==None or highcut==None:\n",
    "            lowcut=0.1\n",
    "            highcut=30.0\n",
    "        temp=copy.deepcopy(eeg)\n",
    "        for i in range(temp[0]):\n",
    "            temp[i]=butter_bandpass_filter(temp[i], lowcut, highcut, fs, order)\n",
    "    erp=np.mean(temp,axis=0)\n",
    "    plt.plot(erp)\n",
    "    return erp"
   ]
  },
  {
   "cell_type": "markdown",
   "metadata": {},
   "source": [
    "# Difference between Tar_get and off_target"
   ]
  },
  {
   "cell_type": "code",
   "execution_count": 468,
   "metadata": {},
   "outputs": [
    {
     "data": {
      "image/png": "[encoded data removed]",
      "text/plain": [
       "<Figure size 432x288 with 1 Axes>"
      ]
     },
     "metadata": {
      "needs_background": "light"
     },
     "output_type": "display_data"
    }
   ],
   "source": [
    "erp1=plot_average(off_tar_erp_raw,fil=False)\n",
    "erp2=plot_average(tar_erp_raw,fil=False)"
   ]
  },
  {
   "cell_type": "code",
   "execution_count": 469,
   "metadata": {},
   "outputs": [],
   "source": [
    "def spec_plot(eeg):\n",
    "    FFTY=np.fft.fft(eeg)\n",
    "    plt.figure(1)\n",
    "    plt.plot(np.abs(FFTY))\n",
    "    plt.figure(2)\n",
    "    plt.plot(eeg)"
   ]
  },
  {
   "cell_type": "code",
   "execution_count": 470,
   "metadata": {},
   "outputs": [
    {
     "data": {
      "image/png": "[encoded data removed]",
      "text/plain": [
       "<Figure size 432x288 with 1 Axes>"
      ]
     },
     "metadata": {
      "needs_background": "light"
     },
     "output_type": "display_data"
    },
    {
     "data": {
      "image/png": "[encoded data removed]",
      "text/plain": [
       "<Figure size 432x288 with 1 Axes>"
      ]
     },
     "metadata": {
      "needs_background": "light"
     },
     "output_type": "display_data"
    }
   ],
   "source": [
    "spec_plot(erp1)"
   ]
  },
  {
   "cell_type": "markdown",
   "metadata": {},
   "source": [
    "# Final Pipeline"
   ]
  },
  {
   "cell_type": "code",
   "execution_count": 471,
   "metadata": {},
   "outputs": [],
   "source": [
    "def get_excel_info(rat_num):\n",
    "    excel_path=lib_path+'RewardReversalPorject/Data/UH2 Probabilistic Reversal Learning EEG.xlsx'\n",
    "    UH2_excel=pd.read_excel(excel_path,sheetname='Rat '+str(rat_num))\n",
    "    chan_info=UH2_excel.iloc[5:21,:3]\n",
    "    trial_info=UH2_excel.iloc[22:,:]\n",
    "    val_chan=[chan_info.iloc[i,0] for i in range(chan_info.shape[0]) if chan_info.iloc[i,1]!='blank']\n",
    "    chan_name=[chan_info.iloc[i,1] for i in range(chan_info.shape[0]) if chan_info.iloc[i,1]!='blank']\n",
    "    dates=[]\n",
    "    rat_nums=[]\n",
    "    for i in (trial_info.iloc[1:,1]):\n",
    "        temp=i.split('_')\n",
    "        date=temp[0]\n",
    "        string1=temp[1]\n",
    "        rat_num=int(re.search(r'\\d+', string1).group())\n",
    "        dates.append(date)\n",
    "        rat_nums.append(rat_num)\n",
    "    return val_chan,chan_name,dates,rat_nums"
   ]
  },
  {
   "cell_type": "markdown",
   "metadata": {},
   "source": [
    "# Get Action_log:"
   ]
  },
  {
   "cell_type": "code",
   "execution_count": 472,
   "metadata": {
    "scrolled": true
   },
   "outputs": [
    {
     "name": "stdout",
     "output_type": "stream",
     "text": [
      "duration: 59.998 |num_recordings: 44 |n: 30000\n"
     ]
    }
   ],
   "source": [
    "val_chan,chan_name,dates,rat_nums=get_excel_info(30)\n",
    "rat_df=get_ephys(dates[0],rat_nums[0])\n",
    "action_log,reward_log,epoched_eeg=get_behavior(rat_df,eeg_length=300,plot=False)"
   ]
  },
  {
   "cell_type": "code",
   "execution_count": 473,
   "metadata": {},
   "outputs": [
    {
     "name": "stdout",
     "output_type": "stream",
     "text": [
      "duration: 59.998 |num_recordings: 44 |n: 30000\n",
      "13 is not to length\n",
      "duration: 59.998 |num_recordings: 44 |n: 30000\n",
      "30 is not to length\n",
      "58 is not to length\n",
      "70 is not to length\n"
     ]
    }
   ],
   "source": [
    "tar_eeg=eeg_by_label(rat_df,1,23)\n",
    "off_tar_eeg=eeg_by_label(rat_df,2,23)"
   ]
  },
  {
   "cell_type": "code",
   "execution_count": 474,
   "metadata": {},
   "outputs": [
    {
     "data": {
      "text/plain": [
       "array([ 7.82830097e+01,  9.29548998e+01,  9.11537884e+01,  9.46307924e+01,\n",
       "        9.29834208e+01,  1.01821426e+02,  9.97613019e+01,  1.19890460e+02,\n",
       "        1.23212703e+02,  1.10699147e+02,  1.17156423e+02,  1.40995631e+02,\n",
       "        1.34204794e+02,  1.23444784e+02,  1.14334840e+02,  1.17775370e+02,\n",
       "        1.30791117e+02,  1.20167728e+02,  1.18597604e+02,  1.03174166e+02,\n",
       "        9.85808795e+01,  1.00320170e+02,  9.28035808e+01,  9.00015515e+01,\n",
       "        8.08638452e+01,  7.29267701e+01,  8.00046184e+01,  7.39826890e+01,\n",
       "        7.39546075e+01,  5.69028193e+01,  5.46762067e+01,  5.80003352e+01,\n",
       "        4.23030325e+01,  3.54806587e+01,  1.96017749e+01,  1.16561717e+01,\n",
       "        1.11597387e+01, -2.01272878e-01, -2.16195886e-01, -1.67592499e+01,\n",
       "       -2.56095806e+01, -2.68652015e+01, -3.76176271e+01, -4.18714625e+01,\n",
       "       -5.49670034e+01, -6.00706428e+01, -5.45973140e+01, -6.53363092e+01,\n",
       "       -6.17782972e+01, -7.13375547e+01, -6.44803625e+01, -5.04992577e+01,\n",
       "       -5.13506306e+01, -5.12934479e+01, -6.49584874e+01, -6.67028778e+01,\n",
       "       -6.46502914e+01, -7.21272267e+01, -7.30224266e+01, -8.26286061e+01,\n",
       "       -8.06562959e+01, -7.39848376e+01, -7.66686205e+01, -7.42854641e+01,\n",
       "       -8.38534163e+01, -8.43888588e+01, -7.80798640e+01, -8.15076067e+01,\n",
       "       -8.01432984e+01, -8.87291141e+01, -9.24409273e+01, -8.56291489e+01,\n",
       "       -8.27070651e+01, -7.84665222e+01, -8.99529456e+01, -9.27342978e+01,\n",
       "       -8.10603641e+01, -7.86707873e+01, -7.56113502e+01, -8.37344438e+01,\n",
       "       -8.80862916e+01, -8.28357264e+01, -8.72248247e+01, -8.53925034e+01,\n",
       "       -9.49604020e+01, -9.02158976e+01, -8.14595658e+01, -8.55362502e+01,\n",
       "       -8.45379643e+01, -9.53741981e+01, -9.47520245e+01, -8.28427877e+01,\n",
       "       -9.05325278e+01, -8.59100902e+01, -9.23851843e+01, -8.78002856e+01,\n",
       "       -8.23440918e+01, -8.54285810e+01, -8.28611101e+01, -8.71907123e+01,\n",
       "       -8.73773453e+01, -8.13975399e+01, -8.21978733e+01, -8.31948648e+01,\n",
       "       -8.96357230e+01, -8.99062890e+01, -7.65237005e+01, -8.06430133e+01,\n",
       "       -7.87625043e+01, -8.76853075e+01, -7.85743259e+01, -7.19103351e+01,\n",
       "       -7.62918015e+01, -7.24144508e+01, -7.56194920e+01, -6.60130552e+01,\n",
       "       -6.34508609e+01, -5.93509666e+01, -6.02179124e+01, -6.52624038e+01,\n",
       "       -6.49669047e+01, -6.03146414e+01, -6.00526489e+01, -5.74429798e+01,\n",
       "       -6.38751522e+01, -6.06347898e+01, -4.95601243e+01, -5.02237079e+01,\n",
       "       -4.73235159e+01, -5.70967510e+01, -4.87364768e+01, -3.92162947e+01,\n",
       "       -4.31595932e+01, -4.14077673e+01, -4.78038558e+01, -4.35186162e+01,\n",
       "       -3.47053279e+01, -3.62170374e+01, -3.48302955e+01, -4.17792723e+01,\n",
       "       -4.21116357e+01, -3.47043123e+01, -3.01420848e+01, -2.73587877e+01,\n",
       "       -3.54714920e+01, -3.36562468e+01, -2.96293923e+01, -2.90527924e+01,\n",
       "       -2.48519924e+01, -3.61199462e+01, -3.39042413e+01, -2.30229005e+01,\n",
       "       -2.46507404e+01, -1.96195562e+01, -2.87826257e+01, -2.62883625e+01,\n",
       "       -1.73957337e+01, -1.77523339e+01, -1.54948548e+01, -2.51576926e+01,\n",
       "       -2.45282850e+01, -1.53833083e+01, -1.62897477e+01, -1.47770293e+01,\n",
       "       -2.00426746e+01, -1.70563613e+01, -9.87346220e+00, -1.48853953e+01,\n",
       "       -8.03303467e+00, -1.64672395e+01, -1.43113355e+01, -4.93189736e+00,\n",
       "       -5.87235640e+00,  3.26333755e-01, -9.20265846e+00, -9.21996123e+00,\n",
       "       -1.13918711e+00, -5.23873033e-01,  4.18459739e+00, -6.44438529e+00,\n",
       "       -4.82625226e+00, -5.07344416e-01,  6.50678026e-03,  6.02812001e+00,\n",
       "       -1.80960482e+00, -8.25236995e-01,  6.44190874e+00, -4.87514901e+00,\n",
       "       -1.77004368e+00, -4.41552615e+00, -3.02955838e+00,  5.44923134e+00,\n",
       "        7.88924987e+00,  9.64997858e+00, -1.99532411e+00, -1.51059773e+00,\n",
       "        1.15543315e+01,  6.68600474e+00,  1.02530960e+01, -3.80011994e+00,\n",
       "       -1.39644343e+00,  3.00760213e+00,  1.60238119e+00,  3.41042481e+00,\n",
       "       -6.91931987e+00, -3.08507742e+00,  5.62406291e-01, -6.63955766e+00,\n",
       "       -1.66991199e+00, -1.43882316e+01, -1.36983904e+01, -5.06250404e+00,\n",
       "       -7.83001484e+00, -1.09255907e+01, -2.15680965e+01, -2.57064759e+01,\n",
       "       -2.43279546e+01, -3.22075073e+01, -2.70730544e+01, -4.09519144e+01,\n",
       "       -4.26859904e+01, -4.10777766e+01, -5.04516678e+01, -3.96263736e+01,\n",
       "       -4.49625702e+01, -4.50201434e+01, -4.03335399e+01, -3.86677794e+01,\n",
       "       -4.49755725e+01, -5.32739376e+01, -5.84787295e+01, -4.94575716e+01,\n",
       "       -6.23040408e+01, -7.01971886e+01, -9.07499535e+01, -9.71334746e+01,\n",
       "       -9.65074806e+01, -1.12949191e+02, -1.10674016e+02, -1.21097928e+02,\n",
       "       -1.23618125e+02, -1.17756975e+02, -1.19831793e+02, -1.16707344e+02,\n",
       "       -1.28323760e+02, -1.28133023e+02, -1.17475656e+02, -1.22819691e+02,\n",
       "       -1.22412395e+02, -1.29186641e+02, -1.32859909e+02, -1.31089693e+02,\n",
       "       -1.36915021e+02, -1.34692054e+02, -1.44306182e+02, -1.40309008e+02,\n",
       "       -1.30825552e+02, -1.40833484e+02, -1.40657011e+02, -1.47249375e+02,\n",
       "       -1.50163061e+02, -1.47060114e+02, -1.52051772e+02, -1.53751885e+02,\n",
       "       -1.65679924e+02, -1.67111175e+02, -1.60494713e+02, -1.62816594e+02,\n",
       "       -1.60886958e+02, -1.68581696e+02, -1.77648932e+02, -1.69269191e+02,\n",
       "       -1.80044574e+02, -1.88881933e+02, -2.00125317e+02, -2.02078824e+02,\n",
       "       -1.90777466e+02, -1.97732275e+02, -1.96681182e+02, -2.08952338e+02,\n",
       "       -2.07753272e+02, -1.98946991e+02, -2.05234683e+02, -2.05979214e+02,\n",
       "       -2.09021512e+02, -2.06573601e+02, -1.99476103e+02, -2.03379486e+02,\n",
       "       -2.06871781e+02, -2.15982195e+02, -2.20459358e+02, -2.16348048e+02,\n",
       "       -2.23631887e+02, -2.22429730e+02, -2.37219979e+02, -2.39554773e+02,\n",
       "       -2.34680327e+02, -2.35332535e+02, -2.29594747e+02, -2.32402522e+02])"
      ]
     },
     "execution_count": 474,
     "metadata": {},
     "output_type": "execute_result"
    },
    {
     "data": {
      "image/png": "[encoded data removed]",
      "text/plain": [
       "<Figure size 432x288 with 1 Axes>"
      ]
     },
     "metadata": {
      "needs_background": "light"
     },
     "output_type": "display_data"
    }
   ],
   "source": [
    "plot_average(off_tar_eeg)"
   ]
  },
  {
   "cell_type": "code",
   "execution_count": null,
   "metadata": {},
   "outputs": [],
   "source": []
  }
 ],
 "metadata": {
  "kernelspec": {
   "display_name": "Python 3",
   "language": "python",
   "name": "python3"
  },
  "language_info": {
   "codemirror_mode": {
    "name": "ipython",
    "version": 3
   },
   "file_extension": ".py",
   "mimetype": "text/x-python",
   "name": "python",
   "nbconvert_exporter": "python",
   "pygments_lexer": "ipython3",
   "version": "3.7.3"
  }
 },
 "nbformat": 4,
 "nbformat_minor": 2
}
