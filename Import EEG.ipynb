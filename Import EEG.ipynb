{
 "cells": [
  {
   "cell_type": "code",
   "execution_count": 476,
   "metadata": {
    "scrolled": true
   },
   "outputs": [
    {
     "data": {
      "text/plain": [
       "0.6"
      ]
     },
     "execution_count": 476,
     "metadata": {},
     "output_type": "execute_result"
    }
   ],
   "source": [
    "300*0.002"
   ]
  },
  {
   "cell_type": "markdown",
   "metadata": {},
   "source": [
    "# Importing and formating the EEG data\n",
    "## Only loading 500Fs data"
   ]
  },
  {
   "cell_type": "code",
   "execution_count": 3,
   "metadata": {},
   "outputs": [],
   "source": [
    "import os,glob\n",
    "import numpy as np\n",
    "import matplotlib.pyplot as plt\n",
    "import pandas as pd\n",
    "import scipy.io\n",
    "import sys\n",
    "import copy\n",
    "import re\n",
    "from pandas import ExcelFile\n",
    "excel_path=lib_path+'RewardReversalPorject/Data/UH2 Probabilistic Reversal Learning EEG.xlsx'\n",
    "UH2_excel=pd.read_excel(excel_path,sheetname='Rat 30')\n",
    "sys.path.append('/cndd/hop006/Github/RewardReversalPorject')\n",
    "from ToyQ2 import *\n",
    "from matplotlib.pyplot import *\n",
    "\n",
    "\n",
    "lib_path='/cndd/hop006/Github/'\n",
    "data_path='/cndd/emukamel/UH2_DerAvakian/PRL_analysis/Data'\n",
    "output_path='/cndd/hop006/Data/epoched_eeg/'\n",
    "files=glob.glob(os.path.join(data_path,'*'))\n",
    "del files[47] # one of these files is just named 1"
   ]
  },
  {
   "cell_type": "code",
   "execution_count": 4,
   "metadata": {
    "scrolled": true
   },
   "outputs": [
    {
     "name": "stdout",
     "output_type": "stream",
     "text": [
      "1,2,3,4,5,6,7,8,9,10,11,12,13,14,15,16,17,18,19,20,21,22,23,24,25,26,27,28,29,30,31,32,33,34,35,36,37,38,39,40,41,42,43,44,45,46,47,48,49,50,51,52,53,54,55,56,57,58,59,60,61,62,63,64,65,66,67,68,69,70,71,72,73,74,75,76,77,78,79,80,81,82,83,84,85,86,87,88,89,90,91,92,93,94,95,96,97,98,99,100,101,102,103,104,105,106,107,"
     ]
    }
   ],
   "source": [
    "mats={}\n",
    "i=0\n",
    "for file in files:\n",
    "    mats[file]=scipy.io.loadmat(file)\n",
    "    i+=1\n",
    "    print(i,end=',')\n",
    "mats_df=pd.DataFrame(mats)"
   ]
  },
  {
   "cell_type": "markdown",
   "metadata": {},
   "source": [
    "# Getting just one rat\n",
    "## saved rat 29, 18, 23, 30 as pickle"
   ]
  },
  {
   "cell_type": "code",
   "execution_count": 6,
   "metadata": {
    "scrolled": true
   },
   "outputs": [
    {
     "data": {
      "text/plain": [
       "__globals__                                                   []\n",
       "__header__     b'MATLAB 5.0 MAT-file, Platform: GLNXA64, Crea...\n",
       "__version__                                                  1.0\n",
       "adc                                                           []\n",
       "eeg            [[0.0, 0.0, 0.0, 0.0, 0.0, 0.0, 0.0, 0.0, 0.0,...\n",
       "lfp            [[0, 0, 0, 0, 0, 0, 0, 0, 0, 0, 0, 0, 0, 0, 0,...\n",
       "ttl            [[1.0000000000000007, 1.0000000000000007, 1.00...\n",
       "tvec           [[0.0, 0.002, 0.004, 0.006, 0.008, 0.01, 0.012...\n",
       "Name: /cndd/emukamel/UH2_DerAvakian/PRL_analysis/Data/20181002_Rat30_Fs500.mat, dtype: object"
      ]
     },
     "execution_count": 6,
     "metadata": {},
     "output_type": "execute_result"
    }
   ],
   "source": [
    "def get_ephys(date,rat_num):\n",
    "    for i in mats_df.columns:\n",
    "        fn=i.split('/')[-1].split()\n",
    "        for j in fn:\n",
    "            if j.split('_')[0]==str(date):\n",
    "                if j.split('_')[1]=='Rat'+str(rat_num):\n",
    "                    return mats_df.loc[:,i]\n",
    "    print('doesnt exist')\n",
    "    return\n",
    "rat30=get_ephys(20181002,30)\n",
    "rat30"
   ]
  },
  {
   "cell_type": "markdown",
   "metadata": {},
   "source": [
    "# Data summary\n",
    "## the ttl vector is converted to just 0 and 1"
   ]
  },
  {
   "cell_type": "code",
   "execution_count": 7,
   "metadata": {},
   "outputs": [],
   "source": [
    "class rat_summary(): # not complete\n",
    "    def __init__(rat):\n",
    "        self.tvecs,self.adcs,self.action1s,self.action2s,self.reward_gains,self.reward_loses={},{},{},{},{},{}\n",
    "        self.low_tone=rat['ttl'][0]\n",
    "        self.high_tone=rat['ttl'][1]\n",
    "        self.tar=rat['ttl'][2]\n",
    "        self.off_tar=rat['ttl'][3]\n",
    "        self.tvec=rat['tvec'][0]\n",
    "        self.adc='empty' if rat['adc'].size==0 else rat['adc'][0]\n"
   ]
  },
  {
   "cell_type": "code",
   "execution_count": 8,
   "metadata": {},
   "outputs": [],
   "source": [
    "def rat_summary(rat): # takes a single rat's data as a pd.Series object\n",
    "    tvecs,signals,low_tones,high_tones,tars,off_tars=[],[],[],[],[],[]\n",
    "    low_tone=rat['ttl'][0]\n",
    "    high_tone=rat['ttl'][1]\n",
    "    tar=rat['ttl'][2]\n",
    "    off_tar=rat['ttl'][3]\n",
    "    tvec=rat['tvec'][0]\n",
    "    adc='empty' if rat['adc'].size==0 else rat['adc'][0]\n",
    "    lfp='empty' if sum(sum(rat['lfp']))==0 else rat['lfp']\n",
    "    eeg='empty' if sum(sum(rat['eeg']))==0 else rat['eeg']\n",
    "    \n",
    "    signal=lfp if lfp!='empty' else eeg\n",
    "    signal=np.array(signal)\n",
    "    \n",
    "    duration=tvec.max()\n",
    "    zeros=np.where(tvec == tvec.min())[0]\n",
    "    n=(zeros[1]-zeros[0])\n",
    "    print('duration:',duration,'|num_recordings:',len(zeros)-1,'|n:',n)\n",
    "    for i in range(1,len(zeros)): # looping thru each reset of clock\n",
    "        tvecs.append(tvec[zeros[i-1]:zeros[i]])\n",
    "        low_tones.append(np.round(low_tone[zeros[i-1]:zeros[i]])) # rounding the decimals off\n",
    "        high_tones.append(np.round(high_tone[zeros[i-1]:zeros[i]]))\n",
    "        tars.append(np.round(tar[zeros[i-1]:zeros[i]]))\n",
    "        off_tars.append(np.round(off_tar[zeros[i-1]:zeros[i]]))\n",
    "        signals.append(signal[:,zeros[i-1]:zeros[i]])\n",
    "    return np.array(tvecs),np.array(signals),np.array(low_tones),np.array(high_tones),np.array(tars),np.array(off_tars)\n"
   ]
  },
  {
   "cell_type": "code",
   "execution_count": 9,
   "metadata": {
    "scrolled": false
   },
   "outputs": [
    {
     "name": "stdout",
     "output_type": "stream",
     "text": [
      "rat18.pkl  rat23.pkl  rat29.pkl  rat30.pkl\n",
      "duration: 59.998 |num_recordings: 44 |n: 30000\n"
     ]
    }
   ],
   "source": [
    "!ls $output_path\n",
    "tvecs,signals,low_tones,high_tones,tars,off_tars=rat_summary(rat30) # the low_tone and high_tone are still in raw vector form\n"
   ]
  },
  {
   "cell_type": "code",
   "execution_count": 83,
   "metadata": {},
   "outputs": [
    {
     "data": {
      "text/plain": [
       "(44, 32, 30000)"
      ]
     },
     "execution_count": 83,
     "metadata": {},
     "output_type": "execute_result"
    }
   ],
   "source": [
    "signals.shape"
   ]
  },
  {
   "cell_type": "code",
   "execution_count": 84,
   "metadata": {},
   "outputs": [
    {
     "data": {
      "text/plain": [
       "(44, 30000)"
      ]
     },
     "execution_count": 84,
     "metadata": {},
     "output_type": "execute_result"
    }
   ],
   "source": [
    "tvecs.shape"
   ]
  },
  {
   "cell_type": "markdown",
   "metadata": {},
   "source": [
    "# Note on the data:\n",
    "## low_tone is 3, high_tone is 4, on_target is 1, off_target is 2\n",
    "## epoched_eeg is returned as a 3d array, the first index is trial number, the second is channel number, and the third is time vector\n",
    "## some recordings are not complete, they don't have the full 60s"
   ]
  },
  {
   "cell_type": "code",
   "execution_count": 477,
   "metadata": {},
   "outputs": [],
   "source": [
    "def get_behavior(rat,eeg_length,plot=False): # each interval is around 0.002\n",
    "    out=[]\n",
    "    tvecs,signals,low_tones,high_tones,tars,off_tars=rat_summary(rat)\n",
    "    action_log=[]\n",
    "    reward_log=[]\n",
    "    epoched_eeg=[]\n",
    "    for i in range(len(tvecs)): #loop through each tvec\n",
    "        if plot:\n",
    "            plt.figure(i+1)\n",
    "            ax = subplot(1,1,1)\n",
    "            p1, = ax.plot(low_tones[i]*2, label=\"low_tone\")\n",
    "            p2, = ax.plot(high_tones[i], label=\"high_tone\")\n",
    "            p3, = ax.plot(tars[i], label=\"targets\")\n",
    "            p4, = ax.plot(off_tars[i],label='off_targets')\n",
    "            handles, labels = ax.get_legend_handles_labels()\n",
    "            ax.legend(handles[::-1], labels[::-1])\n",
    "\n",
    "        zero_low_tones=np.where(low_tones[i] == 0)[0]\n",
    "        zero_high_tones=np.where(high_tones[i] == 0)[0]\n",
    "        zero_tars=np.where(tars[i] == 0)[0]\n",
    "        zero_off_tars=np.where(off_tars[i] == 0)[0]\n",
    "        low_tone_onset=zero_low_tones[(np.roll(zero_low_tones,1)-zero_low_tones)!=-1]\n",
    "        high_tone_onset=zero_high_tones[(np.roll(zero_high_tones,1)-zero_high_tones)!=-1]\n",
    "        tar_onset=zero_tars[(np.roll(zero_tars,1)-zero_tars)!=-1]\n",
    "        off_tar_onset=zero_off_tars[(np.roll(zero_off_tars,1)-zero_off_tars)!=-1]\n",
    "        \n",
    "        zero_temp=np.zeros(tvecs[i].shape[0])\n",
    "        zero_temp[tar_onset]=1\n",
    "        zero_temp[off_tar_onset]=2\n",
    "        for j in np.nonzero(zero_temp)[0]:\n",
    "            temp=(copy.deepcopy(signals[i][:]))\n",
    "            epoched_eeg.append(copy.deepcopy(temp[:,j-100:j+eeg_length]))\n",
    "        zero_temp[low_tone_onset]=3\n",
    "        zero_temp[high_tone_onset]=4\n",
    "        \n",
    "        log=zero_temp[np.nonzero(zero_temp)]\n",
    "        action_log+=(log[log<3].tolist())\n",
    "        reward_log+=(log[log>2].tolist())\n",
    "\n",
    "\n",
    "#         if bool(list(reward_loss_onset)):\n",
    "#             print(log)\n",
    "    reward_log=np.array(reward_log)\n",
    "    action_log=np.array(action_log)\n",
    "    reward_log[reward_log==3]=1\n",
    "    reward_log[reward_log==4]=0\n",
    "    return action_log,reward_log,epoched_eeg"
   ]
  },
  {
   "cell_type": "code",
   "execution_count": 494,
   "metadata": {},
   "outputs": [],
   "source": [
    "def eeg_by_label(rat,label_by_action,label_by_channel,eeg_length=300): # the label_by_action is either 1 or 2\n",
    "    action_log,reward_log,epoched_eeg=get_behavior(rat30,eeg_length,plot=False)\n",
    "    idx=(action_log==label_by_action)\n",
    "#     out=np.empty(eeg_length)\n",
    "    out=[]\n",
    "    count=0\n",
    "    for i,x in enumerate(idx):\n",
    "        if x:\n",
    "            count+=1\n",
    "            temp=copy.deepcopy(epoched_eeg[i][label_by_channel])\n",
    "            if temp.size!=eeg_length+100:\n",
    "                print(count,'is not to length')\n",
    "                temp.resize(eeg_length+100)\n",
    "#             out=np.vstack((out,np.array(epoched_eeg[i][label_by_channel])))\n",
    "            out.append(np.array(temp))\n",
    "    return np.array(out)"
   ]
  },
  {
   "cell_type": "markdown",
   "metadata": {},
   "source": [
    "# Rat30 is Low_tone for reward"
   ]
  },
  {
   "cell_type": "code",
   "execution_count": 495,
   "metadata": {
    "scrolled": false
   },
   "outputs": [
    {
     "name": "stdout",
     "output_type": "stream",
     "text": [
      "duration: 59.998 |num_recordings: 44 |n: 30000\n"
     ]
    }
   ],
   "source": [
    "action_log,reward_log,epoched_eeg=get_behavior(rat30,300,plot=False)"
   ]
  },
  {
   "cell_type": "code",
   "execution_count": 496,
   "metadata": {
    "scrolled": true
   },
   "outputs": [
    {
     "name": "stdout",
     "output_type": "stream",
     "text": [
      "duration: 59.998 |num_recordings: 44 |n: 30000\n",
      "13 is not to length\n",
      "117 is not to length\n",
      "duration: 59.998 |num_recordings: 44 |n: 30000\n",
      "30 is not to length\n",
      "52 is not to length\n",
      "58 is not to length\n",
      "70 is not to length\n"
     ]
    }
   ],
   "source": [
    "tar_eeg=eeg_by_label(rat30,1,23)\n",
    "off_tar_eeg=eeg_by_label(rat30,2,23)\n",
    "tar_erp_raw=np.delete(tar_eeg,12,axis=0)\n",
    "off_tar_erp_raw=np.delete(off_tar_eeg,(30,58,70),axis=0)"
   ]
  },
  {
   "cell_type": "markdown",
   "metadata": {},
   "source": [
    "# EEG processing"
   ]
  },
  {
   "cell_type": "code",
   "execution_count": 497,
   "metadata": {},
   "outputs": [],
   "source": [
    "from scipy.signal import butter, sosfiltfilt, sosfreqz\n",
    "from scipy.fftpack import fft, fftfreq, fftshift\n",
    "# Credit for these functions goes to 'WarrenWeckesser'\n",
    "# https://scipy-cookbook.readthedocs.io/items/ButterworthBandpass.html\n",
    "\n",
    "def butter_bandpass(lowcut, highcut, fs, order = 2):\n",
    "        nyq = 0.5 * fs\n",
    "        low = lowcut / nyq\n",
    "        high = highcut / nyq\n",
    "        sos = butter(order, [low, high], analog = False, btype = 'band', output = 'sos')\n",
    "        return sos\n",
    "\n",
    "def butter_bandpass_filter(data, lowcut, highcut, fs, order = 2):\n",
    "        sos = butter_bandpass(lowcut, highcut, fs, order = order)\n",
    "        y = sosfiltfilt(sos, data)\n",
    "        return y\n",
    "    \n",
    "fs = 500.0     # 200 Hz sampling rate\n",
    "low_cut  = 0.1; # EDIT THIS VARIABLE\n",
    "high_cut = 30.0; # EDIT THIS VARIABLE\n",
    "lowcut = 0.1   # 0.1 Hz is the lowest frequency we will pass\n",
    "highcut = 30.0 # 30  Hz is the highest frequency we will pass.\n",
    "order = 2;"
   ]
  },
  {
   "cell_type": "code",
   "execution_count": 498,
   "metadata": {},
   "outputs": [],
   "source": [
    "def plot_average(eeg,fil=False,lowcut=None,highcut=None):\n",
    "    fs=500.0\n",
    "    order=2\n",
    "    temp=eeg\n",
    "    if fil:\n",
    "        if lowcut==None or highcut==None:\n",
    "            lowcut=0.1\n",
    "            highcut=30.0\n",
    "        temp=copy.deepcopy(eeg)\n",
    "        for i in range(temp[0]):\n",
    "            temp[i]=butter_bandpass_filter(temp[i], lowcut, highcut, fs, order)\n",
    "    erp=np.mean(temp,axis=0)\n",
    "    plt.plot(erp)\n",
    "    return erp\n",
    "\n",
    "def spec_plot(eeg):\n",
    "    FFTY=np.fft.fft(eeg)\n",
    "    plt.figure(1)\n",
    "    plt.plot(np.abs(FFTY))\n",
    "    plt.figure(2)\n",
    "    plt.plot(eeg)"
   ]
  },
  {
   "cell_type": "markdown",
   "metadata": {},
   "source": [
    "# Final Pipeline"
   ]
  },
  {
   "cell_type": "code",
   "execution_count": 486,
   "metadata": {},
   "outputs": [],
   "source": [
    "def get_excel_info(rat_num):\n",
    "    excel_path=lib_path+'RewardReversalPorject/Data/UH2 Probabilistic Reversal Learning EEG.xlsx'\n",
    "    UH2_excel=pd.read_excel(excel_path,sheetname='Rat '+str(rat_num))\n",
    "    chan_info=UH2_excel.iloc[5:21,:3]\n",
    "    trial_info=UH2_excel.iloc[22:,:]\n",
    "    val_chan=[chan_info.iloc[i,0] for i in range(chan_info.shape[0]) if chan_info.iloc[i,1]!='blank']\n",
    "    chan_name=[chan_info.iloc[i,1] for i in range(chan_info.shape[0]) if chan_info.iloc[i,1]!='blank']\n",
    "    dates=[]\n",
    "    rat_nums=[]\n",
    "    for i in (trial_info.iloc[1:,1]):\n",
    "        temp=i.split('_')\n",
    "        date=temp[0]\n",
    "        string1=temp[1]\n",
    "        rat_num=int(re.search(r'\\d+', string1).group())\n",
    "        dates.append(date)\n",
    "        rat_nums.append(rat_num)\n",
    "    return val_chan,chan_name,dates,rat_nums"
   ]
  },
  {
   "cell_type": "markdown",
   "metadata": {},
   "source": [
    "# Get Action_log:"
   ]
  },
  {
   "cell_type": "code",
   "execution_count": 487,
   "metadata": {
    "scrolled": true
   },
   "outputs": [
    {
     "name": "stdout",
     "output_type": "stream",
     "text": [
      "duration: 59.998 |num_recordings: 44 |n: 30000\n"
     ]
    }
   ],
   "source": [
    "val_chan,chan_name,dates,rat_nums=get_excel_info(30)\n",
    "rat_df=get_ephys(dates[0],rat_nums[0])\n",
    "action_log,reward_log,epoched_eeg=get_behavior(rat_df,eeg_length=300,plot=False)"
   ]
  },
  {
   "cell_type": "code",
   "execution_count": 473,
   "metadata": {},
   "outputs": [
    {
     "name": "stdout",
     "output_type": "stream",
     "text": [
      "duration: 59.998 |num_recordings: 44 |n: 30000\n",
      "13 is not to length\n",
      "duration: 59.998 |num_recordings: 44 |n: 30000\n",
      "30 is not to length\n",
      "58 is not to length\n",
      "70 is not to length\n"
     ]
    }
   ],
   "source": [
    "tar_eeg=eeg_by_label(rat_df,1,23)\n",
    "off_tar_eeg=eeg_by_label(rat_df,2,23)"
   ]
  },
  {
   "cell_type": "code",
   "execution_count": 504,
   "metadata": {},
   "outputs": [
    {
     "data": {
      "image/png": "[encoded data removed]",
      "text/plain": [
       "<Figure size 432x288 with 1 Axes>"
      ]
     },
     "metadata": {
      "needs_background": "light"
     },
     "output_type": "display_data"
    }
   ],
   "source": [
    "erp1=plot_average(off_tar_erp_raw,fil=False)\n",
    "erp2=plot_average(tar_erp_raw,fil=False)"
   ]
  },
  {
   "cell_type": "code",
   "execution_count": 505,
   "metadata": {},
   "outputs": [
    {
     "data": {
      "image/png": "[encoded data removed]",
      "text/plain": [
       "<Figure size 432x288 with 1 Axes>"
      ]
     },
     "metadata": {
      "needs_background": "light"
     },
     "output_type": "display_data"
    },
    {
     "data": {
      "image/png": "[encoded data removed]",
      "text/plain": [
       "<Figure size 432x288 with 1 Axes>"
      ]
     },
     "metadata": {
      "needs_background": "light"
     },
     "output_type": "display_data"
    }
   ],
   "source": [
    "spec_plot(erp1)"
   ]
  },
  {
   "cell_type": "markdown",
   "metadata": {},
   "source": [
    "# Comparing different channels"
   ]
  },
  {
   "cell_type": "code",
   "execution_count": null,
   "metadata": {},
   "outputs": [],
   "source": []
  }
 ],
 "metadata": {
  "kernelspec": {
   "display_name": "Python 3",
   "language": "python",
   "name": "python3"
  },
  "language_info": {
   "codemirror_mode": {
    "name": "ipython",
    "version": 3
   },
   "file_extension": ".py",
   "mimetype": "text/x-python",
   "name": "python",
   "nbconvert_exporter": "python",
   "pygments_lexer": "ipython3",
   "version": "3.7.3"
  }
 },
 "nbformat": 4,
 "nbformat_minor": 2
}
