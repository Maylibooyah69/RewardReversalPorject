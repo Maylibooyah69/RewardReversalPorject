{
 "cells": [
  {
   "cell_type": "code",
   "execution_count": 41,
   "metadata": {},
   "outputs": [],
   "source": [
    "import numpy as np\n",
    "import random\n",
    "from scipy.optimize import minimize\n",
    "import matplotlib.pyplot as plt"
   ]
  },
  {
   "cell_type": "code",
   "execution_count": 10,
   "metadata": {
    "collapsed": true
   },
   "outputs": [],
   "source": [
    "# sigmoid function for nd; return the value of sigmoid with argument beta\n",
    "# q can be n dimensional, either list or int/float\n",
    "# beta should be between 0 and 1; determine the sharpness of sigmoid\n",
    "# we can also try different functions here\n",
    "def sigmoid(beta,q):\n",
    "    q=np.array(q)\n",
    "    val = 1/(1+np.exp(0-beta*q))\n",
    "    return val\n",
    "def ratchose(Q): # 0 means left\n",
    "    if random.uniform(0,1)<sigmoid(beta,Q[0]-Q[1]):\n",
    "        return np.array([1,0])\n",
    "    else:\n",
    "        return np.array([0,1]) "
   ]
  },
  {
   "cell_type": "code",
   "execution_count": 11,
   "metadata": {
    "collapsed": true
   },
   "outputs": [],
   "source": [
    "class toyQ_2choice:\n",
    "    '''a unchanging env with probability of giving one\n",
    "    of two rewards based on params to two different choices'''\n",
    "    obs_size=1\n",
    "    action_size=2\n",
    "    def __init__(self,left=0.2,right=0.8,state=0):\n",
    "        self.left=left\n",
    "        self.right=right\n",
    "        self.obslog=[]\n",
    "        self.state=state\n",
    "    def step(self,action,state=0):\n",
    "        '''takes in the action param as a int of 0 or 1\n",
    "        where 0 is go left and 1 is to right, and returns\n",
    "        a return reward where 0 is no reward'''\n",
    "        reward_site = random.uniform(0,1)\n",
    "        if reward_site < self.right and np.array_equal(action,np.array([0,1])):\n",
    "            #if the rat goes right and the reward is on the right\n",
    "            obs=np.array([0,1])\n",
    "        elif reward_site >= self.right and np.array_equal(action,np.array([1,0])):\n",
    "            obs=np.array([1,0])\n",
    "        else:\n",
    "            obs=np.array([0,0])\n",
    "        self.obslog.append(obs)\n",
    "        return obs\n",
    "    \n",
    "class WSLS_rat: # to-do\n",
    "    pass\n",
    "\n",
    "class sig_rat:\n",
    "    def __init__(self,env,alpha=0.2,beta=-4,gamma=0):\n",
    "        # alpha-learning rate, beta-sigmoid slop, gamma-discount factor of future reward\n",
    "        '''Takes in the beta, gamma ,and the \n",
    "        environment of the rat'''\n",
    "        self.choiceLog=[]\n",
    "        self.beta=beta\n",
    "        self.gamma=gamma\n",
    "        self.env=env\n",
    "        self.alpha=alpha\n",
    "        self.action_size=env.action_size\n",
    "        self.obs_size=env.obs_size\n",
    "        self.Q=np.zeros((self.obs_size,)+(self.action_size,)) # Q-table starts from 0\n",
    "        self.Qlog=np.zeros((self.obs_size,)+(self.action_size,))\n",
    "    def get_choice(self): # 0 means left\n",
    "        if random.uniform(0,1)<sigmoid(self.beta,self.Q[self.env.state][0]-self.Q[self.env.state][1]):\n",
    "            self.choice=np.array([1,0])\n",
    "        else:\n",
    "            self.choice=np.array([0,1])\n",
    "        self.choiceLog.append(self.choice)\n",
    "        return self.choice\n",
    "    def update(self,obs):\n",
    "        '''Takes obs/reward and update its Q-table'''\n",
    "        self.Q[self.env.state] = self.Q[self.env.state] + self.alpha*self.choice*\\\n",
    "        (obs + self.gamma*np.max(self.Q[self.env.state])-self.Q[self.env.state])\n",
    "        self.Qlog=np.vstack((self.Qlog,self.Q))\n",
    "        return self.Q[self.env.state]\n",
    "    \n",
    "class FSrat:\n",
    "    def __init__(self,env,alphaF=0.2,alphaS=0.1,beta=-4,gamma=0): # fail and success\n",
    "        # alpha-learning rate, beta-sigmoid slop, gamma-discount factor of future reward\n",
    "        '''Takes in the beta, gamma ,and the \n",
    "        environment of the rat'''\n",
    "        self.choiceLog=[]\n",
    "        self.beta=beta\n",
    "        self.env=env\n",
    "        self.alphaF=alphaF\n",
    "        self.gamma=gamma\n",
    "        self.alphaS=alphaS\n",
    "        self.action_size=env.action_size\n",
    "        self.obs_size=env.obs_size\n",
    "        self.Q=np.zeros((self.obs_size,)+(self.action_size,)) # Q-table starts from 0\n",
    "        self.Qlog=np.zeros((self.obs_size,)+(self.action_size,))\n",
    "    def get_choice(self): #[1,0] means left\n",
    "        if random.uniform(0,1)<sigmoid(self.beta,self.Q[self.env.state][0]-self.Q[self.env.state][1]):\n",
    "            self.choice=np.array([1,0])\n",
    "        else:\n",
    "            self.choice=np.array([0,1])\n",
    "        self.choiceLog.append(self.choice)\n",
    "        return self.choice\n",
    "    def update(self,obs):\n",
    "        '''Takes obs/reward and update its Q-table'''\n",
    "        used_alpha=[self.alphaF,self.alphaS][max(obs)]\n",
    "        self.Q[self.env.state] = self.Q[self.env.state] + used_alpha*self.choice*\\\n",
    "        (obs + self.gamma*np.max(self.Q[self.env.state])-self.Q[self.env.state])\n",
    "        self.Qlog=np.vstack((self.Qlog,self.Q))\n",
    "        return self.Q[self.env.state]\n",
    "    \n",
    "    \n",
    "    \n",
    "def train_rat(env,rat,it_num,every=500):\n",
    "    for i in range(it_num):\n",
    "        action=rat.get_choice()\n",
    "        obs=env.step(action)\n",
    "        rat.update(obs)\n",
    "        if i%every==-1:\n",
    "            print(np.mean(rat.Qlog,axis=0))\n",
    "    return env,rat\n"
   ]
  },
  {
   "cell_type": "code",
   "execution_count": null,
   "metadata": {
    "collapsed": true
   },
   "outputs": [],
   "source": [
    "# demo\n",
    "env=toyQ_2choice()\n",
    "rat=sig_rat(env,alpha=0.02)\n",
    "env,rat=train_rat(env,rat,5000)\n",
    "obslog=np.array(env.obslog)\n",
    "choicelog=np.array(rat.choiceLog) \n",
    "print('reward_log:',np.sum(obslog,axis=0))\n",
    "print('choice_log:',np.sum(choicelog,axis=0))\n",
    "rat.Q"
   ]
  },
  {
   "cell_type": "markdown",
   "metadata": {},
   "source": [
    "## Maximum Likelihood Estimation on beta\n",
    "\n",
    "we cannot give MLE for Q's since likelihood is a function of Q, that is, Q is changing at every timepoint\n",
    "\n",
    "Given the actions(i.e. the turns) and Q value of the agent in every round, maximum likelihood estimation of beta are given here.\n",
    "\n",
    "The action of agent is given by a sigmoid-like function of Q, beta as a parameter."
   ]
  },
  {
   "cell_type": "code",
   "execution_count": 23,
   "metadata": {
    "collapsed": true
   },
   "outputs": [],
   "source": [
    "#for test use\n",
    "#actions = np.random.choice([0,1], size=3, p=[0.2,0.8]) # 0=left, 1=right\n",
    "#rewards = np.random.choice([0,1], size=3, p=[0.2,0.8])"
   ]
  },
  {
   "cell_type": "code",
   "execution_count": 24,
   "metadata": {
    "collapsed": true
   },
   "outputs": [],
   "source": [
    "#Q = np.array([[0,0],[0,0.2],[0.2,0.36]])    #,[0.36,0.688]\n",
    "#beta0 = 0"
   ]
  },
  {
   "cell_type": "code",
   "execution_count": 31,
   "metadata": {
    "collapsed": true
   },
   "outputs": [],
   "source": [
    "# parameter: x, a numpy array of action data; beta, the optimal beta found in simulation; Q, 2d numpy array of QL, QR\n",
    "# x and Q should be of same (row) length\n",
    "# return the sum of log-likelihood\n",
    "def neg_log_likelihood(beta,x,Q): \n",
    "    n = len(x)\n",
    "    sum_ll = 0\n",
    "    for i in range(n):\n",
    "        dQ = Q[i][0] - Q[i][1]\n",
    "        if np.array_equal(x[i],np.array([1,0])):\n",
    "            prob = 1/(np.exp(0-beta*dQ)+1)\n",
    "        else:\n",
    "            prob = 1 - 1/(np.exp(0-beta*dQ)+1)\n",
    "        \n",
    "        sum_ll = sum_ll - np.log(prob)\n",
    "    \n",
    "    return sum_ll"
   ]
  },
  {
   "cell_type": "code",
   "execution_count": 26,
   "metadata": {},
   "outputs": [
    {
     "data": {
      "image/png": "[encoded data removed]",
      "text/plain": [
       "<matplotlib.figure.Figure at 0x15167506d8>"
      ]
     },
     "metadata": {},
     "output_type": "display_data"
    }
   ],
   "source": [
    "import matplotlib.pyplot as plt\n",
    "beta_plot = np.linspace(0,10,100)\n",
    "plt.plot(beta_plot, neg_log_likelihood(beta_plot,actions,Q))\n",
    "plt.show()"
   ]
  },
  {
   "cell_type": "code",
   "execution_count": 68,
   "metadata": {},
   "outputs": [],
   "source": [
    "# function that estimates the maximum-likelihood beta_hat numerically\n",
    "# parameters: actions, a numpy array recording action of agent in each turn; beta is the parameter in density func\n",
    "# return minimization summary and print beta_hat\n",
    "def MLE_beta(actions,Q,beta0):    \n",
    "    result = minimize(neg_log_likelihood,beta0, args=(actions,Q))\n",
    "    if(result.success):\n",
    "        #print(result.message)\n",
    "        #print('The MLE for beta is', result.x)\n",
    "        #print('Iteration =', result.nit)\n",
    "        a=0\n",
    "    else:\n",
    "        print('The optimization did not converge')\n",
    "    return result\n",
    "    \n",
    "    "
   ]
  },
  {
   "cell_type": "code",
   "execution_count": 61,
   "metadata": {
    "collapsed": true
   },
   "outputs": [],
   "source": [
    "# return mse between simulated Q and Q_hat calculated with optimal beta from MLE\n",
    "def Q_distance(iteration,alpha,beta0):\n",
    "    env = toyQ_2choice()\n",
    "    rat = sig_rat(env, alpha=alpha, beta=beta0)\n",
    "    env,rat = train_rat(env,rat,iteration)\n",
    "    Q = np.array(rat.Qlog)\n",
    "    actions = rat.choiceLog\n",
    "    \n",
    "    beta_hat = MLE_beta(actions,Q,beta0).x[0]\n",
    "    \n",
    "    rat_hat = sig_rat(env, alpha=alpha, beta=beta_hat)\n",
    "    env,rat = train_rat(env,rat_hat,iteration)\n",
    "    Q_hat = np.array(rat_hat.Qlog)\n",
    "    \n",
    "    #Q[0]=[0,0] does not matter\n",
    "    mse = np.linalg.norm(Q-Q_hat)**2/iteration \n",
    "    #axis=None perform mean elementwise   (np.square(Q-Q_hat)).mean(axis=None)*2\n",
    "    \n",
    "    return mse\n",
    "    \n",
    "    "
   ]
  },
  {
   "cell_type": "code",
   "execution_count": 62,
   "metadata": {},
   "outputs": [
    {
     "name": "stdout",
     "output_type": "stream",
     "text": [
      "Optimization terminated successfully.\n",
      "The MLE for beta is [0.27691303]\n",
      "Iteration = 3\n"
     ]
    },
    {
     "data": {
      "text/plain": [
       "0.06262544325482636"
      ]
     },
     "execution_count": 62,
     "metadata": {},
     "output_type": "execute_result"
    }
   ],
   "source": [
    "#test\n",
    "Q_distance(300,0.2,0.3)"
   ]
  },
  {
   "cell_type": "code",
   "execution_count": 63,
   "metadata": {},
   "outputs": [
    {
     "name": "stdout",
     "output_type": "stream",
     "text": [
      "Optimization terminated successfully.\n",
      "The MLE for beta is [-8.72275433]\n",
      "Iteration = 5\n",
      "Optimization terminated successfully.\n",
      "The MLE for beta is [-4.25962496]\n",
      "Iteration = 3\n",
      "Optimization terminated successfully.\n",
      "The MLE for beta is [-2.07499777]\n",
      "Iteration = 4\n",
      "Optimization terminated successfully.\n",
      "The MLE for beta is [-1.16749649]\n",
      "Iteration = 4\n",
      "Optimization terminated successfully.\n",
      "The MLE for beta is [-0.90110036]\n",
      "Iteration = 3\n",
      "Optimization terminated successfully.\n",
      "The MLE for beta is [-0.36125609]\n",
      "Iteration = 3\n",
      "Optimization terminated successfully.\n",
      "The MLE for beta is [-0.14628164]\n",
      "Iteration = 4\n",
      "Optimization terminated successfully.\n",
      "The MLE for beta is [-0.22484624]\n",
      "Iteration = 3\n",
      "Optimization terminated successfully.\n",
      "The MLE for beta is [0.52061223]\n",
      "Iteration = 3\n",
      "Optimization terminated successfully.\n",
      "The MLE for beta is [0.44302733]\n",
      "Iteration = 4\n",
      "Optimization terminated successfully.\n",
      "The MLE for beta is [0.94062586]\n",
      "Iteration = 4\n",
      "Optimization terminated successfully.\n",
      "The MLE for beta is [2.07319736]\n",
      "Iteration = 3\n",
      "Optimization terminated successfully.\n",
      "The MLE for beta is [3.53257338]\n",
      "Iteration = 4\n",
      "Optimization terminated successfully.\n",
      "The MLE for beta is [19.64978395]\n",
      "Iteration = 8\n"
     ]
    }
   ],
   "source": [
    "#\n",
    "beta0_list = [-10,-4,-2,-1,-0.8,-0.5,-0.2,0.2,0.5,0.8,1,2,4,10]\n",
    "mse_list = []\n",
    "alpha = 0.2\n",
    "iteration=300\n",
    "for i in range(len(beta0_list)):\n",
    "    mse = Q_distance(iteration,alpha,beta0_list[i])\n",
    "    mse_list.append(mse)"
   ]
  },
  {
   "cell_type": "code",
   "execution_count": 69,
   "metadata": {},
   "outputs": [
    {
     "name": "stdout",
     "output_type": "stream",
     "text": [
      "The optimization did not converge\n"
     ]
    }
   ],
   "source": [
    "#\n",
    "beta0_list = np.linspace(-10,10,100)\n",
    "mse_list = []\n",
    "alpha = 0.2\n",
    "iteration=300\n",
    "for i in range(len(beta0_list)):\n",
    "    mse = Q_distance(iteration,alpha,beta0_list[i])\n",
    "    mse_list.append(mse)"
   ]
  },
  {
   "cell_type": "code",
   "execution_count": 70,
   "metadata": {},
   "outputs": [
    {
     "data": {
      "image/png": "[encoded data removed]",
      "text/plain": [
       "<matplotlib.figure.Figure at 0x1513b02358>"
      ]
     },
     "metadata": {},
     "output_type": "display_data"
    }
   ],
   "source": [
    "#plot\n",
    "plt.plot(beta0_list,mse_list)\n",
    "plt.show()"
   ]
  },
  {
   "cell_type": "code",
   "execution_count": null,
   "metadata": {
    "collapsed": true
   },
   "outputs": [],
   "source": []
  }
 ],
 "metadata": {
  "kernelspec": {
   "display_name": "Python 3",
   "language": "python",
   "name": "python3"
  },
  "language_info": {
   "codemirror_mode": {
    "name": "ipython",
    "version": 3
   },
   "file_extension": ".py",
   "mimetype": "text/x-python",
   "name": "python",
   "nbconvert_exporter": "python",
   "pygments_lexer": "ipython3",
   "version": "3.6.3"
  }
 },
 "nbformat": 4,
 "nbformat_minor": 2
}
